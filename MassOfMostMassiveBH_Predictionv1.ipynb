{
  "nbformat": 4,
  "nbformat_minor": 0,
  "metadata": {
    "colab": {
      "provenance": [],
      "collapsed_sections": [],
      "include_colab_link": true
    },
    "kernelspec": {
      "name": "python3",
      "display_name": "Python 3"
    },
    "language_info": {
      "name": "python"
    },
    "accelerator": "GPU",
    "gpuClass": "standard"
  },
  "cells": [
    {
      "cell_type": "markdown",
      "metadata": {
        "id": "view-in-github",
        "colab_type": "text"
      },
      "source": [
        "<a href=\"https://colab.research.google.com/github/Niveditha-K17/BHDetection_GlobularClusters/blob/main/MassOfMostMassiveBH_Predictionv1.ipynb\" target=\"_parent\"><img src=\"https://colab.research.google.com/assets/colab-badge.svg\" alt=\"Open In Colab\"/></a>"
      ]
    },
    {
      "cell_type": "markdown",
      "source": [
        "## Importing necessary libraries and Pre-processing"
      ],
      "metadata": {
        "id": "McJHNUut6Kwj"
      }
    },
    {
      "cell_type": "code",
      "execution_count": 1,
      "metadata": {
        "id": "RsSPs-uMBOTz"
      },
      "outputs": [],
      "source": [
        "import pandas as pd\n",
        "import numpy as np\n",
        "import matplotlib.pyplot as plt"
      ]
    },
    {
      "cell_type": "code",
      "source": [
        "from google.colab import drive\n",
        "drive.mount('/content/drive')"
      ],
      "metadata": {
        "colab": {
          "base_uri": "https://localhost:8080/"
        },
        "id": "HDMxe_X_SRyc",
        "outputId": "efe75528-6354-4ed6-8749-c0c55d1548bc"
      },
      "execution_count": 2,
      "outputs": [
        {
          "output_type": "stream",
          "name": "stdout",
          "text": [
            "Mounted at /content/drive\n"
          ]
        }
      ]
    },
    {
      "cell_type": "code",
      "source": [
        "data = pd.read_csv(\"/content/drive/MyDrive/DA_Project/simulations.csv\")\n",
        "data"
      ],
      "metadata": {
        "id": "2qLB7yBTCOJW",
        "colab": {
          "base_uri": "https://localhost:8080/",
          "height": 592
        },
        "outputId": "5cc45ac2-16a0-418c-d1c5-5533a76fb4ff"
      },
      "execution_count": 3,
      "outputs": [
        {
          "output_type": "execute_result",
          "data": {
            "text/plain": [
              "      Galactocentric Raidus  Cluster Metallicity  \\\n",
              "0                  4.483209                0.001   \n",
              "1                  4.483209                0.001   \n",
              "2                  4.483209                0.001   \n",
              "3                  4.483209                0.001   \n",
              "4                  4.483209                0.001   \n",
              "...                     ...                  ...   \n",
              "1291               8.961667                0.001   \n",
              "1292               8.961667                0.001   \n",
              "1293               8.961667                0.001   \n",
              "1294               8.961667                0.001   \n",
              "1295               8.961667                0.001   \n",
              "\n",
              "      Number of Objects in the Cluster  Cluster Mass  \\\n",
              "0                                38920    23593.2395   \n",
              "1                               505043   164640.2310   \n",
              "2                               479417   158782.2470   \n",
              "3                               504171   173094.5800   \n",
              "4                               501245   172722.6840   \n",
              "...                                ...           ...   \n",
              "1291                            430575   153829.5090   \n",
              "1292                           1148111   378797.8470   \n",
              "1293                           1121134   376044.7900   \n",
              "1294                           1124046   372312.7040   \n",
              "1295                           1060404   358251.7990   \n",
              "\n",
              "      Observational Core Radius  Observational Half-Light Radius  \\\n",
              "0                      0.381992                         3.413317   \n",
              "1                      0.368883                         2.491200   \n",
              "2                      0.053349                         1.930993   \n",
              "3                      0.239726                         2.193033   \n",
              "4                      0.458644                         2.537746   \n",
              "...                         ...                              ...   \n",
              "1291                   8.186195                        11.196129   \n",
              "1292                   0.363009                         4.047745   \n",
              "1293                   0.276965                         5.093038   \n",
              "1294                   0.876489                         6.211617   \n",
              "1295                   4.960723                         9.352212   \n",
              "\n",
              "      Central Surface Brightness Total  Binary Fraction  \\\n",
              "0                           109.654400         0.399229   \n",
              "1                         34827.624400         0.099239   \n",
              "2                        100139.011000         0.130133   \n",
              "3                         13710.088900         0.184856   \n",
              "4                          2589.006420         0.192672   \n",
              "...                                ...              ...   \n",
              "1291                        124.013015         0.084009   \n",
              "1292                     121091.456000         0.049244   \n",
              "1293                      50124.732700         0.050766   \n",
              "1294                       7679.070830         0.059884   \n",
              "1295                        591.695393         0.073547   \n",
              "\n",
              "      Half-Mass Relaxation Time  Total Luminosity of Cluster at 12 Gyrs  ...  \\\n",
              "0                    885.619718                              20229.8993  ...   \n",
              "1                   3460.547220                              77000.7159  ...   \n",
              "2                   2958.528450                              73983.4991  ...   \n",
              "3                   3949.593890                              85496.8882  ...   \n",
              "4                   4089.662060                              78996.9967  ...   \n",
              "...                         ...                                     ...  ...   \n",
              "1291               17004.436600                              87728.4511  ...   \n",
              "1292                7780.207680                             208888.6760  ...   \n",
              "1293                8518.287010                             205882.5110  ...   \n",
              "1294               13372.708500                             206975.9980  ...   \n",
              "1295               19822.877400                             196080.6450  ...   \n",
              "\n",
              "      Half-light radius obtained from King 62 fitting  \\\n",
              "0                                             3.85929   \n",
              "1                                             2.54377   \n",
              "2                                             2.03162   \n",
              "3                                             2.42598   \n",
              "4                                             2.64693   \n",
              "...                                               ...   \n",
              "1291                                         12.88920   \n",
              "1292                                          4.21363   \n",
              "1293                                          5.49906   \n",
              "1294                                          6.75933   \n",
              "1295                                          9.61243   \n",
              "\n",
              "      Total luminosity from snap-2D  Single Black Holes  Binary Black Holes  \\\n",
              "0                           14969.5                   0                   1   \n",
              "1                           55168.4                   1                   0   \n",
              "2                           54178.7                   1                   0   \n",
              "3                           61475.5                   0                   0   \n",
              "4                           58285.7                   3                   1   \n",
              "...                             ...                 ...                 ...   \n",
              "1291                        59061.0                 421                   5   \n",
              "1292                       148172.0                   1                   0   \n",
              "1293                       143544.0                   5                   0   \n",
              "1294                       144985.0                   2                   0   \n",
              "1295                       141820.0                 452                   6   \n",
              "\n",
              "      Black Hole Other Count  Mass of Most Massive Black Hole  \\\n",
              "0                          0                        21.994084   \n",
              "1                          0                      5871.062390   \n",
              "2                          0                         5.907700   \n",
              "3                          1                        17.542009   \n",
              "4                          0                        12.388086   \n",
              "...                      ...                              ...   \n",
              "1291                       5                        26.195472   \n",
              "1292                       0                      8141.942800   \n",
              "1293                       0                     14571.972300   \n",
              "1294                       0                      4528.488600   \n",
              "1295                       1                        24.838628   \n",
              "\n",
              "      Fallback Enabled  Central Velocity Dispersion  Unnamed: 22  Unnamed: 23  \n",
              "0                    0                      1.94718       575.27       792.36  \n",
              "1                    0                     10.15090      6338.30     22914.00  \n",
              "2                    1                      5.44959    171360.00     93731.00  \n",
              "3                    0                      4.87986     22645.00     35459.00  \n",
              "4                    1                      4.49099      7351.00     12222.00  \n",
              "...                ...                          ...          ...          ...  \n",
              "1291                 1                      3.74500       114.81       818.16  \n",
              "1292                 0                      9.27809     10004.00     27489.00  \n",
              "1293                 1                     12.35760     11224.00     25443.00  \n",
              "1294                 0                      7.20535      4501.60     15058.00  \n",
              "1295                 1                      5.35266       668.04      3489.30  \n",
              "\n",
              "[1296 rows x 24 columns]"
            ],
            "text/html": [
              "\n",
              "  <div id=\"df-ac68ff45-168b-4e53-9251-0c1688a9111c\">\n",
              "    <div class=\"colab-df-container\">\n",
              "      <div>\n",
              "<style scoped>\n",
              "    .dataframe tbody tr th:only-of-type {\n",
              "        vertical-align: middle;\n",
              "    }\n",
              "\n",
              "    .dataframe tbody tr th {\n",
              "        vertical-align: top;\n",
              "    }\n",
              "\n",
              "    .dataframe thead th {\n",
              "        text-align: right;\n",
              "    }\n",
              "</style>\n",
              "<table border=\"1\" class=\"dataframe\">\n",
              "  <thead>\n",
              "    <tr style=\"text-align: right;\">\n",
              "      <th></th>\n",
              "      <th>Galactocentric Raidus</th>\n",
              "      <th>Cluster Metallicity</th>\n",
              "      <th>Number of Objects in the Cluster</th>\n",
              "      <th>Cluster Mass</th>\n",
              "      <th>Observational Core Radius</th>\n",
              "      <th>Observational Half-Light Radius</th>\n",
              "      <th>Central Surface Brightness Total</th>\n",
              "      <th>Binary Fraction</th>\n",
              "      <th>Half-Mass Relaxation Time</th>\n",
              "      <th>Total Luminosity of Cluster at 12 Gyrs</th>\n",
              "      <th>...</th>\n",
              "      <th>Half-light radius obtained from King 62 fitting</th>\n",
              "      <th>Total luminosity from snap-2D</th>\n",
              "      <th>Single Black Holes</th>\n",
              "      <th>Binary Black Holes</th>\n",
              "      <th>Black Hole Other Count</th>\n",
              "      <th>Mass of Most Massive Black Hole</th>\n",
              "      <th>Fallback Enabled</th>\n",
              "      <th>Central Velocity Dispersion</th>\n",
              "      <th>Unnamed: 22</th>\n",
              "      <th>Unnamed: 23</th>\n",
              "    </tr>\n",
              "  </thead>\n",
              "  <tbody>\n",
              "    <tr>\n",
              "      <th>0</th>\n",
              "      <td>4.483209</td>\n",
              "      <td>0.001</td>\n",
              "      <td>38920</td>\n",
              "      <td>23593.2395</td>\n",
              "      <td>0.381992</td>\n",
              "      <td>3.413317</td>\n",
              "      <td>109.654400</td>\n",
              "      <td>0.399229</td>\n",
              "      <td>885.619718</td>\n",
              "      <td>20229.8993</td>\n",
              "      <td>...</td>\n",
              "      <td>3.85929</td>\n",
              "      <td>14969.5</td>\n",
              "      <td>0</td>\n",
              "      <td>1</td>\n",
              "      <td>0</td>\n",
              "      <td>21.994084</td>\n",
              "      <td>0</td>\n",
              "      <td>1.94718</td>\n",
              "      <td>575.27</td>\n",
              "      <td>792.36</td>\n",
              "    </tr>\n",
              "    <tr>\n",
              "      <th>1</th>\n",
              "      <td>4.483209</td>\n",
              "      <td>0.001</td>\n",
              "      <td>505043</td>\n",
              "      <td>164640.2310</td>\n",
              "      <td>0.368883</td>\n",
              "      <td>2.491200</td>\n",
              "      <td>34827.624400</td>\n",
              "      <td>0.099239</td>\n",
              "      <td>3460.547220</td>\n",
              "      <td>77000.7159</td>\n",
              "      <td>...</td>\n",
              "      <td>2.54377</td>\n",
              "      <td>55168.4</td>\n",
              "      <td>1</td>\n",
              "      <td>0</td>\n",
              "      <td>0</td>\n",
              "      <td>5871.062390</td>\n",
              "      <td>0</td>\n",
              "      <td>10.15090</td>\n",
              "      <td>6338.30</td>\n",
              "      <td>22914.00</td>\n",
              "    </tr>\n",
              "    <tr>\n",
              "      <th>2</th>\n",
              "      <td>4.483209</td>\n",
              "      <td>0.001</td>\n",
              "      <td>479417</td>\n",
              "      <td>158782.2470</td>\n",
              "      <td>0.053349</td>\n",
              "      <td>1.930993</td>\n",
              "      <td>100139.011000</td>\n",
              "      <td>0.130133</td>\n",
              "      <td>2958.528450</td>\n",
              "      <td>73983.4991</td>\n",
              "      <td>...</td>\n",
              "      <td>2.03162</td>\n",
              "      <td>54178.7</td>\n",
              "      <td>1</td>\n",
              "      <td>0</td>\n",
              "      <td>0</td>\n",
              "      <td>5.907700</td>\n",
              "      <td>1</td>\n",
              "      <td>5.44959</td>\n",
              "      <td>171360.00</td>\n",
              "      <td>93731.00</td>\n",
              "    </tr>\n",
              "    <tr>\n",
              "      <th>3</th>\n",
              "      <td>4.483209</td>\n",
              "      <td>0.001</td>\n",
              "      <td>504171</td>\n",
              "      <td>173094.5800</td>\n",
              "      <td>0.239726</td>\n",
              "      <td>2.193033</td>\n",
              "      <td>13710.088900</td>\n",
              "      <td>0.184856</td>\n",
              "      <td>3949.593890</td>\n",
              "      <td>85496.8882</td>\n",
              "      <td>...</td>\n",
              "      <td>2.42598</td>\n",
              "      <td>61475.5</td>\n",
              "      <td>0</td>\n",
              "      <td>0</td>\n",
              "      <td>1</td>\n",
              "      <td>17.542009</td>\n",
              "      <td>0</td>\n",
              "      <td>4.87986</td>\n",
              "      <td>22645.00</td>\n",
              "      <td>35459.00</td>\n",
              "    </tr>\n",
              "    <tr>\n",
              "      <th>4</th>\n",
              "      <td>4.483209</td>\n",
              "      <td>0.001</td>\n",
              "      <td>501245</td>\n",
              "      <td>172722.6840</td>\n",
              "      <td>0.458644</td>\n",
              "      <td>2.537746</td>\n",
              "      <td>2589.006420</td>\n",
              "      <td>0.192672</td>\n",
              "      <td>4089.662060</td>\n",
              "      <td>78996.9967</td>\n",
              "      <td>...</td>\n",
              "      <td>2.64693</td>\n",
              "      <td>58285.7</td>\n",
              "      <td>3</td>\n",
              "      <td>1</td>\n",
              "      <td>0</td>\n",
              "      <td>12.388086</td>\n",
              "      <td>1</td>\n",
              "      <td>4.49099</td>\n",
              "      <td>7351.00</td>\n",
              "      <td>12222.00</td>\n",
              "    </tr>\n",
              "    <tr>\n",
              "      <th>...</th>\n",
              "      <td>...</td>\n",
              "      <td>...</td>\n",
              "      <td>...</td>\n",
              "      <td>...</td>\n",
              "      <td>...</td>\n",
              "      <td>...</td>\n",
              "      <td>...</td>\n",
              "      <td>...</td>\n",
              "      <td>...</td>\n",
              "      <td>...</td>\n",
              "      <td>...</td>\n",
              "      <td>...</td>\n",
              "      <td>...</td>\n",
              "      <td>...</td>\n",
              "      <td>...</td>\n",
              "      <td>...</td>\n",
              "      <td>...</td>\n",
              "      <td>...</td>\n",
              "      <td>...</td>\n",
              "      <td>...</td>\n",
              "      <td>...</td>\n",
              "    </tr>\n",
              "    <tr>\n",
              "      <th>1291</th>\n",
              "      <td>8.961667</td>\n",
              "      <td>0.001</td>\n",
              "      <td>430575</td>\n",
              "      <td>153829.5090</td>\n",
              "      <td>8.186195</td>\n",
              "      <td>11.196129</td>\n",
              "      <td>124.013015</td>\n",
              "      <td>0.084009</td>\n",
              "      <td>17004.436600</td>\n",
              "      <td>87728.4511</td>\n",
              "      <td>...</td>\n",
              "      <td>12.88920</td>\n",
              "      <td>59061.0</td>\n",
              "      <td>421</td>\n",
              "      <td>5</td>\n",
              "      <td>5</td>\n",
              "      <td>26.195472</td>\n",
              "      <td>1</td>\n",
              "      <td>3.74500</td>\n",
              "      <td>114.81</td>\n",
              "      <td>818.16</td>\n",
              "    </tr>\n",
              "    <tr>\n",
              "      <th>1292</th>\n",
              "      <td>8.961667</td>\n",
              "      <td>0.001</td>\n",
              "      <td>1148111</td>\n",
              "      <td>378797.8470</td>\n",
              "      <td>0.363009</td>\n",
              "      <td>4.047745</td>\n",
              "      <td>121091.456000</td>\n",
              "      <td>0.049244</td>\n",
              "      <td>7780.207680</td>\n",
              "      <td>208888.6760</td>\n",
              "      <td>...</td>\n",
              "      <td>4.21363</td>\n",
              "      <td>148172.0</td>\n",
              "      <td>1</td>\n",
              "      <td>0</td>\n",
              "      <td>0</td>\n",
              "      <td>8141.942800</td>\n",
              "      <td>0</td>\n",
              "      <td>9.27809</td>\n",
              "      <td>10004.00</td>\n",
              "      <td>27489.00</td>\n",
              "    </tr>\n",
              "    <tr>\n",
              "      <th>1293</th>\n",
              "      <td>8.961667</td>\n",
              "      <td>0.001</td>\n",
              "      <td>1121134</td>\n",
              "      <td>376044.7900</td>\n",
              "      <td>0.276965</td>\n",
              "      <td>5.093038</td>\n",
              "      <td>50124.732700</td>\n",
              "      <td>0.050766</td>\n",
              "      <td>8518.287010</td>\n",
              "      <td>205882.5110</td>\n",
              "      <td>...</td>\n",
              "      <td>5.49906</td>\n",
              "      <td>143544.0</td>\n",
              "      <td>5</td>\n",
              "      <td>0</td>\n",
              "      <td>0</td>\n",
              "      <td>14571.972300</td>\n",
              "      <td>1</td>\n",
              "      <td>12.35760</td>\n",
              "      <td>11224.00</td>\n",
              "      <td>25443.00</td>\n",
              "    </tr>\n",
              "    <tr>\n",
              "      <th>1294</th>\n",
              "      <td>8.961667</td>\n",
              "      <td>0.001</td>\n",
              "      <td>1124046</td>\n",
              "      <td>372312.7040</td>\n",
              "      <td>0.876489</td>\n",
              "      <td>6.211617</td>\n",
              "      <td>7679.070830</td>\n",
              "      <td>0.059884</td>\n",
              "      <td>13372.708500</td>\n",
              "      <td>206975.9980</td>\n",
              "      <td>...</td>\n",
              "      <td>6.75933</td>\n",
              "      <td>144985.0</td>\n",
              "      <td>2</td>\n",
              "      <td>0</td>\n",
              "      <td>0</td>\n",
              "      <td>4528.488600</td>\n",
              "      <td>0</td>\n",
              "      <td>7.20535</td>\n",
              "      <td>4501.60</td>\n",
              "      <td>15058.00</td>\n",
              "    </tr>\n",
              "    <tr>\n",
              "      <th>1295</th>\n",
              "      <td>8.961667</td>\n",
              "      <td>0.001</td>\n",
              "      <td>1060404</td>\n",
              "      <td>358251.7990</td>\n",
              "      <td>4.960723</td>\n",
              "      <td>9.352212</td>\n",
              "      <td>591.695393</td>\n",
              "      <td>0.073547</td>\n",
              "      <td>19822.877400</td>\n",
              "      <td>196080.6450</td>\n",
              "      <td>...</td>\n",
              "      <td>9.61243</td>\n",
              "      <td>141820.0</td>\n",
              "      <td>452</td>\n",
              "      <td>6</td>\n",
              "      <td>1</td>\n",
              "      <td>24.838628</td>\n",
              "      <td>1</td>\n",
              "      <td>5.35266</td>\n",
              "      <td>668.04</td>\n",
              "      <td>3489.30</td>\n",
              "    </tr>\n",
              "  </tbody>\n",
              "</table>\n",
              "<p>1296 rows × 24 columns</p>\n",
              "</div>\n",
              "      <button class=\"colab-df-convert\" onclick=\"convertToInteractive('df-ac68ff45-168b-4e53-9251-0c1688a9111c')\"\n",
              "              title=\"Convert this dataframe to an interactive table.\"\n",
              "              style=\"display:none;\">\n",
              "        \n",
              "  <svg xmlns=\"http://www.w3.org/2000/svg\" height=\"24px\"viewBox=\"0 0 24 24\"\n",
              "       width=\"24px\">\n",
              "    <path d=\"M0 0h24v24H0V0z\" fill=\"none\"/>\n",
              "    <path d=\"M18.56 5.44l.94 2.06.94-2.06 2.06-.94-2.06-.94-.94-2.06-.94 2.06-2.06.94zm-11 1L8.5 8.5l.94-2.06 2.06-.94-2.06-.94L8.5 2.5l-.94 2.06-2.06.94zm10 10l.94 2.06.94-2.06 2.06-.94-2.06-.94-.94-2.06-.94 2.06-2.06.94z\"/><path d=\"M17.41 7.96l-1.37-1.37c-.4-.4-.92-.59-1.43-.59-.52 0-1.04.2-1.43.59L10.3 9.45l-7.72 7.72c-.78.78-.78 2.05 0 2.83L4 21.41c.39.39.9.59 1.41.59.51 0 1.02-.2 1.41-.59l7.78-7.78 2.81-2.81c.8-.78.8-2.07 0-2.86zM5.41 20L4 18.59l7.72-7.72 1.47 1.35L5.41 20z\"/>\n",
              "  </svg>\n",
              "      </button>\n",
              "      \n",
              "  <style>\n",
              "    .colab-df-container {\n",
              "      display:flex;\n",
              "      flex-wrap:wrap;\n",
              "      gap: 12px;\n",
              "    }\n",
              "\n",
              "    .colab-df-convert {\n",
              "      background-color: #E8F0FE;\n",
              "      border: none;\n",
              "      border-radius: 50%;\n",
              "      cursor: pointer;\n",
              "      display: none;\n",
              "      fill: #1967D2;\n",
              "      height: 32px;\n",
              "      padding: 0 0 0 0;\n",
              "      width: 32px;\n",
              "    }\n",
              "\n",
              "    .colab-df-convert:hover {\n",
              "      background-color: #E2EBFA;\n",
              "      box-shadow: 0px 1px 2px rgba(60, 64, 67, 0.3), 0px 1px 3px 1px rgba(60, 64, 67, 0.15);\n",
              "      fill: #174EA6;\n",
              "    }\n",
              "\n",
              "    [theme=dark] .colab-df-convert {\n",
              "      background-color: #3B4455;\n",
              "      fill: #D2E3FC;\n",
              "    }\n",
              "\n",
              "    [theme=dark] .colab-df-convert:hover {\n",
              "      background-color: #434B5C;\n",
              "      box-shadow: 0px 1px 3px 1px rgba(0, 0, 0, 0.15);\n",
              "      filter: drop-shadow(0px 1px 2px rgba(0, 0, 0, 0.3));\n",
              "      fill: #FFFFFF;\n",
              "    }\n",
              "  </style>\n",
              "\n",
              "      <script>\n",
              "        const buttonEl =\n",
              "          document.querySelector('#df-ac68ff45-168b-4e53-9251-0c1688a9111c button.colab-df-convert');\n",
              "        buttonEl.style.display =\n",
              "          google.colab.kernel.accessAllowed ? 'block' : 'none';\n",
              "\n",
              "        async function convertToInteractive(key) {\n",
              "          const element = document.querySelector('#df-ac68ff45-168b-4e53-9251-0c1688a9111c');\n",
              "          const dataTable =\n",
              "            await google.colab.kernel.invokeFunction('convertToInteractive',\n",
              "                                                     [key], {});\n",
              "          if (!dataTable) return;\n",
              "\n",
              "          const docLinkHtml = 'Like what you see? Visit the ' +\n",
              "            '<a target=\"_blank\" href=https://colab.research.google.com/notebooks/data_table.ipynb>data table notebook</a>'\n",
              "            + ' to learn more about interactive tables.';\n",
              "          element.innerHTML = '';\n",
              "          dataTable['output_type'] = 'display_data';\n",
              "          await google.colab.output.renderOutput(dataTable, element);\n",
              "          const docLink = document.createElement('div');\n",
              "          docLink.innerHTML = docLinkHtml;\n",
              "          element.appendChild(docLink);\n",
              "        }\n",
              "      </script>\n",
              "    </div>\n",
              "  </div>\n",
              "  "
            ]
          },
          "metadata": {},
          "execution_count": 3
        }
      ]
    },
    {
      "cell_type": "code",
      "source": [
        "data.rename(columns = {'Number of Objects in the Cluster':'#Objects in Cluster',\n",
        "                       'Observational Core Radius':'Ob Core Radius',\n",
        "                       'Observational Half-Light Radius':'Ob Half-Light Radius',\n",
        "                       'Central Surface Brightness Total':'CS Brightness',\n",
        "                       'Half-Mass Relaxation Time':'HM Rel Time',\n",
        "                       'Total Luminosity of Cluster at 12 Gyrs':'TLC at 12 Gyrs',\n",
        "                       'Central surface brightness from King 62 fitting of cumulative luminosity profile from snap-2D.dat':'CS Brightness from K62',\n",
        "                       'Core radius obtained from King 62 fitting of snap-2D.dat':'Core Radius from K62',\n",
        "                       'Half-light radius obtained from King 62 fitting':'Half Radius from K62',\n",
        "                       'Mass of Most Massive Black Hole':'Mass of Most Massive BH'\n",
        "                      }, inplace = True)"
      ],
      "metadata": {
        "id": "F8tv2DQQV0n2"
      },
      "execution_count": 4,
      "outputs": []
    },
    {
      "cell_type": "code",
      "source": [
        "data = data.iloc[:,:-2]\n",
        "data"
      ],
      "metadata": {
        "colab": {
          "base_uri": "https://localhost:8080/",
          "height": 540
        },
        "id": "SuQf78vNCV0e",
        "outputId": "a115bb5d-3f51-44e1-c0d9-813079587cbc"
      },
      "execution_count": 5,
      "outputs": [
        {
          "output_type": "execute_result",
          "data": {
            "text/plain": [
              "      Galactocentric Raidus  Cluster Metallicity  #Objects in Cluster  \\\n",
              "0                  4.483209                0.001                38920   \n",
              "1                  4.483209                0.001               505043   \n",
              "2                  4.483209                0.001               479417   \n",
              "3                  4.483209                0.001               504171   \n",
              "4                  4.483209                0.001               501245   \n",
              "...                     ...                  ...                  ...   \n",
              "1291               8.961667                0.001               430575   \n",
              "1292               8.961667                0.001              1148111   \n",
              "1293               8.961667                0.001              1121134   \n",
              "1294               8.961667                0.001              1124046   \n",
              "1295               8.961667                0.001              1060404   \n",
              "\n",
              "      Cluster Mass  Ob Core Radius  Ob Half-Light Radius  CS Brightness  \\\n",
              "0       23593.2395        0.381992              3.413317     109.654400   \n",
              "1      164640.2310        0.368883              2.491200   34827.624400   \n",
              "2      158782.2470        0.053349              1.930993  100139.011000   \n",
              "3      173094.5800        0.239726              2.193033   13710.088900   \n",
              "4      172722.6840        0.458644              2.537746    2589.006420   \n",
              "...            ...             ...                   ...            ...   \n",
              "1291   153829.5090        8.186195             11.196129     124.013015   \n",
              "1292   378797.8470        0.363009              4.047745  121091.456000   \n",
              "1293   376044.7900        0.276965              5.093038   50124.732700   \n",
              "1294   372312.7040        0.876489              6.211617    7679.070830   \n",
              "1295   358251.7990        4.960723              9.352212     591.695393   \n",
              "\n",
              "      Binary Fraction   HM Rel Time  TLC at 12 Gyrs  ...  \\\n",
              "0            0.399229    885.619718      20229.8993  ...   \n",
              "1            0.099239   3460.547220      77000.7159  ...   \n",
              "2            0.130133   2958.528450      73983.4991  ...   \n",
              "3            0.184856   3949.593890      85496.8882  ...   \n",
              "4            0.192672   4089.662060      78996.9967  ...   \n",
              "...               ...           ...             ...  ...   \n",
              "1291         0.084009  17004.436600      87728.4511  ...   \n",
              "1292         0.049244   7780.207680     208888.6760  ...   \n",
              "1293         0.050766   8518.287010     205882.5110  ...   \n",
              "1294         0.059884  13372.708500     206975.9980  ...   \n",
              "1295         0.073547  19822.877400     196080.6450  ...   \n",
              "\n",
              "      CS Brightness from K62  Core Radius from K62  Half Radius from K62  \\\n",
              "0                 423.668974              1.781371               3.85929   \n",
              "1                4073.650913              1.031188               2.54377   \n",
              "2               24778.675830              0.298724               2.03162   \n",
              "3               14689.387400              0.435038               2.42598   \n",
              "4                6212.542260              0.757504               2.64693   \n",
              "...                      ...                   ...                   ...   \n",
              "1291              111.583976              8.542639              12.88920   \n",
              "1292             4941.017507              1.497158               4.21363   \n",
              "1293             4136.404926              1.325894               5.49906   \n",
              "1294             3122.623280              1.524092               6.75933   \n",
              "1295              505.785326              6.846472               9.61243   \n",
              "\n",
              "      Total luminosity from snap-2D  Single Black Holes  Binary Black Holes  \\\n",
              "0                           14969.5                   0                   1   \n",
              "1                           55168.4                   1                   0   \n",
              "2                           54178.7                   1                   0   \n",
              "3                           61475.5                   0                   0   \n",
              "4                           58285.7                   3                   1   \n",
              "...                             ...                 ...                 ...   \n",
              "1291                        59061.0                 421                   5   \n",
              "1292                       148172.0                   1                   0   \n",
              "1293                       143544.0                   5                   0   \n",
              "1294                       144985.0                   2                   0   \n",
              "1295                       141820.0                 452                   6   \n",
              "\n",
              "      Black Hole Other Count  Mass of Most Massive BH  Fallback Enabled  \\\n",
              "0                          0                21.994084                 0   \n",
              "1                          0              5871.062390                 0   \n",
              "2                          0                 5.907700                 1   \n",
              "3                          1                17.542009                 0   \n",
              "4                          0                12.388086                 1   \n",
              "...                      ...                      ...               ...   \n",
              "1291                       5                26.195472                 1   \n",
              "1292                       0              8141.942800                 0   \n",
              "1293                       0             14571.972300                 1   \n",
              "1294                       0              4528.488600                 0   \n",
              "1295                       1                24.838628                 1   \n",
              "\n",
              "      Central Velocity Dispersion  \n",
              "0                         1.94718  \n",
              "1                        10.15090  \n",
              "2                         5.44959  \n",
              "3                         4.87986  \n",
              "4                         4.49099  \n",
              "...                           ...  \n",
              "1291                      3.74500  \n",
              "1292                      9.27809  \n",
              "1293                     12.35760  \n",
              "1294                      7.20535  \n",
              "1295                      5.35266  \n",
              "\n",
              "[1296 rows x 22 columns]"
            ],
            "text/html": [
              "\n",
              "  <div id=\"df-5092edd7-5ada-4356-a6c6-5036eebfe864\">\n",
              "    <div class=\"colab-df-container\">\n",
              "      <div>\n",
              "<style scoped>\n",
              "    .dataframe tbody tr th:only-of-type {\n",
              "        vertical-align: middle;\n",
              "    }\n",
              "\n",
              "    .dataframe tbody tr th {\n",
              "        vertical-align: top;\n",
              "    }\n",
              "\n",
              "    .dataframe thead th {\n",
              "        text-align: right;\n",
              "    }\n",
              "</style>\n",
              "<table border=\"1\" class=\"dataframe\">\n",
              "  <thead>\n",
              "    <tr style=\"text-align: right;\">\n",
              "      <th></th>\n",
              "      <th>Galactocentric Raidus</th>\n",
              "      <th>Cluster Metallicity</th>\n",
              "      <th>#Objects in Cluster</th>\n",
              "      <th>Cluster Mass</th>\n",
              "      <th>Ob Core Radius</th>\n",
              "      <th>Ob Half-Light Radius</th>\n",
              "      <th>CS Brightness</th>\n",
              "      <th>Binary Fraction</th>\n",
              "      <th>HM Rel Time</th>\n",
              "      <th>TLC at 12 Gyrs</th>\n",
              "      <th>...</th>\n",
              "      <th>CS Brightness from K62</th>\n",
              "      <th>Core Radius from K62</th>\n",
              "      <th>Half Radius from K62</th>\n",
              "      <th>Total luminosity from snap-2D</th>\n",
              "      <th>Single Black Holes</th>\n",
              "      <th>Binary Black Holes</th>\n",
              "      <th>Black Hole Other Count</th>\n",
              "      <th>Mass of Most Massive BH</th>\n",
              "      <th>Fallback Enabled</th>\n",
              "      <th>Central Velocity Dispersion</th>\n",
              "    </tr>\n",
              "  </thead>\n",
              "  <tbody>\n",
              "    <tr>\n",
              "      <th>0</th>\n",
              "      <td>4.483209</td>\n",
              "      <td>0.001</td>\n",
              "      <td>38920</td>\n",
              "      <td>23593.2395</td>\n",
              "      <td>0.381992</td>\n",
              "      <td>3.413317</td>\n",
              "      <td>109.654400</td>\n",
              "      <td>0.399229</td>\n",
              "      <td>885.619718</td>\n",
              "      <td>20229.8993</td>\n",
              "      <td>...</td>\n",
              "      <td>423.668974</td>\n",
              "      <td>1.781371</td>\n",
              "      <td>3.85929</td>\n",
              "      <td>14969.5</td>\n",
              "      <td>0</td>\n",
              "      <td>1</td>\n",
              "      <td>0</td>\n",
              "      <td>21.994084</td>\n",
              "      <td>0</td>\n",
              "      <td>1.94718</td>\n",
              "    </tr>\n",
              "    <tr>\n",
              "      <th>1</th>\n",
              "      <td>4.483209</td>\n",
              "      <td>0.001</td>\n",
              "      <td>505043</td>\n",
              "      <td>164640.2310</td>\n",
              "      <td>0.368883</td>\n",
              "      <td>2.491200</td>\n",
              "      <td>34827.624400</td>\n",
              "      <td>0.099239</td>\n",
              "      <td>3460.547220</td>\n",
              "      <td>77000.7159</td>\n",
              "      <td>...</td>\n",
              "      <td>4073.650913</td>\n",
              "      <td>1.031188</td>\n",
              "      <td>2.54377</td>\n",
              "      <td>55168.4</td>\n",
              "      <td>1</td>\n",
              "      <td>0</td>\n",
              "      <td>0</td>\n",
              "      <td>5871.062390</td>\n",
              "      <td>0</td>\n",
              "      <td>10.15090</td>\n",
              "    </tr>\n",
              "    <tr>\n",
              "      <th>2</th>\n",
              "      <td>4.483209</td>\n",
              "      <td>0.001</td>\n",
              "      <td>479417</td>\n",
              "      <td>158782.2470</td>\n",
              "      <td>0.053349</td>\n",
              "      <td>1.930993</td>\n",
              "      <td>100139.011000</td>\n",
              "      <td>0.130133</td>\n",
              "      <td>2958.528450</td>\n",
              "      <td>73983.4991</td>\n",
              "      <td>...</td>\n",
              "      <td>24778.675830</td>\n",
              "      <td>0.298724</td>\n",
              "      <td>2.03162</td>\n",
              "      <td>54178.7</td>\n",
              "      <td>1</td>\n",
              "      <td>0</td>\n",
              "      <td>0</td>\n",
              "      <td>5.907700</td>\n",
              "      <td>1</td>\n",
              "      <td>5.44959</td>\n",
              "    </tr>\n",
              "    <tr>\n",
              "      <th>3</th>\n",
              "      <td>4.483209</td>\n",
              "      <td>0.001</td>\n",
              "      <td>504171</td>\n",
              "      <td>173094.5800</td>\n",
              "      <td>0.239726</td>\n",
              "      <td>2.193033</td>\n",
              "      <td>13710.088900</td>\n",
              "      <td>0.184856</td>\n",
              "      <td>3949.593890</td>\n",
              "      <td>85496.8882</td>\n",
              "      <td>...</td>\n",
              "      <td>14689.387400</td>\n",
              "      <td>0.435038</td>\n",
              "      <td>2.42598</td>\n",
              "      <td>61475.5</td>\n",
              "      <td>0</td>\n",
              "      <td>0</td>\n",
              "      <td>1</td>\n",
              "      <td>17.542009</td>\n",
              "      <td>0</td>\n",
              "      <td>4.87986</td>\n",
              "    </tr>\n",
              "    <tr>\n",
              "      <th>4</th>\n",
              "      <td>4.483209</td>\n",
              "      <td>0.001</td>\n",
              "      <td>501245</td>\n",
              "      <td>172722.6840</td>\n",
              "      <td>0.458644</td>\n",
              "      <td>2.537746</td>\n",
              "      <td>2589.006420</td>\n",
              "      <td>0.192672</td>\n",
              "      <td>4089.662060</td>\n",
              "      <td>78996.9967</td>\n",
              "      <td>...</td>\n",
              "      <td>6212.542260</td>\n",
              "      <td>0.757504</td>\n",
              "      <td>2.64693</td>\n",
              "      <td>58285.7</td>\n",
              "      <td>3</td>\n",
              "      <td>1</td>\n",
              "      <td>0</td>\n",
              "      <td>12.388086</td>\n",
              "      <td>1</td>\n",
              "      <td>4.49099</td>\n",
              "    </tr>\n",
              "    <tr>\n",
              "      <th>...</th>\n",
              "      <td>...</td>\n",
              "      <td>...</td>\n",
              "      <td>...</td>\n",
              "      <td>...</td>\n",
              "      <td>...</td>\n",
              "      <td>...</td>\n",
              "      <td>...</td>\n",
              "      <td>...</td>\n",
              "      <td>...</td>\n",
              "      <td>...</td>\n",
              "      <td>...</td>\n",
              "      <td>...</td>\n",
              "      <td>...</td>\n",
              "      <td>...</td>\n",
              "      <td>...</td>\n",
              "      <td>...</td>\n",
              "      <td>...</td>\n",
              "      <td>...</td>\n",
              "      <td>...</td>\n",
              "      <td>...</td>\n",
              "      <td>...</td>\n",
              "    </tr>\n",
              "    <tr>\n",
              "      <th>1291</th>\n",
              "      <td>8.961667</td>\n",
              "      <td>0.001</td>\n",
              "      <td>430575</td>\n",
              "      <td>153829.5090</td>\n",
              "      <td>8.186195</td>\n",
              "      <td>11.196129</td>\n",
              "      <td>124.013015</td>\n",
              "      <td>0.084009</td>\n",
              "      <td>17004.436600</td>\n",
              "      <td>87728.4511</td>\n",
              "      <td>...</td>\n",
              "      <td>111.583976</td>\n",
              "      <td>8.542639</td>\n",
              "      <td>12.88920</td>\n",
              "      <td>59061.0</td>\n",
              "      <td>421</td>\n",
              "      <td>5</td>\n",
              "      <td>5</td>\n",
              "      <td>26.195472</td>\n",
              "      <td>1</td>\n",
              "      <td>3.74500</td>\n",
              "    </tr>\n",
              "    <tr>\n",
              "      <th>1292</th>\n",
              "      <td>8.961667</td>\n",
              "      <td>0.001</td>\n",
              "      <td>1148111</td>\n",
              "      <td>378797.8470</td>\n",
              "      <td>0.363009</td>\n",
              "      <td>4.047745</td>\n",
              "      <td>121091.456000</td>\n",
              "      <td>0.049244</td>\n",
              "      <td>7780.207680</td>\n",
              "      <td>208888.6760</td>\n",
              "      <td>...</td>\n",
              "      <td>4941.017507</td>\n",
              "      <td>1.497158</td>\n",
              "      <td>4.21363</td>\n",
              "      <td>148172.0</td>\n",
              "      <td>1</td>\n",
              "      <td>0</td>\n",
              "      <td>0</td>\n",
              "      <td>8141.942800</td>\n",
              "      <td>0</td>\n",
              "      <td>9.27809</td>\n",
              "    </tr>\n",
              "    <tr>\n",
              "      <th>1293</th>\n",
              "      <td>8.961667</td>\n",
              "      <td>0.001</td>\n",
              "      <td>1121134</td>\n",
              "      <td>376044.7900</td>\n",
              "      <td>0.276965</td>\n",
              "      <td>5.093038</td>\n",
              "      <td>50124.732700</td>\n",
              "      <td>0.050766</td>\n",
              "      <td>8518.287010</td>\n",
              "      <td>205882.5110</td>\n",
              "      <td>...</td>\n",
              "      <td>4136.404926</td>\n",
              "      <td>1.325894</td>\n",
              "      <td>5.49906</td>\n",
              "      <td>143544.0</td>\n",
              "      <td>5</td>\n",
              "      <td>0</td>\n",
              "      <td>0</td>\n",
              "      <td>14571.972300</td>\n",
              "      <td>1</td>\n",
              "      <td>12.35760</td>\n",
              "    </tr>\n",
              "    <tr>\n",
              "      <th>1294</th>\n",
              "      <td>8.961667</td>\n",
              "      <td>0.001</td>\n",
              "      <td>1124046</td>\n",
              "      <td>372312.7040</td>\n",
              "      <td>0.876489</td>\n",
              "      <td>6.211617</td>\n",
              "      <td>7679.070830</td>\n",
              "      <td>0.059884</td>\n",
              "      <td>13372.708500</td>\n",
              "      <td>206975.9980</td>\n",
              "      <td>...</td>\n",
              "      <td>3122.623280</td>\n",
              "      <td>1.524092</td>\n",
              "      <td>6.75933</td>\n",
              "      <td>144985.0</td>\n",
              "      <td>2</td>\n",
              "      <td>0</td>\n",
              "      <td>0</td>\n",
              "      <td>4528.488600</td>\n",
              "      <td>0</td>\n",
              "      <td>7.20535</td>\n",
              "    </tr>\n",
              "    <tr>\n",
              "      <th>1295</th>\n",
              "      <td>8.961667</td>\n",
              "      <td>0.001</td>\n",
              "      <td>1060404</td>\n",
              "      <td>358251.7990</td>\n",
              "      <td>4.960723</td>\n",
              "      <td>9.352212</td>\n",
              "      <td>591.695393</td>\n",
              "      <td>0.073547</td>\n",
              "      <td>19822.877400</td>\n",
              "      <td>196080.6450</td>\n",
              "      <td>...</td>\n",
              "      <td>505.785326</td>\n",
              "      <td>6.846472</td>\n",
              "      <td>9.61243</td>\n",
              "      <td>141820.0</td>\n",
              "      <td>452</td>\n",
              "      <td>6</td>\n",
              "      <td>1</td>\n",
              "      <td>24.838628</td>\n",
              "      <td>1</td>\n",
              "      <td>5.35266</td>\n",
              "    </tr>\n",
              "  </tbody>\n",
              "</table>\n",
              "<p>1296 rows × 22 columns</p>\n",
              "</div>\n",
              "      <button class=\"colab-df-convert\" onclick=\"convertToInteractive('df-5092edd7-5ada-4356-a6c6-5036eebfe864')\"\n",
              "              title=\"Convert this dataframe to an interactive table.\"\n",
              "              style=\"display:none;\">\n",
              "        \n",
              "  <svg xmlns=\"http://www.w3.org/2000/svg\" height=\"24px\"viewBox=\"0 0 24 24\"\n",
              "       width=\"24px\">\n",
              "    <path d=\"M0 0h24v24H0V0z\" fill=\"none\"/>\n",
              "    <path d=\"M18.56 5.44l.94 2.06.94-2.06 2.06-.94-2.06-.94-.94-2.06-.94 2.06-2.06.94zm-11 1L8.5 8.5l.94-2.06 2.06-.94-2.06-.94L8.5 2.5l-.94 2.06-2.06.94zm10 10l.94 2.06.94-2.06 2.06-.94-2.06-.94-.94-2.06-.94 2.06-2.06.94z\"/><path d=\"M17.41 7.96l-1.37-1.37c-.4-.4-.92-.59-1.43-.59-.52 0-1.04.2-1.43.59L10.3 9.45l-7.72 7.72c-.78.78-.78 2.05 0 2.83L4 21.41c.39.39.9.59 1.41.59.51 0 1.02-.2 1.41-.59l7.78-7.78 2.81-2.81c.8-.78.8-2.07 0-2.86zM5.41 20L4 18.59l7.72-7.72 1.47 1.35L5.41 20z\"/>\n",
              "  </svg>\n",
              "      </button>\n",
              "      \n",
              "  <style>\n",
              "    .colab-df-container {\n",
              "      display:flex;\n",
              "      flex-wrap:wrap;\n",
              "      gap: 12px;\n",
              "    }\n",
              "\n",
              "    .colab-df-convert {\n",
              "      background-color: #E8F0FE;\n",
              "      border: none;\n",
              "      border-radius: 50%;\n",
              "      cursor: pointer;\n",
              "      display: none;\n",
              "      fill: #1967D2;\n",
              "      height: 32px;\n",
              "      padding: 0 0 0 0;\n",
              "      width: 32px;\n",
              "    }\n",
              "\n",
              "    .colab-df-convert:hover {\n",
              "      background-color: #E2EBFA;\n",
              "      box-shadow: 0px 1px 2px rgba(60, 64, 67, 0.3), 0px 1px 3px 1px rgba(60, 64, 67, 0.15);\n",
              "      fill: #174EA6;\n",
              "    }\n",
              "\n",
              "    [theme=dark] .colab-df-convert {\n",
              "      background-color: #3B4455;\n",
              "      fill: #D2E3FC;\n",
              "    }\n",
              "\n",
              "    [theme=dark] .colab-df-convert:hover {\n",
              "      background-color: #434B5C;\n",
              "      box-shadow: 0px 1px 3px 1px rgba(0, 0, 0, 0.15);\n",
              "      filter: drop-shadow(0px 1px 2px rgba(0, 0, 0, 0.3));\n",
              "      fill: #FFFFFF;\n",
              "    }\n",
              "  </style>\n",
              "\n",
              "      <script>\n",
              "        const buttonEl =\n",
              "          document.querySelector('#df-5092edd7-5ada-4356-a6c6-5036eebfe864 button.colab-df-convert');\n",
              "        buttonEl.style.display =\n",
              "          google.colab.kernel.accessAllowed ? 'block' : 'none';\n",
              "\n",
              "        async function convertToInteractive(key) {\n",
              "          const element = document.querySelector('#df-5092edd7-5ada-4356-a6c6-5036eebfe864');\n",
              "          const dataTable =\n",
              "            await google.colab.kernel.invokeFunction('convertToInteractive',\n",
              "                                                     [key], {});\n",
              "          if (!dataTable) return;\n",
              "\n",
              "          const docLinkHtml = 'Like what you see? Visit the ' +\n",
              "            '<a target=\"_blank\" href=https://colab.research.google.com/notebooks/data_table.ipynb>data table notebook</a>'\n",
              "            + ' to learn more about interactive tables.';\n",
              "          element.innerHTML = '';\n",
              "          dataTable['output_type'] = 'display_data';\n",
              "          await google.colab.output.renderOutput(dataTable, element);\n",
              "          const docLink = document.createElement('div');\n",
              "          docLink.innerHTML = docLinkHtml;\n",
              "          element.appendChild(docLink);\n",
              "        }\n",
              "      </script>\n",
              "    </div>\n",
              "  </div>\n",
              "  "
            ]
          },
          "metadata": {},
          "execution_count": 5
        }
      ]
    },
    {
      "cell_type": "code",
      "source": [
        "data.describe()"
      ],
      "metadata": {
        "id": "G_9hpl3ZkklO",
        "outputId": "307be287-4efa-47ae-8998-4c47f35d469b",
        "colab": {
          "base_uri": "https://localhost:8080/",
          "height": 446
        }
      },
      "execution_count": 6,
      "outputs": [
        {
          "output_type": "execute_result",
          "data": {
            "text/plain": [
              "       Galactocentric Raidus  Cluster Metallicity  #Objects in Cluster  \\\n",
              "count            1296.000000          1296.000000         1.296000e+03   \n",
              "mean               13.795005             0.006824         3.549600e+05   \n",
              "std                13.747224             0.007798         4.107997e+05   \n",
              "min                 0.806069             0.000200         1.680000e+02   \n",
              "25%                 3.397451             0.001000         4.108925e+04   \n",
              "50%                 9.609443             0.005000         1.324815e+05   \n",
              "75%                17.415375             0.006000         5.778370e+05   \n",
              "max                49.995444             0.020000         1.966209e+06   \n",
              "\n",
              "        Cluster Mass  Ob Core Radius  Ob Half-Light Radius  CS Brightness  \\\n",
              "count    1296.000000     1296.000000           1296.000000   1.296000e+03   \n",
              "mean   124605.085965        1.175493              3.704930   5.129919e+04   \n",
              "std    133588.167728        1.996293              2.602061   4.030985e+05   \n",
              "min       202.439378        0.012096              0.369331   1.585988e-01   \n",
              "25%     16928.510175        0.152169              1.986873   2.541000e+02   \n",
              "50%     59840.253600        0.368593              2.816936   1.387919e+03   \n",
              "75%    201688.128500        1.157344              4.678259   1.270077e+04   \n",
              "max    624852.378000       12.913423             17.135980   1.060000e+07   \n",
              "\n",
              "       Binary Fraction   HM Rel Time  TLC at 12 Gyrs  ...  \\\n",
              "count      1296.000000  1.296000e+03     1289.000000  ...   \n",
              "mean          0.147552  4.190883e+03    63793.263548  ...   \n",
              "std           0.112824  3.942686e+03    66876.963919  ...   \n",
              "min           0.016670  3.410000e-07       42.222069  ...   \n",
              "25%           0.066921  1.250035e+03     8950.770620  ...   \n",
              "50%           0.095694  3.285283e+03    34385.710800  ...   \n",
              "75%           0.229543  5.381429e+03   104769.469000  ...   \n",
              "max           0.726190  2.368620e+04   305503.452000  ...   \n",
              "\n",
              "       CS Brightness from K62  Core Radius from K62  Half Radius from K62  \\\n",
              "count             1296.000000          1.296000e+03          1.296000e+03   \n",
              "mean              6085.613178          9.802004e+03          5.625000e+07   \n",
              "std              17501.728564          3.379408e+05          2.025000e+09   \n",
              "min                  0.000000         -7.107496e+06          0.000000e+00   \n",
              "25%                391.335568          4.870860e-01          2.082772e+00   \n",
              "50%               1787.208036          7.587923e-01          2.909625e+00   \n",
              "75%               6039.537321          1.458730e+00          4.965393e+00   \n",
              "max             413419.000000          6.931186e+06          7.290000e+10   \n",
              "\n",
              "       Total luminosity from snap-2D  Single Black Holes  Binary Black Holes  \\\n",
              "count                    1296.000000         1296.000000         1296.000000   \n",
              "mean                    43774.503267           18.920525            0.597222   \n",
              "std                     46748.321403           72.820628            1.651897   \n",
              "min                         0.000000            0.000000            0.000000   \n",
              "25%                      5499.190000            0.000000            0.000000   \n",
              "50%                     23659.050000            0.000000            0.000000   \n",
              "75%                     71851.200000            1.000000            0.000000   \n",
              "max                    208648.000000          789.000000           15.000000   \n",
              "\n",
              "       Black Hole Other Count  Mass of Most Massive BH  Fallback Enabled  \\\n",
              "count              1296.00000              1296.000000       1296.000000   \n",
              "mean                  0.68287              2912.647015          0.493827   \n",
              "std                   1.48263              5930.501850          0.500155   \n",
              "min                   0.00000                 0.000000          0.000000   \n",
              "25%                   0.00000                 0.000000          0.000000   \n",
              "50%                   0.00000                13.090620          0.000000   \n",
              "75%                   1.00000              2795.206837          1.000000   \n",
              "max                  15.00000             43030.183000          1.000000   \n",
              "\n",
              "       Central Velocity Dispersion  \n",
              "count                  1296.000000  \n",
              "mean                      6.753591  \n",
              "std                       8.186834  \n",
              "min                       0.448899  \n",
              "25%                       1.430718  \n",
              "50%                       3.803875  \n",
              "75%                       8.015273  \n",
              "max                      51.384800  \n",
              "\n",
              "[8 rows x 22 columns]"
            ],
            "text/html": [
              "\n",
              "  <div id=\"df-d87a6cb7-b910-49dc-8c92-349283e1dbd1\">\n",
              "    <div class=\"colab-df-container\">\n",
              "      <div>\n",
              "<style scoped>\n",
              "    .dataframe tbody tr th:only-of-type {\n",
              "        vertical-align: middle;\n",
              "    }\n",
              "\n",
              "    .dataframe tbody tr th {\n",
              "        vertical-align: top;\n",
              "    }\n",
              "\n",
              "    .dataframe thead th {\n",
              "        text-align: right;\n",
              "    }\n",
              "</style>\n",
              "<table border=\"1\" class=\"dataframe\">\n",
              "  <thead>\n",
              "    <tr style=\"text-align: right;\">\n",
              "      <th></th>\n",
              "      <th>Galactocentric Raidus</th>\n",
              "      <th>Cluster Metallicity</th>\n",
              "      <th>#Objects in Cluster</th>\n",
              "      <th>Cluster Mass</th>\n",
              "      <th>Ob Core Radius</th>\n",
              "      <th>Ob Half-Light Radius</th>\n",
              "      <th>CS Brightness</th>\n",
              "      <th>Binary Fraction</th>\n",
              "      <th>HM Rel Time</th>\n",
              "      <th>TLC at 12 Gyrs</th>\n",
              "      <th>...</th>\n",
              "      <th>CS Brightness from K62</th>\n",
              "      <th>Core Radius from K62</th>\n",
              "      <th>Half Radius from K62</th>\n",
              "      <th>Total luminosity from snap-2D</th>\n",
              "      <th>Single Black Holes</th>\n",
              "      <th>Binary Black Holes</th>\n",
              "      <th>Black Hole Other Count</th>\n",
              "      <th>Mass of Most Massive BH</th>\n",
              "      <th>Fallback Enabled</th>\n",
              "      <th>Central Velocity Dispersion</th>\n",
              "    </tr>\n",
              "  </thead>\n",
              "  <tbody>\n",
              "    <tr>\n",
              "      <th>count</th>\n",
              "      <td>1296.000000</td>\n",
              "      <td>1296.000000</td>\n",
              "      <td>1.296000e+03</td>\n",
              "      <td>1296.000000</td>\n",
              "      <td>1296.000000</td>\n",
              "      <td>1296.000000</td>\n",
              "      <td>1.296000e+03</td>\n",
              "      <td>1296.000000</td>\n",
              "      <td>1.296000e+03</td>\n",
              "      <td>1289.000000</td>\n",
              "      <td>...</td>\n",
              "      <td>1296.000000</td>\n",
              "      <td>1.296000e+03</td>\n",
              "      <td>1.296000e+03</td>\n",
              "      <td>1296.000000</td>\n",
              "      <td>1296.000000</td>\n",
              "      <td>1296.000000</td>\n",
              "      <td>1296.00000</td>\n",
              "      <td>1296.000000</td>\n",
              "      <td>1296.000000</td>\n",
              "      <td>1296.000000</td>\n",
              "    </tr>\n",
              "    <tr>\n",
              "      <th>mean</th>\n",
              "      <td>13.795005</td>\n",
              "      <td>0.006824</td>\n",
              "      <td>3.549600e+05</td>\n",
              "      <td>124605.085965</td>\n",
              "      <td>1.175493</td>\n",
              "      <td>3.704930</td>\n",
              "      <td>5.129919e+04</td>\n",
              "      <td>0.147552</td>\n",
              "      <td>4.190883e+03</td>\n",
              "      <td>63793.263548</td>\n",
              "      <td>...</td>\n",
              "      <td>6085.613178</td>\n",
              "      <td>9.802004e+03</td>\n",
              "      <td>5.625000e+07</td>\n",
              "      <td>43774.503267</td>\n",
              "      <td>18.920525</td>\n",
              "      <td>0.597222</td>\n",
              "      <td>0.68287</td>\n",
              "      <td>2912.647015</td>\n",
              "      <td>0.493827</td>\n",
              "      <td>6.753591</td>\n",
              "    </tr>\n",
              "    <tr>\n",
              "      <th>std</th>\n",
              "      <td>13.747224</td>\n",
              "      <td>0.007798</td>\n",
              "      <td>4.107997e+05</td>\n",
              "      <td>133588.167728</td>\n",
              "      <td>1.996293</td>\n",
              "      <td>2.602061</td>\n",
              "      <td>4.030985e+05</td>\n",
              "      <td>0.112824</td>\n",
              "      <td>3.942686e+03</td>\n",
              "      <td>66876.963919</td>\n",
              "      <td>...</td>\n",
              "      <td>17501.728564</td>\n",
              "      <td>3.379408e+05</td>\n",
              "      <td>2.025000e+09</td>\n",
              "      <td>46748.321403</td>\n",
              "      <td>72.820628</td>\n",
              "      <td>1.651897</td>\n",
              "      <td>1.48263</td>\n",
              "      <td>5930.501850</td>\n",
              "      <td>0.500155</td>\n",
              "      <td>8.186834</td>\n",
              "    </tr>\n",
              "    <tr>\n",
              "      <th>min</th>\n",
              "      <td>0.806069</td>\n",
              "      <td>0.000200</td>\n",
              "      <td>1.680000e+02</td>\n",
              "      <td>202.439378</td>\n",
              "      <td>0.012096</td>\n",
              "      <td>0.369331</td>\n",
              "      <td>1.585988e-01</td>\n",
              "      <td>0.016670</td>\n",
              "      <td>3.410000e-07</td>\n",
              "      <td>42.222069</td>\n",
              "      <td>...</td>\n",
              "      <td>0.000000</td>\n",
              "      <td>-7.107496e+06</td>\n",
              "      <td>0.000000e+00</td>\n",
              "      <td>0.000000</td>\n",
              "      <td>0.000000</td>\n",
              "      <td>0.000000</td>\n",
              "      <td>0.00000</td>\n",
              "      <td>0.000000</td>\n",
              "      <td>0.000000</td>\n",
              "      <td>0.448899</td>\n",
              "    </tr>\n",
              "    <tr>\n",
              "      <th>25%</th>\n",
              "      <td>3.397451</td>\n",
              "      <td>0.001000</td>\n",
              "      <td>4.108925e+04</td>\n",
              "      <td>16928.510175</td>\n",
              "      <td>0.152169</td>\n",
              "      <td>1.986873</td>\n",
              "      <td>2.541000e+02</td>\n",
              "      <td>0.066921</td>\n",
              "      <td>1.250035e+03</td>\n",
              "      <td>8950.770620</td>\n",
              "      <td>...</td>\n",
              "      <td>391.335568</td>\n",
              "      <td>4.870860e-01</td>\n",
              "      <td>2.082772e+00</td>\n",
              "      <td>5499.190000</td>\n",
              "      <td>0.000000</td>\n",
              "      <td>0.000000</td>\n",
              "      <td>0.00000</td>\n",
              "      <td>0.000000</td>\n",
              "      <td>0.000000</td>\n",
              "      <td>1.430718</td>\n",
              "    </tr>\n",
              "    <tr>\n",
              "      <th>50%</th>\n",
              "      <td>9.609443</td>\n",
              "      <td>0.005000</td>\n",
              "      <td>1.324815e+05</td>\n",
              "      <td>59840.253600</td>\n",
              "      <td>0.368593</td>\n",
              "      <td>2.816936</td>\n",
              "      <td>1.387919e+03</td>\n",
              "      <td>0.095694</td>\n",
              "      <td>3.285283e+03</td>\n",
              "      <td>34385.710800</td>\n",
              "      <td>...</td>\n",
              "      <td>1787.208036</td>\n",
              "      <td>7.587923e-01</td>\n",
              "      <td>2.909625e+00</td>\n",
              "      <td>23659.050000</td>\n",
              "      <td>0.000000</td>\n",
              "      <td>0.000000</td>\n",
              "      <td>0.00000</td>\n",
              "      <td>13.090620</td>\n",
              "      <td>0.000000</td>\n",
              "      <td>3.803875</td>\n",
              "    </tr>\n",
              "    <tr>\n",
              "      <th>75%</th>\n",
              "      <td>17.415375</td>\n",
              "      <td>0.006000</td>\n",
              "      <td>5.778370e+05</td>\n",
              "      <td>201688.128500</td>\n",
              "      <td>1.157344</td>\n",
              "      <td>4.678259</td>\n",
              "      <td>1.270077e+04</td>\n",
              "      <td>0.229543</td>\n",
              "      <td>5.381429e+03</td>\n",
              "      <td>104769.469000</td>\n",
              "      <td>...</td>\n",
              "      <td>6039.537321</td>\n",
              "      <td>1.458730e+00</td>\n",
              "      <td>4.965393e+00</td>\n",
              "      <td>71851.200000</td>\n",
              "      <td>1.000000</td>\n",
              "      <td>0.000000</td>\n",
              "      <td>1.00000</td>\n",
              "      <td>2795.206837</td>\n",
              "      <td>1.000000</td>\n",
              "      <td>8.015273</td>\n",
              "    </tr>\n",
              "    <tr>\n",
              "      <th>max</th>\n",
              "      <td>49.995444</td>\n",
              "      <td>0.020000</td>\n",
              "      <td>1.966209e+06</td>\n",
              "      <td>624852.378000</td>\n",
              "      <td>12.913423</td>\n",
              "      <td>17.135980</td>\n",
              "      <td>1.060000e+07</td>\n",
              "      <td>0.726190</td>\n",
              "      <td>2.368620e+04</td>\n",
              "      <td>305503.452000</td>\n",
              "      <td>...</td>\n",
              "      <td>413419.000000</td>\n",
              "      <td>6.931186e+06</td>\n",
              "      <td>7.290000e+10</td>\n",
              "      <td>208648.000000</td>\n",
              "      <td>789.000000</td>\n",
              "      <td>15.000000</td>\n",
              "      <td>15.00000</td>\n",
              "      <td>43030.183000</td>\n",
              "      <td>1.000000</td>\n",
              "      <td>51.384800</td>\n",
              "    </tr>\n",
              "  </tbody>\n",
              "</table>\n",
              "<p>8 rows × 22 columns</p>\n",
              "</div>\n",
              "      <button class=\"colab-df-convert\" onclick=\"convertToInteractive('df-d87a6cb7-b910-49dc-8c92-349283e1dbd1')\"\n",
              "              title=\"Convert this dataframe to an interactive table.\"\n",
              "              style=\"display:none;\">\n",
              "        \n",
              "  <svg xmlns=\"http://www.w3.org/2000/svg\" height=\"24px\"viewBox=\"0 0 24 24\"\n",
              "       width=\"24px\">\n",
              "    <path d=\"M0 0h24v24H0V0z\" fill=\"none\"/>\n",
              "    <path d=\"M18.56 5.44l.94 2.06.94-2.06 2.06-.94-2.06-.94-.94-2.06-.94 2.06-2.06.94zm-11 1L8.5 8.5l.94-2.06 2.06-.94-2.06-.94L8.5 2.5l-.94 2.06-2.06.94zm10 10l.94 2.06.94-2.06 2.06-.94-2.06-.94-.94-2.06-.94 2.06-2.06.94z\"/><path d=\"M17.41 7.96l-1.37-1.37c-.4-.4-.92-.59-1.43-.59-.52 0-1.04.2-1.43.59L10.3 9.45l-7.72 7.72c-.78.78-.78 2.05 0 2.83L4 21.41c.39.39.9.59 1.41.59.51 0 1.02-.2 1.41-.59l7.78-7.78 2.81-2.81c.8-.78.8-2.07 0-2.86zM5.41 20L4 18.59l7.72-7.72 1.47 1.35L5.41 20z\"/>\n",
              "  </svg>\n",
              "      </button>\n",
              "      \n",
              "  <style>\n",
              "    .colab-df-container {\n",
              "      display:flex;\n",
              "      flex-wrap:wrap;\n",
              "      gap: 12px;\n",
              "    }\n",
              "\n",
              "    .colab-df-convert {\n",
              "      background-color: #E8F0FE;\n",
              "      border: none;\n",
              "      border-radius: 50%;\n",
              "      cursor: pointer;\n",
              "      display: none;\n",
              "      fill: #1967D2;\n",
              "      height: 32px;\n",
              "      padding: 0 0 0 0;\n",
              "      width: 32px;\n",
              "    }\n",
              "\n",
              "    .colab-df-convert:hover {\n",
              "      background-color: #E2EBFA;\n",
              "      box-shadow: 0px 1px 2px rgba(60, 64, 67, 0.3), 0px 1px 3px 1px rgba(60, 64, 67, 0.15);\n",
              "      fill: #174EA6;\n",
              "    }\n",
              "\n",
              "    [theme=dark] .colab-df-convert {\n",
              "      background-color: #3B4455;\n",
              "      fill: #D2E3FC;\n",
              "    }\n",
              "\n",
              "    [theme=dark] .colab-df-convert:hover {\n",
              "      background-color: #434B5C;\n",
              "      box-shadow: 0px 1px 3px 1px rgba(0, 0, 0, 0.15);\n",
              "      filter: drop-shadow(0px 1px 2px rgba(0, 0, 0, 0.3));\n",
              "      fill: #FFFFFF;\n",
              "    }\n",
              "  </style>\n",
              "\n",
              "      <script>\n",
              "        const buttonEl =\n",
              "          document.querySelector('#df-d87a6cb7-b910-49dc-8c92-349283e1dbd1 button.colab-df-convert');\n",
              "        buttonEl.style.display =\n",
              "          google.colab.kernel.accessAllowed ? 'block' : 'none';\n",
              "\n",
              "        async function convertToInteractive(key) {\n",
              "          const element = document.querySelector('#df-d87a6cb7-b910-49dc-8c92-349283e1dbd1');\n",
              "          const dataTable =\n",
              "            await google.colab.kernel.invokeFunction('convertToInteractive',\n",
              "                                                     [key], {});\n",
              "          if (!dataTable) return;\n",
              "\n",
              "          const docLinkHtml = 'Like what you see? Visit the ' +\n",
              "            '<a target=\"_blank\" href=https://colab.research.google.com/notebooks/data_table.ipynb>data table notebook</a>'\n",
              "            + ' to learn more about interactive tables.';\n",
              "          element.innerHTML = '';\n",
              "          dataTable['output_type'] = 'display_data';\n",
              "          await google.colab.output.renderOutput(dataTable, element);\n",
              "          const docLink = document.createElement('div');\n",
              "          docLink.innerHTML = docLinkHtml;\n",
              "          element.appendChild(docLink);\n",
              "        }\n",
              "      </script>\n",
              "    </div>\n",
              "  </div>\n",
              "  "
            ]
          },
          "metadata": {},
          "execution_count": 6
        }
      ]
    },
    {
      "cell_type": "code",
      "source": [
        "data.isnull().sum()"
      ],
      "metadata": {
        "colab": {
          "base_uri": "https://localhost:8080/"
        },
        "id": "O9NJK8VqF3pC",
        "outputId": "d8d4878b-6402-4555-eee4-5465710ac360"
      },
      "execution_count": 7,
      "outputs": [
        {
          "output_type": "execute_result",
          "data": {
            "text/plain": [
              "Galactocentric Raidus             0\n",
              "Cluster Metallicity               0\n",
              "#Objects in Cluster               0\n",
              "Cluster Mass                      0\n",
              "Ob Core Radius                    0\n",
              "Ob Half-Light Radius              0\n",
              "CS Brightness                     0\n",
              "Binary Fraction                   0\n",
              "HM Rel Time                       0\n",
              "TLC at 12 Gyrs                    7\n",
              "Central Velocity Dispersion 3d    0\n",
              "Total V-band luminosity           0\n",
              "CS Brightness from K62            0\n",
              "Core Radius from K62              0\n",
              "Half Radius from K62              0\n",
              "Total luminosity from snap-2D     0\n",
              "Single Black Holes                0\n",
              "Binary Black Holes                0\n",
              "Black Hole Other Count            0\n",
              "Mass of Most Massive BH           0\n",
              "Fallback Enabled                  0\n",
              "Central Velocity Dispersion       0\n",
              "dtype: int64"
            ]
          },
          "metadata": {},
          "execution_count": 7
        }
      ]
    },
    {
      "cell_type": "markdown",
      "source": [
        "## Determining most important features"
      ],
      "metadata": {
        "id": "Hw6jFYKFOEC5"
      }
    },
    {
      "cell_type": "code",
      "source": [
        "from sklearn.ensemble import ExtraTreesRegressor\n",
        "import matplotlib.pyplot as plt\n",
        "\n",
        "\n",
        "YData = data['Mass of Most Massive BH']\n",
        "XData = data.drop(['Mass of Most Massive BH','TLC at 12 Gyrs'], axis=1)\n",
        "model = ExtraTreesRegressor()\n",
        "model.fit(XData,YData)"
      ],
      "metadata": {
        "colab": {
          "base_uri": "https://localhost:8080/"
        },
        "id": "10CVXCFeODnZ",
        "outputId": "4feb848e-2e8f-4655-9977-3624912811a5"
      },
      "execution_count": 8,
      "outputs": [
        {
          "output_type": "execute_result",
          "data": {
            "text/plain": [
              "ExtraTreesRegressor()"
            ]
          },
          "metadata": {},
          "execution_count": 8
        }
      ]
    },
    {
      "cell_type": "code",
      "source": [
        "feat_importances = pd.Series(model.feature_importances_, index=XData.columns)\n",
        "feat_importances.nlargest(12).plot(kind='barh')\n",
        "plt.show()"
      ],
      "metadata": {
        "colab": {
          "base_uri": "https://localhost:8080/",
          "height": 265
        },
        "id": "JKTDAReTOfXq",
        "outputId": "f699322a-3bdf-4d47-bb7a-1ac21ed3fbb0"
      },
      "execution_count": 9,
      "outputs": [
        {
          "output_type": "display_data",
          "data": {
            "text/plain": [
              "<Figure size 432x288 with 1 Axes>"
            ],
            "image/png": "[encoded data removed]"
          },
          "metadata": {
            "needs_background": "light"
          }
        }
      ]
    },
    {
      "cell_type": "markdown",
      "source": [
        "## Splitting data into train and test dataset"
      ],
      "metadata": {
        "id": "CeLpsoBp6VAh"
      }
    },
    {
      "cell_type": "code",
      "source": [
        "# XData = XData.filter(['CS Brightness from K62','CS Brightness','Core radius from K62','Cluster Mass','#Objects in Cluster','Central Velocity Dispersion 3d',\n",
        "#               'Ob Half-Light Radius','Binary Fraction','Total luminosity from snap-2D','Total V-band luminosity','Ob Core Radius','HM Rel Time',\n",
        "#               'Galactocentric Radius','Half Radius from K62'],axis=1)\n",
        "print(XData)\n",
        "XData = np.array(XData)\n",
        "YData = np.array(YData).reshape(-1,1)\n",
        "XData, YData"
      ],
      "metadata": {
        "id": "KDlm12OTCX0L",
        "colab": {
          "base_uri": "https://localhost:8080/"
        },
        "outputId": "b9dfe83e-a602-48c1-dbd6-3862bb95775d"
      },
      "execution_count": 10,
      "outputs": [
        {
          "output_type": "stream",
          "name": "stdout",
          "text": [
            "      Galactocentric Raidus  Cluster Metallicity  #Objects in Cluster  \\\n",
            "0                  4.483209                0.001                38920   \n",
            "1                  4.483209                0.001               505043   \n",
            "2                  4.483209                0.001               479417   \n",
            "3                  4.483209                0.001               504171   \n",
            "4                  4.483209                0.001               501245   \n",
            "...                     ...                  ...                  ...   \n",
            "1291               8.961667                0.001               430575   \n",
            "1292               8.961667                0.001              1148111   \n",
            "1293               8.961667                0.001              1121134   \n",
            "1294               8.961667                0.001              1124046   \n",
            "1295               8.961667                0.001              1060404   \n",
            "\n",
            "      Cluster Mass  Ob Core Radius  Ob Half-Light Radius  CS Brightness  \\\n",
            "0       23593.2395        0.381992              3.413317     109.654400   \n",
            "1      164640.2310        0.368883              2.491200   34827.624400   \n",
            "2      158782.2470        0.053349              1.930993  100139.011000   \n",
            "3      173094.5800        0.239726              2.193033   13710.088900   \n",
            "4      172722.6840        0.458644              2.537746    2589.006420   \n",
            "...            ...             ...                   ...            ...   \n",
            "1291   153829.5090        8.186195             11.196129     124.013015   \n",
            "1292   378797.8470        0.363009              4.047745  121091.456000   \n",
            "1293   376044.7900        0.276965              5.093038   50124.732700   \n",
            "1294   372312.7040        0.876489              6.211617    7679.070830   \n",
            "1295   358251.7990        4.960723              9.352212     591.695393   \n",
            "\n",
            "      Binary Fraction   HM Rel Time  Central Velocity Dispersion 3d  \\\n",
            "0            0.399229    885.619718                        1.916352   \n",
            "1            0.099239   3460.547220                        6.417497   \n",
            "2            0.130133   2958.528450                        8.174782   \n",
            "3            0.184856   3949.593890                        5.935419   \n",
            "4            0.192672   4089.662060                        7.867628   \n",
            "...               ...           ...                             ...   \n",
            "1291         0.084009  17004.436600                        3.515798   \n",
            "1292         0.049244   7780.207680                        7.931974   \n",
            "1293         0.050766   8518.287010                        7.770654   \n",
            "1294         0.059884  13372.708500                        6.273728   \n",
            "1295         0.073547  19822.877400                        4.075810   \n",
            "\n",
            "      Total V-band luminosity  CS Brightness from K62  Core Radius from K62  \\\n",
            "0                     14969.5              423.668974              1.781371   \n",
            "1                     55168.4             4073.650913              1.031188   \n",
            "2                     54178.7            24778.675830              0.298724   \n",
            "3                     61475.5            14689.387400              0.435038   \n",
            "4                     58285.7             6212.542260              0.757504   \n",
            "...                       ...                     ...                   ...   \n",
            "1291                  59061.0              111.583976              8.542639   \n",
            "1292                 148172.0             4941.017507              1.497158   \n",
            "1293                 143544.0             4136.404926              1.325894   \n",
            "1294                 144985.0             3122.623280              1.524092   \n",
            "1295                 141820.0              505.785326              6.846472   \n",
            "\n",
            "      Half Radius from K62  Total luminosity from snap-2D  Single Black Holes  \\\n",
            "0                  3.85929                        14969.5                   0   \n",
            "1                  2.54377                        55168.4                   1   \n",
            "2                  2.03162                        54178.7                   1   \n",
            "3                  2.42598                        61475.5                   0   \n",
            "4                  2.64693                        58285.7                   3   \n",
            "...                    ...                            ...                 ...   \n",
            "1291              12.88920                        59061.0                 421   \n",
            "1292               4.21363                       148172.0                   1   \n",
            "1293               5.49906                       143544.0                   5   \n",
            "1294               6.75933                       144985.0                   2   \n",
            "1295               9.61243                       141820.0                 452   \n",
            "\n",
            "      Binary Black Holes  Black Hole Other Count  Fallback Enabled  \\\n",
            "0                      1                       0                 0   \n",
            "1                      0                       0                 0   \n",
            "2                      0                       0                 1   \n",
            "3                      0                       1                 0   \n",
            "4                      1                       0                 1   \n",
            "...                  ...                     ...               ...   \n",
            "1291                   5                       5                 1   \n",
            "1292                   0                       0                 0   \n",
            "1293                   0                       0                 1   \n",
            "1294                   0                       0                 0   \n",
            "1295                   6                       1                 1   \n",
            "\n",
            "      Central Velocity Dispersion  \n",
            "0                         1.94718  \n",
            "1                        10.15090  \n",
            "2                         5.44959  \n",
            "3                         4.87986  \n",
            "4                         4.49099  \n",
            "...                           ...  \n",
            "1291                      3.74500  \n",
            "1292                      9.27809  \n",
            "1293                     12.35760  \n",
            "1294                      7.20535  \n",
            "1295                      5.35266  \n",
            "\n",
            "[1296 rows x 20 columns]\n"
          ]
        },
        {
          "output_type": "execute_result",
          "data": {
            "text/plain": [
              "(array([[4.48320946e+00, 1.00000000e-03, 3.89200000e+04, ...,\n",
              "         0.00000000e+00, 0.00000000e+00, 1.94718000e+00],\n",
              "        [4.48320946e+00, 1.00000000e-03, 5.05043000e+05, ...,\n",
              "         0.00000000e+00, 0.00000000e+00, 1.01509000e+01],\n",
              "        [4.48320946e+00, 1.00000000e-03, 4.79417000e+05, ...,\n",
              "         0.00000000e+00, 1.00000000e+00, 5.44959000e+00],\n",
              "        ...,\n",
              "        [8.96166740e+00, 1.00000000e-03, 1.12113400e+06, ...,\n",
              "         0.00000000e+00, 1.00000000e+00, 1.23576000e+01],\n",
              "        [8.96166740e+00, 1.00000000e-03, 1.12404600e+06, ...,\n",
              "         0.00000000e+00, 0.00000000e+00, 7.20535000e+00],\n",
              "        [8.96166740e+00, 1.00000000e-03, 1.06040400e+06, ...,\n",
              "         1.00000000e+00, 1.00000000e+00, 5.35266000e+00]]),\n",
              " array([[2.19940839e+01],\n",
              "        [5.87106239e+03],\n",
              "        [5.90770021e+00],\n",
              "        ...,\n",
              "        [1.45719723e+04],\n",
              "        [4.52848860e+03],\n",
              "        [2.48386276e+01]]))"
            ]
          },
          "metadata": {},
          "execution_count": 10
        }
      ]
    },
    {
      "cell_type": "code",
      "source": [
        "from sklearn.model_selection import train_test_split\n",
        "from sklearn.preprocessing import StandardScaler\n",
        "scaler_x = StandardScaler()\n",
        "scaler_y = StandardScaler()\n",
        "\n",
        "X_train, X_test, Y_train, Y_test = train_test_split(XData, YData, test_size = 0.25)\n",
        "scaler_x.fit(X_train)\n",
        "X_train_scaled = scaler_x.transform(X_train)\n",
        "scaler_x.fit(X_test)\n",
        "X_test_scaled = scaler_x.transform(X_test)\n",
        "X_train_scaled = np.array(X_train_scaled)\n",
        "X_test_scaled = np.array(X_test_scaled)\n",
        "# scaler_y.fit(Y_train)\n",
        "# Y_train_scaled = scaler_y.transform(Y_train)\n",
        "# scaler_y.fit(Y_test)\n",
        "# Y_test_scaled = scaler_y.transform(Y_test)\n",
        "\n",
        "X_train.shape, Y_train.shape, X_test.shape,Y_test.shape"
      ],
      "metadata": {
        "colab": {
          "base_uri": "https://localhost:8080/"
        },
        "id": "A-1JHtONEzNJ",
        "outputId": "cb0d4023-5742-459c-f910-c180f1856faf"
      },
      "execution_count": 11,
      "outputs": [
        {
          "output_type": "execute_result",
          "data": {
            "text/plain": [
              "((972, 20), (972, 1), (324, 20), (324, 1))"
            ]
          },
          "metadata": {},
          "execution_count": 11
        }
      ]
    },
    {
      "cell_type": "markdown",
      "source": [
        "## Linear Regression"
      ],
      "metadata": {
        "id": "1pGAyFKPLYIj"
      }
    },
    {
      "cell_type": "code",
      "source": [
        "from sklearn.linear_model import LinearRegression\n",
        "from sklearn.model_selection import cross_val_score\n",
        "from sklearn.metrics import r2_score\n",
        "lin_reg = LinearRegression()\n",
        "lm = LinearRegression()\n",
        "scores = cross_val_score(lm, X_train, Y_train, scoring='r2', cv=6)\n",
        "scores \n"
      ],
      "metadata": {
        "colab": {
          "base_uri": "https://localhost:8080/"
        },
        "id": "_BNAUj54Hseu",
        "outputId": "4585b8b1-3858-4ca1-96b6-191bbb326fc3"
      },
      "execution_count": 12,
      "outputs": [
        {
          "output_type": "execute_result",
          "data": {
            "text/plain": [
              "array([ 8.11460004e-01,  8.66730800e-01, -8.21555798e+15,  8.96094385e-01,\n",
              "        8.95972731e-01,  7.94527016e-01])"
            ]
          },
          "metadata": {},
          "execution_count": 12
        }
      ]
    },
    {
      "cell_type": "code",
      "source": [
        "lin_reg.fit(X_train_scaled,Y_train)\n",
        "y_pred_l = lin_reg.predict(X_test)\n",
        "print(\"R2_score:\",r2_score(Y_test,y_pred_l))"
      ],
      "metadata": {
        "colab": {
          "base_uri": "https://localhost:8080/"
        },
        "id": "1k6hNJ9C6fxz",
        "outputId": "1c071d3b-3edd-4515-9a71-2385ffdc9997"
      },
      "execution_count": 13,
      "outputs": [
        {
          "output_type": "stream",
          "name": "stdout",
          "text": [
            "R2_score: -4358241431786865.0\n"
          ]
        }
      ]
    },
    {
      "cell_type": "code",
      "source": [
        "plt.plot(Y_test, y_pred_l, color ='k')\n",
        "  \n",
        "plt.show()\n"
      ],
      "metadata": {
        "colab": {
          "base_uri": "https://localhost:8080/",
          "height": 276
        },
        "id": "YRG_NO1lH_6x",
        "outputId": "d5073678-cec7-4b9f-e59f-e6662e317172"
      },
      "execution_count": 14,
      "outputs": [
        {
          "output_type": "display_data",
          "data": {
            "text/plain": [
              "<Figure size 432x288 with 1 Axes>"
            ],
            "image/png": "[encoded data removed]"
          },
          "metadata": {
            "needs_background": "light"
          }
        }
      ]
    },
    {
      "cell_type": "code",
      "source": [
        "from sklearn.metrics import mean_absolute_error,mean_squared_error, mean_absolute_percentage_error\n",
        "  \n",
        "mae = mean_absolute_error(y_true=Y_test,y_pred=y_pred_l)\n",
        "#squared True returns MSE value, False returns RMSE value.\n",
        "mse = mean_squared_error(y_true=Y_test,y_pred=y_pred_l) #default=True\n",
        "rmse = mean_squared_error(y_true=Y_test,y_pred=y_pred_l,squared=False)\n",
        "mape = mean_absolute_percentage_error(y_true=Y_test,y_pred=y_pred_l)\n",
        "print(\"MAE:\",mae)\n",
        "print(\"MSE:\",mse)\n",
        "print(\"RMSE:\",rmse)"
      ],
      "metadata": {
        "colab": {
          "base_uri": "https://localhost:8080/"
        },
        "id": "lOu40btFNC4w",
        "outputId": "c79b50b0-0107-4f29-a6a7-c3a51da165b5"
      },
      "execution_count": 16,
      "outputs": [
        {
          "output_type": "stream",
          "name": "stdout",
          "text": [
            "MAE: 21795713113.53365\n",
            "MSE: 1.4897364504825225e+23\n",
            "RMSE: 385971041722.371\n"
          ]
        }
      ]
    },
    {
      "cell_type": "markdown",
      "source": [
        "## Random Forest Regressor"
      ],
      "metadata": {
        "id": "OmzRjxyLMl0v"
      }
    },
    {
      "cell_type": "code",
      "source": [
        "from sklearn.ensemble import RandomForestRegressor\n",
        "regr = RandomForestRegressor(max_depth=25, random_state=0,n_estimators = 80,max_features=\"auto\")\n",
        "scores = cross_val_score(regr, X_train, Y_train, scoring='r2', cv=6)\n",
        "scores"
      ],
      "metadata": {
        "colab": {
          "base_uri": "https://localhost:8080/"
        },
        "id": "KONTtLMSNG1r",
        "outputId": "7b5c84cc-3742-4a82-8958-45a8a779173e"
      },
      "execution_count": 17,
      "outputs": [
        {
          "output_type": "stream",
          "name": "stderr",
          "text": [
            "/usr/local/lib/python3.7/dist-packages/sklearn/model_selection/_validation.py:680: DataConversionWarning: A column-vector y was passed when a 1d array was expected. Please change the shape of y to (n_samples,), for example using ravel().\n",
            "  estimator.fit(X_train, y_train, **fit_params)\n",
            "/usr/local/lib/python3.7/dist-packages/sklearn/model_selection/_validation.py:680: DataConversionWarning: A column-vector y was passed when a 1d array was expected. Please change the shape of y to (n_samples,), for example using ravel().\n",
            "  estimator.fit(X_train, y_train, **fit_params)\n",
            "/usr/local/lib/python3.7/dist-packages/sklearn/model_selection/_validation.py:680: DataConversionWarning: A column-vector y was passed when a 1d array was expected. Please change the shape of y to (n_samples,), for example using ravel().\n",
            "  estimator.fit(X_train, y_train, **fit_params)\n",
            "/usr/local/lib/python3.7/dist-packages/sklearn/model_selection/_validation.py:680: DataConversionWarning: A column-vector y was passed when a 1d array was expected. Please change the shape of y to (n_samples,), for example using ravel().\n",
            "  estimator.fit(X_train, y_train, **fit_params)\n",
            "/usr/local/lib/python3.7/dist-packages/sklearn/model_selection/_validation.py:680: DataConversionWarning: A column-vector y was passed when a 1d array was expected. Please change the shape of y to (n_samples,), for example using ravel().\n",
            "  estimator.fit(X_train, y_train, **fit_params)\n",
            "/usr/local/lib/python3.7/dist-packages/sklearn/model_selection/_validation.py:680: DataConversionWarning: A column-vector y was passed when a 1d array was expected. Please change the shape of y to (n_samples,), for example using ravel().\n",
            "  estimator.fit(X_train, y_train, **fit_params)\n"
          ]
        },
        {
          "output_type": "execute_result",
          "data": {
            "text/plain": [
              "array([0.8882925 , 0.92649385, 0.91208775, 0.95291132, 0.93161478,\n",
              "       0.91929693])"
            ]
          },
          "metadata": {},
          "execution_count": 17
        }
      ]
    },
    {
      "cell_type": "code",
      "source": [
        "regr.fit(X_train, Y_train)\n",
        "y_pred_rf = regr.predict(X_test)\n",
        "print(\"R2_score:\",r2_score(Y_test,y_pred_rf))"
      ],
      "metadata": {
        "colab": {
          "base_uri": "https://localhost:8080/"
        },
        "id": "RfgcTiXE7a0T",
        "outputId": "e6d64e31-ae8a-4dde-b243-959ba67ad82d"
      },
      "execution_count": 18,
      "outputs": [
        {
          "output_type": "stream",
          "name": "stderr",
          "text": [
            "/usr/local/lib/python3.7/dist-packages/ipykernel_launcher.py:1: DataConversionWarning: A column-vector y was passed when a 1d array was expected. Please change the shape of y to (n_samples,), for example using ravel().\n",
            "  \"\"\"Entry point for launching an IPython kernel.\n"
          ]
        },
        {
          "output_type": "stream",
          "name": "stdout",
          "text": [
            "R2_score: 0.9401915142479375\n"
          ]
        }
      ]
    },
    {
      "cell_type": "code",
      "source": [
        "plt.plot(Y_test, y_pred_rf, color ='k')\n",
        "  \n",
        "plt.show()"
      ],
      "metadata": {
        "colab": {
          "base_uri": "https://localhost:8080/",
          "height": 265
        },
        "id": "pv2QLQNFY1zn",
        "outputId": "608be34e-e120-4457-9430-27c8e4486b90"
      },
      "execution_count": 19,
      "outputs": [
        {
          "output_type": "display_data",
          "data": {
            "text/plain": [
              "<Figure size 432x288 with 1 Axes>"
            ],
            "image/png": "[encoded data removed]"
          },
          "metadata": {
            "needs_background": "light"
          }
        }
      ]
    },
    {
      "cell_type": "code",
      "source": [
        "mae = mean_absolute_error(y_true=Y_test,y_pred=y_pred_rf)\n",
        "#squared True returns MSE value, False returns RMSE value.\n",
        "mse = mean_squared_error(y_true=Y_test,y_pred=y_pred_rf) #default=True\n",
        "rmse = mean_squared_error(y_true=Y_test,y_pred=y_pred_rf,squared=False)\n",
        "print(\"MAE:\",mae)\n",
        "print(\"MSE:\",mse)\n",
        "print(\"RMSE:\",rmse)"
      ],
      "metadata": {
        "colab": {
          "base_uri": "https://localhost:8080/"
        },
        "id": "H1MdyRUFZyRl",
        "outputId": "33b6a538-331a-4c39-ce9c-378bed058b99"
      },
      "execution_count": 20,
      "outputs": [
        {
          "output_type": "stream",
          "name": "stdout",
          "text": [
            "MAE: 612.2996798094301\n",
            "MSE: 2044376.9044819043\n",
            "RMSE: 1429.8170877709863\n"
          ]
        }
      ]
    },
    {
      "cell_type": "markdown",
      "source": [
        "### Hyperparamter tuning with RandomSearchCV"
      ],
      "metadata": {
        "id": "XcW8cX5wjuXJ"
      }
    },
    {
      "cell_type": "code",
      "source": [
        "from sklearn.model_selection import RandomizedSearchCV\n",
        "\n",
        "# Number of trees in random forest\n",
        "n_estimators = [int(x) for x in np.linspace(start = 200, stop = 2000, num = 10)]\n",
        "# Number of features to consider at every split\n",
        "max_features = ['auto', 'sqrt']\n",
        "# Maximum number of levels in tree\n",
        "max_depth = [int(x) for x in np.linspace(10, 110, num = 11)]\n",
        "max_depth.append(None)\n",
        "# Minimum number of samples required to split a node\n",
        "min_samples_split = [2, 5, 10]\n",
        "# Minimum number of samples required at each leaf node\n",
        "min_samples_leaf = [1, 2, 4]\n",
        "# Method of selecting samples for training each tree\n",
        "bootstrap = [True, False]\n",
        "# Create the random grid\n",
        "random_grid = {'n_estimators': n_estimators,\n",
        "               'max_features': max_features,\n",
        "               'max_depth': max_depth,\n",
        "               'min_samples_split': min_samples_split,\n",
        "               'min_samples_leaf': min_samples_leaf,\n",
        "               'bootstrap': bootstrap}"
      ],
      "metadata": {
        "id": "gh-Wj2i3jyAl"
      },
      "execution_count": 21,
      "outputs": []
    },
    {
      "cell_type": "code",
      "source": [
        "# Use the random grid to search for best hyperparameters\n",
        "# First create the base model to tune\n",
        "rf = RandomForestRegressor()\n",
        "# Random search of parameters, using 3 fold cross validation, \n",
        "# search across 100 different combinations, and use all available cores\n",
        "rf_random = RandomizedSearchCV(estimator = rf, param_distributions = random_grid, n_iter = 10, cv = 3, verbose=2, random_state=42, n_jobs = -1)\n",
        "# Fit the random search model\n",
        "rf_random.fit(X_train, Y_train)"
      ],
      "metadata": {
        "colab": {
          "base_uri": "https://localhost:8080/"
        },
        "id": "mOA7XEcbkL_z",
        "outputId": "07d23b03-34b7-4522-eda7-76ed173eea6c"
      },
      "execution_count": 22,
      "outputs": [
        {
          "output_type": "stream",
          "name": "stdout",
          "text": [
            "Fitting 3 folds for each of 10 candidates, totalling 30 fits\n"
          ]
        },
        {
          "output_type": "stream",
          "name": "stderr",
          "text": [
            "/usr/local/lib/python3.7/dist-packages/sklearn/model_selection/_search.py:926: DataConversionWarning: A column-vector y was passed when a 1d array was expected. Please change the shape of y to (n_samples,), for example using ravel().\n",
            "  self.best_estimator_.fit(X, y, **fit_params)\n"
          ]
        },
        {
          "output_type": "execute_result",
          "data": {
            "text/plain": [
              "RandomizedSearchCV(cv=3, estimator=RandomForestRegressor(), n_jobs=-1,\n",
              "                   param_distributions={'bootstrap': [True, False],\n",
              "                                        'max_depth': [10, 20, 30, 40, 50, 60,\n",
              "                                                      70, 80, 90, 100, 110,\n",
              "                                                      None],\n",
              "                                        'max_features': ['auto', 'sqrt'],\n",
              "                                        'min_samples_leaf': [1, 2, 4],\n",
              "                                        'min_samples_split': [2, 5, 10],\n",
              "                                        'n_estimators': [200, 400, 600, 800,\n",
              "                                                         1000, 1200, 1400, 1600,\n",
              "                                                         1800, 2000]},\n",
              "                   random_state=42, verbose=2)"
            ]
          },
          "metadata": {},
          "execution_count": 22
        }
      ]
    },
    {
      "cell_type": "code",
      "source": [
        "rf_random.best_params_"
      ],
      "metadata": {
        "colab": {
          "base_uri": "https://localhost:8080/"
        },
        "id": "B68n-MuLk-k7",
        "outputId": "85522546-9f32-45be-b7c4-188989411f0d"
      },
      "execution_count": 23,
      "outputs": [
        {
          "output_type": "execute_result",
          "data": {
            "text/plain": [
              "{'n_estimators': 400,\n",
              " 'min_samples_split': 10,\n",
              " 'min_samples_leaf': 1,\n",
              " 'max_features': 'sqrt',\n",
              " 'max_depth': 60,\n",
              " 'bootstrap': False}"
            ]
          },
          "metadata": {},
          "execution_count": 23
        }
      ]
    },
    {
      "cell_type": "code",
      "source": [
        "regr_best = RandomForestRegressor(n_estimators= 400,min_samples_split= 10,\n",
        " min_samples_leaf=1,\n",
        " max_features='sqrt',\n",
        "  max_depth= 60,\n",
        " bootstrap=False)\n",
        "scores = cross_val_score(regr_best, X_train, Y_train, scoring='r2', cv=6)\n",
        "scores"
      ],
      "metadata": {
        "colab": {
          "base_uri": "https://localhost:8080/"
        },
        "id": "daH9fJbsk_m7",
        "outputId": "ad583ad7-e91f-4f56-b7d6-2fe026d38aa2"
      },
      "execution_count": 24,
      "outputs": [
        {
          "output_type": "stream",
          "name": "stderr",
          "text": [
            "/usr/local/lib/python3.7/dist-packages/sklearn/model_selection/_validation.py:680: DataConversionWarning: A column-vector y was passed when a 1d array was expected. Please change the shape of y to (n_samples,), for example using ravel().\n",
            "  estimator.fit(X_train, y_train, **fit_params)\n",
            "/usr/local/lib/python3.7/dist-packages/sklearn/model_selection/_validation.py:680: DataConversionWarning: A column-vector y was passed when a 1d array was expected. Please change the shape of y to (n_samples,), for example using ravel().\n",
            "  estimator.fit(X_train, y_train, **fit_params)\n",
            "/usr/local/lib/python3.7/dist-packages/sklearn/model_selection/_validation.py:680: DataConversionWarning: A column-vector y was passed when a 1d array was expected. Please change the shape of y to (n_samples,), for example using ravel().\n",
            "  estimator.fit(X_train, y_train, **fit_params)\n",
            "/usr/local/lib/python3.7/dist-packages/sklearn/model_selection/_validation.py:680: DataConversionWarning: A column-vector y was passed when a 1d array was expected. Please change the shape of y to (n_samples,), for example using ravel().\n",
            "  estimator.fit(X_train, y_train, **fit_params)\n",
            "/usr/local/lib/python3.7/dist-packages/sklearn/model_selection/_validation.py:680: DataConversionWarning: A column-vector y was passed when a 1d array was expected. Please change the shape of y to (n_samples,), for example using ravel().\n",
            "  estimator.fit(X_train, y_train, **fit_params)\n",
            "/usr/local/lib/python3.7/dist-packages/sklearn/model_selection/_validation.py:680: DataConversionWarning: A column-vector y was passed when a 1d array was expected. Please change the shape of y to (n_samples,), for example using ravel().\n",
            "  estimator.fit(X_train, y_train, **fit_params)\n"
          ]
        },
        {
          "output_type": "execute_result",
          "data": {
            "text/plain": [
              "array([0.91848822, 0.92222026, 0.89065367, 0.95744889, 0.94425667,\n",
              "       0.9241932 ])"
            ]
          },
          "metadata": {},
          "execution_count": 24
        }
      ]
    },
    {
      "cell_type": "code",
      "source": [
        "regr_best.fit(X_train, Y_train)\n",
        "y_pred_rf_best = regr_best.predict(X_test)\n",
        "print(\"R2_score:\",r2_score(Y_test,y_pred_rf_best))"
      ],
      "metadata": {
        "colab": {
          "base_uri": "https://localhost:8080/"
        },
        "id": "hW8VVuA9q12r",
        "outputId": "da6807b8-4e17-4497-c74f-d7c8e2e887d1"
      },
      "execution_count": 25,
      "outputs": [
        {
          "output_type": "stream",
          "name": "stderr",
          "text": [
            "/usr/local/lib/python3.7/dist-packages/ipykernel_launcher.py:1: DataConversionWarning: A column-vector y was passed when a 1d array was expected. Please change the shape of y to (n_samples,), for example using ravel().\n",
            "  \"\"\"Entry point for launching an IPython kernel.\n"
          ]
        },
        {
          "output_type": "stream",
          "name": "stdout",
          "text": [
            "R2_score: 0.9516536324881085\n"
          ]
        }
      ]
    },
    {
      "cell_type": "code",
      "source": [
        "plt.plot(Y_test, y_pred_rf_best, color ='k')\n",
        "  \n",
        "plt.show()"
      ],
      "metadata": {
        "colab": {
          "base_uri": "https://localhost:8080/",
          "height": 265
        },
        "id": "JHAjvsB0rBNp",
        "outputId": "d140ba2d-e4af-45f8-b818-879c287f93c8"
      },
      "execution_count": 26,
      "outputs": [
        {
          "output_type": "display_data",
          "data": {
            "text/plain": [
              "<Figure size 432x288 with 1 Axes>"
            ],
            "image/png": "[encoded data removed]"
          },
          "metadata": {
            "needs_background": "light"
          }
        }
      ]
    },
    {
      "cell_type": "code",
      "source": [
        "mae = mean_absolute_error(y_true=Y_test,y_pred=y_pred_rf_best)\n",
        "#squared True returns MSE value, False returns RMSE value.\n",
        "mse = mean_squared_error(y_true=Y_test,y_pred=y_pred_rf_best) #default=True\n",
        "rmse = mean_squared_error(y_true=Y_test,y_pred=y_pred_rf_best,squared=False)\n",
        "print(\"MAE:\",mae)\n",
        "print(\"MSE:\",mse)\n",
        "print(\"RMSE:\",rmse)"
      ],
      "metadata": {
        "colab": {
          "base_uri": "https://localhost:8080/"
        },
        "id": "GKDZ4iEorBMB",
        "outputId": "03221f18-9b79-4e4e-c6ad-53c8fed00974"
      },
      "execution_count": 27,
      "outputs": [
        {
          "output_type": "stream",
          "name": "stdout",
          "text": [
            "MAE: 595.1633477519048\n",
            "MSE: 1652578.1569966723\n",
            "RMSE: 1285.5264124072567\n"
          ]
        }
      ]
    },
    {
      "cell_type": "markdown",
      "source": [
        "## LASSO Regression"
      ],
      "metadata": {
        "id": "iyC7bbc-NBQ0"
      }
    },
    {
      "cell_type": "code",
      "source": [
        "from sklearn import linear_model\n",
        "lasso = linear_model.Lasso(alpha=0.02)\n",
        "scores = cross_val_score(lasso, X_train, Y_train, scoring='r2', cv=6)\n",
        "scores"
      ],
      "metadata": {
        "id": "bO7yCoTZZ3WW",
        "colab": {
          "base_uri": "https://localhost:8080/"
        },
        "outputId": "8ae36143-14e1-45fc-8617-21168a5bd5aa"
      },
      "execution_count": 28,
      "outputs": [
        {
          "output_type": "stream",
          "name": "stderr",
          "text": [
            "/usr/local/lib/python3.7/dist-packages/sklearn/linear_model/_coordinate_descent.py:648: ConvergenceWarning: Objective did not converge. You might want to increase the number of iterations, check the scale of the features or consider increasing regularisation. Duality gap: 1.536e+09, tolerance: 2.954e+06\n",
            "  coef_, l1_reg, l2_reg, X, y, max_iter, tol, rng, random, positive\n",
            "/usr/local/lib/python3.7/dist-packages/sklearn/linear_model/_coordinate_descent.py:648: ConvergenceWarning: Objective did not converge. You might want to increase the number of iterations, check the scale of the features or consider increasing regularisation. Duality gap: 1.663e+09, tolerance: 2.733e+06\n",
            "  coef_, l1_reg, l2_reg, X, y, max_iter, tol, rng, random, positive\n",
            "/usr/local/lib/python3.7/dist-packages/sklearn/linear_model/_coordinate_descent.py:648: ConvergenceWarning: Objective did not converge. You might want to increase the number of iterations, check the scale of the features or consider increasing regularisation. Duality gap: 1.647e+09, tolerance: 2.640e+06\n",
            "  coef_, l1_reg, l2_reg, X, y, max_iter, tol, rng, random, positive\n",
            "/usr/local/lib/python3.7/dist-packages/sklearn/linear_model/_coordinate_descent.py:648: ConvergenceWarning: Objective did not converge. You might want to increase the number of iterations, check the scale of the features or consider increasing regularisation. Duality gap: 1.660e+09, tolerance: 2.790e+06\n",
            "  coef_, l1_reg, l2_reg, X, y, max_iter, tol, rng, random, positive\n",
            "/usr/local/lib/python3.7/dist-packages/sklearn/linear_model/_coordinate_descent.py:648: ConvergenceWarning: Objective did not converge. You might want to increase the number of iterations, check the scale of the features or consider increasing regularisation. Duality gap: 1.835e+09, tolerance: 3.114e+06\n",
            "  coef_, l1_reg, l2_reg, X, y, max_iter, tol, rng, random, positive\n",
            "/usr/local/lib/python3.7/dist-packages/sklearn/linear_model/_coordinate_descent.py:648: ConvergenceWarning: Objective did not converge. You might want to increase the number of iterations, check the scale of the features or consider increasing regularisation. Duality gap: 1.545e+09, tolerance: 2.995e+06\n",
            "  coef_, l1_reg, l2_reg, X, y, max_iter, tol, rng, random, positive\n"
          ]
        },
        {
          "output_type": "execute_result",
          "data": {
            "text/plain": [
              "array([ 8.11390530e-01,  8.94396640e-01, -8.27332615e+15,  8.96361116e-01,\n",
              "        8.95980001e-01,  7.94588442e-01])"
            ]
          },
          "metadata": {},
          "execution_count": 28
        }
      ]
    },
    {
      "cell_type": "code",
      "source": [
        "lasso.fit(X_train,Y_train)\n",
        "y_pred_lr = lasso.predict(X_test)\n",
        "print(\"R2_score:\",r2_score(Y_test,y_pred_lr))"
      ],
      "metadata": {
        "colab": {
          "base_uri": "https://localhost:8080/"
        },
        "id": "j7TXuWwQ74cR",
        "outputId": "3a05b443-6d7c-47fa-a0cd-c274789326ab"
      },
      "execution_count": 29,
      "outputs": [
        {
          "output_type": "stream",
          "name": "stdout",
          "text": [
            "R2_score: 0.8518812014125925\n"
          ]
        },
        {
          "output_type": "stream",
          "name": "stderr",
          "text": [
            "/usr/local/lib/python3.7/dist-packages/sklearn/linear_model/_coordinate_descent.py:648: ConvergenceWarning: Objective did not converge. You might want to increase the number of iterations, check the scale of the features or consider increasing regularisation. Duality gap: 1.990e+09, tolerance: 3.447e+06\n",
            "  coef_, l1_reg, l2_reg, X, y, max_iter, tol, rng, random, positive\n"
          ]
        }
      ]
    },
    {
      "cell_type": "code",
      "source": [
        "plt.plot(Y_test, y_pred_lr, color ='k')\n",
        "  \n",
        "plt.show()"
      ],
      "metadata": {
        "colab": {
          "base_uri": "https://localhost:8080/",
          "height": 268
        },
        "id": "jEehV75ecK4y",
        "outputId": "cf3802f0-6a40-4ae3-b692-b129152f7d8b"
      },
      "execution_count": 30,
      "outputs": [
        {
          "output_type": "display_data",
          "data": {
            "text/plain": [
              "<Figure size 432x288 with 1 Axes>"
            ],
            "image/png": "[encoded data removed]"
          },
          "metadata": {
            "needs_background": "light"
          }
        }
      ]
    },
    {
      "cell_type": "code",
      "source": [
        "mae = mean_absolute_error(y_true=Y_test,y_pred=y_pred_lr)\n",
        "#squared True returns MSE value, False returns RMSE value.\n",
        "mse = mean_squared_error(y_true=Y_test,y_pred=y_pred_lr) #default=True\n",
        "rmse = mean_squared_error(y_true=Y_test,y_pred=y_pred_lr,squared=False)\n",
        "  \n",
        "print(\"MAE:\",mae)\n",
        "print(\"MSE:\",mse)\n",
        "print(\"RMSE:\",rmse)"
      ],
      "metadata": {
        "colab": {
          "base_uri": "https://localhost:8080/"
        },
        "id": "8mczo0cvcbol",
        "outputId": "51e776d9-1c1a-4af5-c234-ab3b28843bc7"
      },
      "execution_count": 31,
      "outputs": [
        {
          "output_type": "stream",
          "name": "stdout",
          "text": [
            "MAE: 1347.014301962376\n",
            "MSE: 5063004.808498436\n",
            "RMSE: 2250.1121768699522\n"
          ]
        }
      ]
    },
    {
      "cell_type": "markdown",
      "source": [
        "## XGBoost Regressor"
      ],
      "metadata": {
        "id": "jhExVhVUNMNR"
      }
    },
    {
      "cell_type": "code",
      "source": [
        "import xgboost as xg\n",
        "\n",
        "xgb_r = xg.XGBRegressor(objective ='reg:linear',\n",
        "                  n_estimators = 70, seed = 123)\n",
        "scores = cross_val_score(xgb_r, X_train, Y_train, scoring='r2', cv=6)\n",
        "scores"
      ],
      "metadata": {
        "colab": {
          "base_uri": "https://localhost:8080/"
        },
        "id": "DWJHYhN3cezA",
        "outputId": "28d06fa4-00fc-4d4e-bcd7-54f2ac6cfd39"
      },
      "execution_count": 32,
      "outputs": [
        {
          "output_type": "stream",
          "name": "stdout",
          "text": [
            "[06:10:54] WARNING: /workspace/src/objective/regression_obj.cu:152: reg:linear is now deprecated in favor of reg:squarederror.\n",
            "[06:10:54] WARNING: /workspace/src/objective/regression_obj.cu:152: reg:linear is now deprecated in favor of reg:squarederror.\n",
            "[06:10:54] WARNING: /workspace/src/objective/regression_obj.cu:152: reg:linear is now deprecated in favor of reg:squarederror.\n",
            "[06:10:54] WARNING: /workspace/src/objective/regression_obj.cu:152: reg:linear is now deprecated in favor of reg:squarederror.\n",
            "[06:10:55] WARNING: /workspace/src/objective/regression_obj.cu:152: reg:linear is now deprecated in favor of reg:squarederror.\n",
            "[06:10:55] WARNING: /workspace/src/objective/regression_obj.cu:152: reg:linear is now deprecated in favor of reg:squarederror.\n"
          ]
        },
        {
          "output_type": "execute_result",
          "data": {
            "text/plain": [
              "array([0.91449447, 0.92933618, 0.9243512 , 0.95743335, 0.92710892,\n",
              "       0.92075686])"
            ]
          },
          "metadata": {},
          "execution_count": 32
        }
      ]
    },
    {
      "cell_type": "code",
      "source": [
        "xgb_r.fit(X_train, Y_train)\n",
        "y_pred_xg = xgb_r.predict(X_test)\n",
        "print(\"R2_score:\",r2_score(Y_test,y_pred_xg))"
      ],
      "metadata": {
        "colab": {
          "base_uri": "https://localhost:8080/"
        },
        "id": "6tfNm_kv8R1s",
        "outputId": "c6436869-72d7-4987-d03d-471d0842baf1"
      },
      "execution_count": 33,
      "outputs": [
        {
          "output_type": "stream",
          "name": "stdout",
          "text": [
            "[06:10:57] WARNING: /workspace/src/objective/regression_obj.cu:152: reg:linear is now deprecated in favor of reg:squarederror.\n",
            "R2_score: 0.9467272465720852\n"
          ]
        }
      ]
    },
    {
      "cell_type": "code",
      "source": [
        "plt.plot(Y_test, y_pred_xg, color ='k')\n",
        "plt.show()"
      ],
      "metadata": {
        "colab": {
          "base_uri": "https://localhost:8080/",
          "height": 265
        },
        "id": "YJ2JQaq-dG7m",
        "outputId": "8aec751a-c8fc-4bcd-e70e-17cd117d893d"
      },
      "execution_count": 34,
      "outputs": [
        {
          "output_type": "display_data",
          "data": {
            "text/plain": [
              "<Figure size 432x288 with 1 Axes>"
            ],
            "image/png": "[encoded data removed]"
          },
          "metadata": {
            "needs_background": "light"
          }
        }
      ]
    },
    {
      "cell_type": "code",
      "source": [
        "mae = mean_absolute_error(y_true=Y_test,y_pred=y_pred_xg)\n",
        "#squared True returns MSE value, False returns RMSE value.\n",
        "mse = mean_squared_error(y_true=Y_test,y_pred=y_pred_xg) #default=True\n",
        "rmse = mean_squared_error(y_true=Y_test,y_pred=y_pred_xg,squared=False)\n",
        "  \n",
        "print(\"MAE:\",mae)\n",
        "print(\"MSE:\",mse)\n",
        "print(\"RMSE:\",rmse)"
      ],
      "metadata": {
        "colab": {
          "base_uri": "https://localhost:8080/"
        },
        "id": "Gf4oeYw8dLwr",
        "outputId": "7a8dbbad-5756-4d0a-fb26-4f4dc4358481"
      },
      "execution_count": 35,
      "outputs": [
        {
          "output_type": "stream",
          "name": "stdout",
          "text": [
            "MAE: 632.0587720740677\n",
            "MSE: 1820972.1476259313\n",
            "RMSE: 1349.4340101042108\n"
          ]
        }
      ]
    },
    {
      "cell_type": "markdown",
      "source": [
        "### Hyperparameter tuning with RandomSearchCV"
      ],
      "metadata": {
        "id": "XH_CWfQSnCtx"
      }
    },
    {
      "cell_type": "code",
      "source": [
        "params = {\n",
        " 'learning_rate' : [0.05,0.10,0.15,0.20,0.25,0.30],\n",
        " 'max_depth' : [ 3, 4, 5, 6, 8, 10, 12, 15],\n",
        " 'min_child_weight' : [ 1, 3, 5, 7 ],\n",
        " 'gamma': [ 0.0, 0.1, 0.2 , 0.3, 0.4 ],\n",
        " 'colsample_bytree' : [ 0.3, 0.4, 0.5 , 0.7 ]\n",
        "}"
      ],
      "metadata": {
        "id": "Vbk_CQP1pgul"
      },
      "execution_count": 36,
      "outputs": []
    },
    {
      "cell_type": "code",
      "source": [
        "rs_model=RandomizedSearchCV(xgb_r,param_distributions=params,n_iter=10,scoring='r2',n_jobs=-1,cv=5,verbose=3)"
      ],
      "metadata": {
        "id": "mxgXHPWlpoDE"
      },
      "execution_count": 37,
      "outputs": []
    },
    {
      "cell_type": "code",
      "source": [
        "rs_model.fit(X_train,Y_train)"
      ],
      "metadata": {
        "colab": {
          "base_uri": "https://localhost:8080/"
        },
        "id": "VFF-Z9Uuren7",
        "outputId": "bd215b3a-222c-45e4-b196-b751b99a7c62"
      },
      "execution_count": 38,
      "outputs": [
        {
          "output_type": "stream",
          "name": "stdout",
          "text": [
            "Fitting 5 folds for each of 10 candidates, totalling 50 fits\n",
            "[06:11:18] WARNING: /workspace/src/objective/regression_obj.cu:152: reg:linear is now deprecated in favor of reg:squarederror.\n"
          ]
        },
        {
          "output_type": "execute_result",
          "data": {
            "text/plain": [
              "RandomizedSearchCV(cv=5, estimator=XGBRegressor(n_estimators=70, seed=123),\n",
              "                   n_jobs=-1,\n",
              "                   param_distributions={'colsample_bytree': [0.3, 0.4, 0.5,\n",
              "                                                             0.7],\n",
              "                                        'gamma': [0.0, 0.1, 0.2, 0.3, 0.4],\n",
              "                                        'learning_rate': [0.05, 0.1, 0.15, 0.2,\n",
              "                                                          0.25, 0.3],\n",
              "                                        'max_depth': [3, 4, 5, 6, 8, 10, 12,\n",
              "                                                      15],\n",
              "                                        'min_child_weight': [1, 3, 5, 7]},\n",
              "                   scoring='r2', verbose=3)"
            ]
          },
          "metadata": {},
          "execution_count": 38
        }
      ]
    },
    {
      "cell_type": "code",
      "source": [
        "rs_model.best_estimator_\n"
      ],
      "metadata": {
        "colab": {
          "base_uri": "https://localhost:8080/"
        },
        "id": "hbCabhSvremW",
        "outputId": "bce81517-1ea5-476c-a7be-d280364afd73"
      },
      "execution_count": 39,
      "outputs": [
        {
          "output_type": "execute_result",
          "data": {
            "text/plain": [
              "XGBRegressor(colsample_bytree=0.7, gamma=0.1, learning_rate=0.2, max_depth=8,\n",
              "             min_child_weight=7, n_estimators=70, seed=123)"
            ]
          },
          "metadata": {},
          "execution_count": 39
        }
      ]
    },
    {
      "cell_type": "code",
      "source": [
        "xgb_r_best = xg.XGBRegressor(colsample_bytree=0.7, gamma=0.1, learning_rate=0.2, max_depth=8,\n",
        "             min_child_weight=7, n_estimators=70, seed=123)\n",
        "scores = cross_val_score(xgb_r_best, X_train, Y_train, scoring='r2', cv=6)\n",
        "scores"
      ],
      "metadata": {
        "colab": {
          "base_uri": "https://localhost:8080/"
        },
        "id": "z9Py_G7Aru2m",
        "outputId": "d79ecabb-c98f-4cb6-e885-bc7c015edcc1"
      },
      "execution_count": 40,
      "outputs": [
        {
          "output_type": "stream",
          "name": "stdout",
          "text": [
            "[06:11:40] WARNING: /workspace/src/objective/regression_obj.cu:152: reg:linear is now deprecated in favor of reg:squarederror.\n",
            "[06:11:40] WARNING: /workspace/src/objective/regression_obj.cu:152: reg:linear is now deprecated in favor of reg:squarederror.\n",
            "[06:11:40] WARNING: /workspace/src/objective/regression_obj.cu:152: reg:linear is now deprecated in favor of reg:squarederror.\n",
            "[06:11:40] WARNING: /workspace/src/objective/regression_obj.cu:152: reg:linear is now deprecated in favor of reg:squarederror.\n",
            "[06:11:40] WARNING: /workspace/src/objective/regression_obj.cu:152: reg:linear is now deprecated in favor of reg:squarederror.\n",
            "[06:11:40] WARNING: /workspace/src/objective/regression_obj.cu:152: reg:linear is now deprecated in favor of reg:squarederror.\n"
          ]
        },
        {
          "output_type": "execute_result",
          "data": {
            "text/plain": [
              "array([0.91368678, 0.95094208, 0.92511793, 0.96141835, 0.95307003,\n",
              "       0.91249687])"
            ]
          },
          "metadata": {},
          "execution_count": 40
        }
      ]
    },
    {
      "cell_type": "code",
      "source": [
        "xgb_r_best.fit(X_train, Y_train)\n",
        "y_pred_xg_best = xgb_r_best.predict(X_test)\n",
        "print(\"R2_score:\",r2_score(Y_test,y_pred_xg_best))"
      ],
      "metadata": {
        "colab": {
          "base_uri": "https://localhost:8080/"
        },
        "id": "UQEp9Rfxr8Ep",
        "outputId": "65ca2ca7-ca06-41d3-a510-8b77060e11c2"
      },
      "execution_count": 41,
      "outputs": [
        {
          "output_type": "stream",
          "name": "stdout",
          "text": [
            "[06:11:45] WARNING: /workspace/src/objective/regression_obj.cu:152: reg:linear is now deprecated in favor of reg:squarederror.\n",
            "R2_score: 0.9530222083484091\n"
          ]
        }
      ]
    },
    {
      "cell_type": "code",
      "source": [
        "plt.plot(Y_test, y_pred_xg_best, color ='k')\n",
        "plt.show()"
      ],
      "metadata": {
        "colab": {
          "base_uri": "https://localhost:8080/",
          "height": 265
        },
        "id": "JqPzVdRqsEus",
        "outputId": "fc2776ba-5e6f-45c1-c814-03e124c7220c"
      },
      "execution_count": 42,
      "outputs": [
        {
          "output_type": "display_data",
          "data": {
            "text/plain": [
              "<Figure size 432x288 with 1 Axes>"
            ],
            "image/png": "[encoded data removed]"
          },
          "metadata": {
            "needs_background": "light"
          }
        }
      ]
    },
    {
      "cell_type": "code",
      "source": [
        "mae = mean_absolute_error(y_true=Y_test,y_pred=y_pred_xg_best)\n",
        "#squared True returns MSE value, False returns RMSE value.\n",
        "mse = mean_squared_error(y_true=Y_test,y_pred=y_pred_xg_best) #default=True\n",
        "rmse = mean_squared_error(y_true=Y_test,y_pred=y_pred_xg_best,squared=False)\n",
        "  \n",
        "print(\"MAE:\",mae)\n",
        "print(\"MSE:\",mse)\n",
        "print(\"RMSE:\",rmse)"
      ],
      "metadata": {
        "colab": {
          "base_uri": "https://localhost:8080/"
        },
        "id": "KJmzE7fXsQ96",
        "outputId": "95e11024-64f6-414d-ae95-44eb14addbbf"
      },
      "execution_count": 43,
      "outputs": [
        {
          "output_type": "stream",
          "name": "stdout",
          "text": [
            "MAE: 569.4075346545341\n",
            "MSE: 1605797.42269705\n",
            "RMSE: 1267.2006244857403\n"
          ]
        }
      ]
    },
    {
      "cell_type": "markdown",
      "source": [
        "## KNN Regressor"
      ],
      "metadata": {
        "id": "jLyn0sFdNgca"
      }
    },
    {
      "cell_type": "code",
      "source": [
        "from sklearn.neighbors import KNeighborsRegressor\n",
        "knn_regressor=KNeighborsRegressor(n_neighbors=1)\n",
        "scores = cross_val_score(knn_regressor, X_train, Y_train, scoring='r2', cv=6)\n",
        "scores\n"
      ],
      "metadata": {
        "id": "fPWJzOrRNi3a",
        "colab": {
          "base_uri": "https://localhost:8080/"
        },
        "outputId": "8ccf2cac-e9b7-4205-d6c4-91584692fdb5"
      },
      "execution_count": 44,
      "outputs": [
        {
          "output_type": "execute_result",
          "data": {
            "text/plain": [
              "array([0.7368488 , 0.5806903 , 0.41851272, 0.68293942, 0.38660291,\n",
              "       0.60605369])"
            ]
          },
          "metadata": {},
          "execution_count": 44
        }
      ]
    },
    {
      "cell_type": "code",
      "source": [
        "knn_regressor.fit(X_train, Y_train)\n",
        "y_pred_knn = knn_regressor.predict(X_test)\n",
        "print(\"R2_score:\",r2_score(Y_test,y_pred_knn))"
      ],
      "metadata": {
        "colab": {
          "base_uri": "https://localhost:8080/"
        },
        "id": "2tosfhWbNV-s",
        "outputId": "332810ef-b77f-4d42-eff2-84afd31ab48a"
      },
      "execution_count": 45,
      "outputs": [
        {
          "output_type": "stream",
          "name": "stdout",
          "text": [
            "R2_score: 0.7247375640718599\n"
          ]
        }
      ]
    },
    {
      "cell_type": "code",
      "source": [
        "plt.plot(Y_test, y_pred_knn, color ='k')\n",
        "plt.show()"
      ],
      "metadata": {
        "colab": {
          "base_uri": "https://localhost:8080/",
          "height": 265
        },
        "id": "izZgJevZNkVC",
        "outputId": "c5d56e8d-72e5-442a-b7bd-3400391bb90b"
      },
      "execution_count": 46,
      "outputs": [
        {
          "output_type": "display_data",
          "data": {
            "text/plain": [
              "<Figure size 432x288 with 1 Axes>"
            ],
            "image/png": "[encoded data removed]"
          },
          "metadata": {
            "needs_background": "light"
          }
        }
      ]
    },
    {
      "cell_type": "code",
      "source": [
        "mae = mean_absolute_error(y_true=Y_test,y_pred=y_pred_knn)\n",
        "#squared True returns MSE value, False returns RMSE value.\n",
        "mse = mean_squared_error(y_true=Y_test,y_pred=y_pred_knn) #default=True\n",
        "rmse = mean_squared_error(y_true=Y_test,y_pred=y_pred_knn,squared=False)\n",
        "  \n",
        "print(\"MAE:\",mae)\n",
        "print(\"MSE:\",mse)\n",
        "print(\"RMSE:\",rmse)"
      ],
      "metadata": {
        "colab": {
          "base_uri": "https://localhost:8080/"
        },
        "id": "bcAyBEodNo82",
        "outputId": "3753a4fb-1d58-48e0-87f8-279a7324d039"
      },
      "execution_count": 47,
      "outputs": [
        {
          "output_type": "stream",
          "name": "stdout",
          "text": [
            "MAE: 1197.3252456689506\n",
            "MSE: 9409035.517397515\n",
            "RMSE: 3067.415119835839\n"
          ]
        }
      ]
    },
    {
      "cell_type": "markdown",
      "source": [
        "### Hyperparameter tuning"
      ],
      "metadata": {
        "id": "SG8rRMkNN6Yo"
      }
    },
    {
      "cell_type": "code",
      "source": [
        "knn_accuracy_rate = []\n",
        "for i in range(1,40):\n",
        "    \n",
        "    knn = KNeighborsRegressor(n_neighbors=i)\n",
        "    knn_score=cross_val_score(knn,X_train,Y_train,cv=10,scoring=\"r2\")\n",
        "    knn_accuracy_rate.append(knn_score.mean())\n",
        "\n"
      ],
      "metadata": {
        "id": "RIlmWYVPN8i7"
      },
      "execution_count": 48,
      "outputs": []
    },
    {
      "cell_type": "code",
      "source": [
        "import matplotlib.pyplot as plt\n",
        "\n",
        "plt.figure(figsize=(10,6))\n",
        "plt.plot(range(1,40),knn_accuracy_rate,color='blue', linestyle='dashed', marker='o',\n",
        "         markerfacecolor='red', markersize=10)\n",
        "plt.title('Accuracy Rate vs. K Value')\n",
        "plt.xlabel('K')\n",
        "plt.ylabel('Accuracy Rate')"
      ],
      "metadata": {
        "colab": {
          "base_uri": "https://localhost:8080/",
          "height": 421
        },
        "id": "UZvxld73OUk1",
        "outputId": "f602ab39-31ee-4f73-fec6-694355c2e48e"
      },
      "execution_count": 49,
      "outputs": [
        {
          "output_type": "execute_result",
          "data": {
            "text/plain": [
              "Text(0, 0.5, 'Accuracy Rate')"
            ]
          },
          "metadata": {},
          "execution_count": 49
        },
        {
          "output_type": "display_data",
          "data": {
            "text/plain": [
              "<Figure size 720x432 with 1 Axes>"
            ],
            "image/png": "[encoded data removed]"
          },
          "metadata": {
            "needs_background": "light"
          }
        }
      ]
    },
    {
      "cell_type": "code",
      "source": [
        "knn_regressor_best=KNeighborsRegressor(n_neighbors=5)\n",
        "scores = cross_val_score(knn_regressor_best, X_train, Y_train, scoring='r2', cv=6)\n",
        "scores"
      ],
      "metadata": {
        "colab": {
          "base_uri": "https://localhost:8080/"
        },
        "id": "0rwuwtSKOiXy",
        "outputId": "ac5ebc1b-df79-43b9-918a-7ca897a9d951"
      },
      "execution_count": 50,
      "outputs": [
        {
          "output_type": "execute_result",
          "data": {
            "text/plain": [
              "array([0.7296375 , 0.74065879, 0.49974291, 0.73073508, 0.76184407,\n",
              "       0.7039041 ])"
            ]
          },
          "metadata": {},
          "execution_count": 50
        }
      ]
    },
    {
      "cell_type": "code",
      "source": [
        "knn_regressor_best.fit(X_train, Y_train)\n",
        "y_pred_knn_best = knn_regressor_best.predict(X_test)\n",
        "print(\"R2_score:\",r2_score(Y_test,y_pred_knn_best))"
      ],
      "metadata": {
        "colab": {
          "base_uri": "https://localhost:8080/"
        },
        "id": "ptPhyfpwOos0",
        "outputId": "dca69159-282b-4f5e-e720-c836e4570d27"
      },
      "execution_count": 51,
      "outputs": [
        {
          "output_type": "stream",
          "name": "stdout",
          "text": [
            "R2_score: 0.7561271094980493\n"
          ]
        }
      ]
    },
    {
      "cell_type": "code",
      "source": [
        "plt.plot(Y_test, y_pred_knn_best, color ='k')\n",
        "plt.show()"
      ],
      "metadata": {
        "colab": {
          "base_uri": "https://localhost:8080/",
          "height": 265
        },
        "id": "-Tu1cmTpOtlo",
        "outputId": "93087740-3c9c-4509-9b1b-25ca187ed2b5"
      },
      "execution_count": 52,
      "outputs": [
        {
          "output_type": "display_data",
          "data": {
            "text/plain": [
              "<Figure size 432x288 with 1 Axes>"
            ],
            "image/png": "[encoded data removed]"
          },
          "metadata": {
            "needs_background": "light"
          }
        }
      ]
    },
    {
      "cell_type": "code",
      "source": [
        "mae = mean_absolute_error(y_true=Y_test,y_pred=y_pred_knn_best)\n",
        "#squared True returns MSE value, False returns RMSE value.\n",
        "mse = mean_squared_error(y_true=Y_test,y_pred=y_pred_knn_best) #default=True\n",
        "rmse = mean_squared_error(y_true=Y_test,y_pred=y_pred_knn_best,squared=False)\n",
        "  \n",
        "print(\"MAE:\",mae)\n",
        "print(\"MSE:\",mse)\n",
        "print(\"RMSE:\",rmse)"
      ],
      "metadata": {
        "colab": {
          "base_uri": "https://localhost:8080/"
        },
        "id": "yWd9_oSFOz6-",
        "outputId": "1f5fcfea-b22a-4f44-ae65-b7ea9f407f58"
      },
      "execution_count": 53,
      "outputs": [
        {
          "output_type": "stream",
          "name": "stdout",
          "text": [
            "MAE: 1256.4227977125372\n",
            "MSE: 8336076.372812012\n",
            "RMSE: 2887.2264152317553\n"
          ]
        }
      ]
    },
    {
      "cell_type": "markdown",
      "source": [
        "## PSO Regression\n"
      ],
      "metadata": {
        "id": "Tasidgnwb_kz"
      }
    },
    {
      "cell_type": "code",
      "source": [
        "from scipy.stats import norm\n",
        "from sklearn.preprocessing import StandardScaler\n",
        "\n",
        "YData = data['Binary Black Holes']\n",
        "XData = data.drop(['Binary Black Holes','TLC at 12 Gyrs'], axis=1)\n",
        "X = XData.values\n",
        "y= YData.values\n",
        "scaler = StandardScaler()\n",
        "X = scaler.fit_transform(X)"
      ],
      "metadata": {
        "id": "bO9WvQZffUqw"
      },
      "execution_count": 54,
      "outputs": []
    },
    {
      "cell_type": "code",
      "source": [
        "X.shape, y.shape\n"
      ],
      "metadata": {
        "colab": {
          "base_uri": "https://localhost:8080/"
        },
        "id": "hVy7zDLtjxz9",
        "outputId": "7675d167-c77c-475a-aea7-1b1e478fcb86"
      },
      "execution_count": 55,
      "outputs": [
        {
          "output_type": "execute_result",
          "data": {
            "text/plain": [
              "((1296, 20), (1296,))"
            ]
          },
          "metadata": {},
          "execution_count": 55
        }
      ]
    },
    {
      "cell_type": "code",
      "source": [],
      "metadata": {
        "id": "0VL6tm7mlA8-"
      },
      "execution_count": 55,
      "outputs": []
    },
    {
      "cell_type": "code",
      "source": [
        "class SIregression:\n",
        "  def __init__(self,num_particles=10,learning_rate=0.0003,batch_size=10,epoch=10,inertia = 0.9, c1 = 0.5, c2 = 0.4):\n",
        "    self.lr_init = learning_rate\n",
        "    self.batch_size = batch_size\n",
        "    self.num_particles = num_particles\n",
        "    self.trained_weights = None\n",
        "    self.epoch = epoch\n",
        "    self.c2 = c2\n",
        "    self.c1 = c1\n",
        "    self.inertia = inertia\n",
        "\n",
        "  def split(self,data):\n",
        "    # one can override this function build custom data spliter (for temporal data)\n",
        "    split_percentage = 1\n",
        "    # returns training data,validation data\n",
        "    return data[:int(data.shape[0]*split_percentage)],data[int(data.shape[0]*(split_percentage)):] \n",
        "\n",
        "  def loss_func(self,target,values):\n",
        "    # one can overrided this function to create a custome lossfunction\n",
        "    return np.sum((target-values)**2)/target.shape[0]\n",
        "\n",
        "  def exp_decay(self,loss):\n",
        "    # learning rate will decay with respect to the loss\n",
        "    k = 0.3\n",
        "    lrate = self.lr_init * np.exp(k*(loss-self.thresh))\n",
        "    return lrate\n",
        "\n",
        "  def velocity_update(self,v1,pbest,gbest,present):\n",
        "    #updating the velocity using the formula\n",
        "    # logistic equation of chaos as r > 4 \n",
        "    self.inertia = 4*self.inertia*(1-self.inertia)\n",
        "    return self.inertia*v1 + self.c1*np.random.rand()*(pbest-present)+self.c2*np.random.rand()*(gbest-present)\n",
        "  def fit(self,X,y):\n",
        "    # initializing starting position, velocity, particles best values\n",
        "    particles=[]\n",
        "    best_loss = 0\n",
        "    global_best = None\n",
        "    # adding one for the bias term\n",
        "    X = np.append(X,np.ones(shape = (X.shape[0],1)),axis=1)\n",
        "\n",
        "    for particle in norm.rvs(scale = 5, size = (self.num_particles , X.shape[1])):\n",
        "      particles.append({'values':particle,\n",
        "                        'velocity':np.random.randn(X.shape[1]),\n",
        "                        'present_best': particle})\n",
        "      \n",
        "      if len(particles) == 1:\n",
        "        global_best = particle\n",
        "        best_loss = self.loss_func(y[:self.batch_size],np.array([np.sum(particle*x) for x in X[:self.batch_size]]))\n",
        "      else:\n",
        "        current_loss = self.loss_func(y[:self.batch_size],np.array([np.sum(particle*x) for x in X[:self.batch_size]]))\n",
        "        if current_loss<best_loss:\n",
        "          global_best = particle\n",
        "          best_loss = current_loss\n",
        "    particles = np.array(particles)\n",
        "\n",
        "    #algorithm\n",
        "    ep = 0\n",
        "    loss = 9999\n",
        "    while self.epoch>ep:\n",
        "      train_data,val_data = self.split(np.append(X,np.vstack(y),axis=1))\n",
        "      previous_loss = self.loss_func(train_data[:,-1],np.array([np.sum(global_best*x) for x in train_data[:,:-1]]))\n",
        "      for i,particle in enumerate(particles):\n",
        "        # print(particle.values)\n",
        "        particles[i]['velocity'] = self.velocity_update(particle['velocity'],global_best,particle['present_best'],particles[i]['values'])\n",
        "        \n",
        "        # updating the position\n",
        "        particles[i]['values'] = particles[i]['values'] + particles[i]['velocity']\n",
        "\n",
        "        # updating present best and global best\n",
        "        present_loss = self.loss_func(train_data[:,-1],np.array([np.sum(particles[i]['values']*x) for x in train_data[:,:-1]]))\n",
        "        present_best_loss = self.loss_func(train_data[:,-1],np.array([np.sum(particles[i]['present_best']*x) for x in train_data[:,:-1]]))\n",
        "        global_best_loss = self.loss_func(train_data[:,-1],np.array([np.sum(global_best*x) for x in train_data[:,:-1]]))\n",
        "        \n",
        "        if present_loss < present_best_loss:\n",
        "          particles[i]['present_best'] = particles[i]['values']\n",
        "        if present_best_loss < global_best_loss:\n",
        "          global_best = particles[i]['present_best']\n",
        "        \n",
        "      loss = self.loss_func(train_data[:,-1],np.array([np.sum(global_best*x) for x in train_data[:,:-1]]))\n",
        "      # mutation for local minima purpose\n",
        "      if int(previous_loss) == int(loss):\n",
        "        for i,_ in enumerate(particles):\n",
        "          # shift the point by a randnom distance which decreases as the iterations reaches end\n",
        "          particles[i]['values'] = particles[i]['values'] + norm.rvs(scale =(self.epoch-ep)/self.epoch if (self.epoch-ep)/self.epoch > 0.2 else 0.2 ,size=(len(particles[i]['values'])))\n",
        "      \n",
        "      print(\"training loss {} of epoch {}\".format(loss,ep+1))\n",
        "      ep = ep+1\n",
        "    \n",
        "    print(global_best.shape)\n",
        "    self.trained_weights = global_best\n",
        "    return self.trained_weights\n",
        "  def predict(self,X):\n",
        "    # adding one for the bias term\n",
        "    print(X.shape)\n",
        "    X = np.append(X,np.ones(shape = (X.shape[0],1)),axis=1)\n",
        "    return np.array([np.sum(self.trained_weights*x) for x in X[:,:]])"
      ],
      "metadata": {
        "id": "TN_yFjw_jzsV"
      },
      "execution_count": 56,
      "outputs": []
    },
    {
      "cell_type": "code",
      "source": [
        "X_train, X_test, Y_train, Y_test = train_test_split(X, y, test_size = 0.25)"
      ],
      "metadata": {
        "id": "iWug8iSqowOl"
      },
      "execution_count": 57,
      "outputs": []
    },
    {
      "cell_type": "code",
      "source": [
        "model = SIregression(num_particles=70,epoch=50)\n",
        "model.fit(X_train,Y_train)\n"
      ],
      "metadata": {
        "colab": {
          "base_uri": "https://localhost:8080/"
        },
        "id": "3qy02sm4kyL2",
        "outputId": "b1b39cb8-7347-437e-a209-82e956aa93c4"
      },
      "execution_count": 58,
      "outputs": [
        {
          "output_type": "stream",
          "name": "stdout",
          "text": [
            "training loss 72.44917966648268 of epoch 1\n",
            "training loss 72.44917966648268 of epoch 2\n",
            "training loss 53.145620406880475 of epoch 3\n",
            "training loss 36.729514871235175 of epoch 4\n",
            "training loss 36.17890778077808 of epoch 5\n",
            "training loss 32.55877311631977 of epoch 6\n",
            "training loss 22.98965044504006 of epoch 7\n",
            "training loss 22.98965044504006 of epoch 8\n",
            "training loss 16.39169262660934 of epoch 9\n",
            "training loss 13.591019272294744 of epoch 10\n",
            "training loss 11.364046163966458 of epoch 11\n",
            "training loss 10.493819464832788 of epoch 12\n",
            "training loss 6.884916539302601 of epoch 13\n",
            "training loss 6.884916539302601 of epoch 14\n",
            "training loss 4.966623801847381 of epoch 15\n",
            "training loss 4.131046775152338 of epoch 16\n",
            "training loss 4.131046775152338 of epoch 17\n",
            "training loss 4.131046775152338 of epoch 18\n",
            "training loss 3.9570009471453194 of epoch 19\n",
            "training loss 3.356967503166726 of epoch 20\n",
            "training loss 2.8434415669401534 of epoch 21\n",
            "training loss 2.8434415669401534 of epoch 22\n",
            "training loss 2.47151568148378 of epoch 23\n",
            "training loss 2.225770220461676 of epoch 24\n",
            "training loss 2.225770220461676 of epoch 25\n",
            "training loss 2.225770220461676 of epoch 26\n",
            "training loss 2.225770220461676 of epoch 27\n",
            "training loss 2.225770220461676 of epoch 28\n",
            "training loss 2.1000668340460615 of epoch 29\n",
            "training loss 1.843974224838849 of epoch 30\n",
            "training loss 1.771905319213457 of epoch 31\n",
            "training loss 1.5977184950827843 of epoch 32\n",
            "training loss 1.5977184950827843 of epoch 33\n",
            "training loss 1.5977184950827843 of epoch 34\n",
            "training loss 1.5383402750900355 of epoch 35\n",
            "training loss 1.5383402750900355 of epoch 36\n",
            "training loss 1.5383402750900355 of epoch 37\n",
            "training loss 1.3748716313089533 of epoch 38\n",
            "training loss 1.3748716313089533 of epoch 39\n",
            "training loss 1.3748716313089533 of epoch 40\n",
            "training loss 1.3748716313089533 of epoch 41\n",
            "training loss 1.3748716313089533 of epoch 42\n",
            "training loss 1.3748716313089533 of epoch 43\n",
            "training loss 1.3748716313089533 of epoch 44\n",
            "training loss 1.3748716313089533 of epoch 45\n",
            "training loss 1.3748716313089533 of epoch 46\n",
            "training loss 1.3156238427064944 of epoch 47\n",
            "training loss 1.3156238427064944 of epoch 48\n",
            "training loss 1.2789296368575684 of epoch 49\n",
            "training loss 1.2789296368575684 of epoch 50\n",
            "(21,)\n"
          ]
        },
        {
          "output_type": "execute_result",
          "data": {
            "text/plain": [
              "array([-0.23752821, -0.30775507,  1.5357322 , -0.88492778,  0.12006681,\n",
              "       -0.04900832, -0.03553589, -0.22316294,  0.39117994, -0.15943374,\n",
              "        1.84178788,  0.11839945, -0.14557139, -0.23960675, -2.58087546,\n",
              "        0.73422447,  0.44731187,  0.052728  ,  0.25839068, -0.0432341 ,\n",
              "        0.66040327])"
            ]
          },
          "metadata": {},
          "execution_count": 58
        }
      ]
    },
    {
      "cell_type": "code",
      "source": [
        "y_pred_pso = model.predict(X_test)"
      ],
      "metadata": {
        "colab": {
          "base_uri": "https://localhost:8080/"
        },
        "id": "D_nD4jB8riae",
        "outputId": "505eaa78-58e9-403f-ef11-9da58a1ae726"
      },
      "execution_count": 59,
      "outputs": [
        {
          "output_type": "stream",
          "name": "stdout",
          "text": [
            "(324, 20)\n"
          ]
        }
      ]
    },
    {
      "cell_type": "code",
      "source": [
        "print(model.loss_func(Y_test,y_pred_pso))"
      ],
      "metadata": {
        "colab": {
          "base_uri": "https://localhost:8080/"
        },
        "id": "QII6XFUBpHI5",
        "outputId": "a4398e69-1c88-497f-8845-91e4a54f531c"
      },
      "execution_count": 60,
      "outputs": [
        {
          "output_type": "stream",
          "name": "stdout",
          "text": [
            "1.8738935668369736\n"
          ]
        }
      ]
    },
    {
      "cell_type": "code",
      "source": [
        "from sklearn.metrics import mean_absolute_error,mean_squared_error\n",
        "mae = mean_absolute_error(y_true=Y_test,y_pred=y_pred_pso)\n",
        "#squared True returns MSE value, False returns RMSE value.\n",
        "mse = mean_squared_error(y_true=Y_test,y_pred=y_pred_pso) #default=True\n",
        "rmse = mean_squared_error(y_true=Y_test,y_pred=y_pred_pso,squared=False)\n",
        "  \n",
        "print(\"MAE:\",mae)\n",
        "print(\"MSE:\",mse)\n",
        "print(\"RMSE:\",rmse)"
      ],
      "metadata": {
        "colab": {
          "base_uri": "https://localhost:8080/"
        },
        "id": "QM70bGbirfr7",
        "outputId": "97ff934f-14d4-4085-83be-e3a785eee68e"
      },
      "execution_count": 61,
      "outputs": [
        {
          "output_type": "stream",
          "name": "stdout",
          "text": [
            "MAE: 0.7632910846335177\n",
            "MSE: 1.8738935668369736\n",
            "RMSE: 1.3689023218758063\n"
          ]
        }
      ]
    },
    {
      "cell_type": "code",
      "source": [
        "from sklearn.metrics import r2_score\n",
        "print(\"R2_score\",r2_score(Y_test,y_pred_pso))"
      ],
      "metadata": {
        "colab": {
          "base_uri": "https://localhost:8080/"
        },
        "id": "Yf_Z1Nplruw8",
        "outputId": "0668127b-9f6a-4dc2-afc0-3bfad5cd46bf"
      },
      "execution_count": 62,
      "outputs": [
        {
          "output_type": "stream",
          "name": "stdout",
          "text": [
            "R2_score 0.2078052027776084\n"
          ]
        }
      ]
    },
    {
      "cell_type": "markdown",
      "source": [
        "## Comparing with SLR model"
      ],
      "metadata": {
        "id": "IiB5Hy7bqLDb"
      }
    },
    {
      "cell_type": "code",
      "source": [
        "from sklearn.linear_model import LinearRegression\n",
        "mod = LinearRegression()\n",
        "mod.fit(X_train,Y_train)\n",
        "y_pred = mod.predict(X_test)\n",
        "print(model.loss_func(Y_test,y_pred))"
      ],
      "metadata": {
        "colab": {
          "base_uri": "https://localhost:8080/"
        },
        "id": "IMj6FPZ-pfOB",
        "outputId": "d7552795-f983-4d24-e74f-66a8cb98e194"
      },
      "execution_count": 63,
      "outputs": [
        {
          "output_type": "stream",
          "name": "stdout",
          "text": [
            "3964239.7907203296\n"
          ]
        }
      ]
    },
    {
      "cell_type": "code",
      "source": [
        "mod.coef_"
      ],
      "metadata": {
        "colab": {
          "base_uri": "https://localhost:8080/"
        },
        "id": "IY2HTasqqSEQ",
        "outputId": "4cb1226c-f63e-4c87-f58d-ee35b9b2df0c"
      },
      "execution_count": 64,
      "outputs": [
        {
          "output_type": "execute_result",
          "data": {
            "text/plain": [
              "array([-3.38508025e-02, -9.72599625e-02, -8.89574344e-01,  7.93595589e-01,\n",
              "        2.13948188e-01, -1.77146058e-01,  2.35791043e-02, -4.23841787e-02,\n",
              "        3.23450370e-01, -1.30767331e-02, -8.32286553e+03, -2.57053284e-01,\n",
              "       -4.69499104e-02,  5.56182031e+02,  8.28516084e+03,  6.63580405e-01,\n",
              "        3.42430746e-01, -2.93106233e-01,  3.17036439e-01,  1.62056844e-01])"
            ]
          },
          "metadata": {},
          "execution_count": 64
        }
      ]
    },
    {
      "cell_type": "code",
      "source": [
        "model.trained_weights\n"
      ],
      "metadata": {
        "colab": {
          "base_uri": "https://localhost:8080/"
        },
        "id": "NsE--dZhqcHx",
        "outputId": "fc7771fb-b1a0-494f-b962-257173ba7274"
      },
      "execution_count": 65,
      "outputs": [
        {
          "output_type": "execute_result",
          "data": {
            "text/plain": [
              "array([-0.23752821, -0.30775507,  1.5357322 , -0.88492778,  0.12006681,\n",
              "       -0.04900832, -0.03553589, -0.22316294,  0.39117994, -0.15943374,\n",
              "        1.84178788,  0.11839945, -0.14557139, -0.23960675, -2.58087546,\n",
              "        0.73422447,  0.44731187,  0.052728  ,  0.25839068, -0.0432341 ,\n",
              "        0.66040327])"
            ]
          },
          "metadata": {},
          "execution_count": 65
        }
      ]
    },
    {
      "cell_type": "code",
      "source": [
        "from sklearn.metrics import mean_absolute_error,mean_squared_error\n",
        "mae = mean_absolute_error(y_true=Y_test,y_pred=y_pred)\n",
        "#squared True returns MSE value, False returns RMSE value.\n",
        "mse = mean_squared_error(y_true=Y_test,y_pred=y_pred) #default=True\n",
        "rmse = mean_squared_error(y_true=Y_test,y_pred=y_pred,squared=False)\n",
        "  \n",
        "print(\"MAE:\",mae)\n",
        "print(\"MSE:\",mse)\n",
        "print(\"RMSE:\",rmse)"
      ],
      "metadata": {
        "colab": {
          "base_uri": "https://localhost:8080/"
        },
        "id": "2WaZIXLdrFwW",
        "outputId": "62e067d6-278a-430e-d13e-4e655966f321"
      },
      "execution_count": 66,
      "outputs": [
        {
          "output_type": "stream",
          "name": "stdout",
          "text": [
            "MAE: 111.18089875250936\n",
            "MSE: 3964239.7907203296\n",
            "RMSE: 1991.0398767278193\n"
          ]
        }
      ]
    },
    {
      "cell_type": "code",
      "source": [
        "print(\"R2_score\",r2_score(Y_test,y_pred))"
      ],
      "metadata": {
        "colab": {
          "base_uri": "https://localhost:8080/"
        },
        "id": "2Mx48WDEqd8b",
        "outputId": "364657a2-95f1-49fa-867a-3c1e64cb1e21"
      },
      "execution_count": 67,
      "outputs": [
        {
          "output_type": "stream",
          "name": "stdout",
          "text": [
            "R2_score -1675894.6819791691\n"
          ]
        }
      ]
    },
    {
      "cell_type": "code",
      "source": [],
      "metadata": {
        "id": "YxPMD8vStV9O"
      },
      "execution_count": null,
      "outputs": []
    }
  ]
}