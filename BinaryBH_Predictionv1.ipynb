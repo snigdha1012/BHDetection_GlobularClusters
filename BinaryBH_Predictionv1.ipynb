{
  "nbformat": 4,
  "nbformat_minor": 0,
  "metadata": {
    "colab": {
      "provenance": [],
      "collapsed_sections": [],
      "include_colab_link": true
    },
    "kernelspec": {
      "name": "python3",
      "display_name": "Python 3"
    },
    "language_info": {
      "name": "python"
    },
    "accelerator": "GPU",
    "gpuClass": "standard"
  },
  "cells": [
    {
      "cell_type": "markdown",
      "metadata": {
        "id": "view-in-github",
        "colab_type": "text"
      },
      "source": [
        "<a href=\"https://colab.research.google.com/github/Niveditha-K17/BHDetection_GlobularClusters/blob/main/BinaryBH_Predictionv1.ipynb\" target=\"_parent\"><img src=\"https://colab.research.google.com/assets/colab-badge.svg\" alt=\"Open In Colab\"/></a>"
      ]
    },
    {
      "cell_type": "markdown",
      "source": [
        "## Importing necessary libraries and Pre-processing"
      ],
      "metadata": {
        "id": "McJHNUut6Kwj"
      }
    },
    {
      "cell_type": "code",
      "execution_count": 1,
      "metadata": {
        "id": "RsSPs-uMBOTz"
      },
      "outputs": [],
      "source": [
        "import pandas as pd\n",
        "import numpy as np\n",
        "import matplotlib.pyplot as plt"
      ]
    },
    {
      "cell_type": "code",
      "source": [
        "from google.colab import drive\n",
        "drive.mount('/content/drive')"
      ],
      "metadata": {
        "colab": {
          "base_uri": "https://localhost:8080/"
        },
        "id": "HDMxe_X_SRyc",
        "outputId": "c3df367b-45de-42e6-9fd8-ebf1cf7c3cfa"
      },
      "execution_count": 2,
      "outputs": [
        {
          "output_type": "stream",
          "name": "stdout",
          "text": [
            "Mounted at /content/drive\n"
          ]
        }
      ]
    },
    {
      "cell_type": "code",
      "source": [
        "data = pd.read_csv(\"/content/drive/MyDrive/DA_Project/simulations.csv\")\n",
        "data"
      ],
      "metadata": {
        "id": "2qLB7yBTCOJW",
        "colab": {
          "base_uri": "https://localhost:8080/",
          "height": 592
        },
        "outputId": "c0c79a35-47d3-4f12-dbd2-c5394519c638"
      },
      "execution_count": 3,
      "outputs": [
        {
          "output_type": "execute_result",
          "data": {
            "text/plain": [
              "      Galactocentric Raidus  Cluster Metallicity  \\\n",
              "0                  4.483209                0.001   \n",
              "1                  4.483209                0.001   \n",
              "2                  4.483209                0.001   \n",
              "3                  4.483209                0.001   \n",
              "4                  4.483209                0.001   \n",
              "...                     ...                  ...   \n",
              "1291               8.961667                0.001   \n",
              "1292               8.961667                0.001   \n",
              "1293               8.961667                0.001   \n",
              "1294               8.961667                0.001   \n",
              "1295               8.961667                0.001   \n",
              "\n",
              "      Number of Objects in the Cluster  Cluster Mass  \\\n",
              "0                                38920    23593.2395   \n",
              "1                               505043   164640.2310   \n",
              "2                               479417   158782.2470   \n",
              "3                               504171   173094.5800   \n",
              "4                               501245   172722.6840   \n",
              "...                                ...           ...   \n",
              "1291                            430575   153829.5090   \n",
              "1292                           1148111   378797.8470   \n",
              "1293                           1121134   376044.7900   \n",
              "1294                           1124046   372312.7040   \n",
              "1295                           1060404   358251.7990   \n",
              "\n",
              "      Observational Core Radius  Observational Half-Light Radius  \\\n",
              "0                      0.381992                         3.413317   \n",
              "1                      0.368883                         2.491200   \n",
              "2                      0.053349                         1.930993   \n",
              "3                      0.239726                         2.193033   \n",
              "4                      0.458644                         2.537746   \n",
              "...                         ...                              ...   \n",
              "1291                   8.186195                        11.196129   \n",
              "1292                   0.363009                         4.047745   \n",
              "1293                   0.276965                         5.093038   \n",
              "1294                   0.876489                         6.211617   \n",
              "1295                   4.960723                         9.352212   \n",
              "\n",
              "      Central Surface Brightness Total  Binary Fraction  \\\n",
              "0                           109.654400         0.399229   \n",
              "1                         34827.624400         0.099239   \n",
              "2                        100139.011000         0.130133   \n",
              "3                         13710.088900         0.184856   \n",
              "4                          2589.006420         0.192672   \n",
              "...                                ...              ...   \n",
              "1291                        124.013015         0.084009   \n",
              "1292                     121091.456000         0.049244   \n",
              "1293                      50124.732700         0.050766   \n",
              "1294                       7679.070830         0.059884   \n",
              "1295                        591.695393         0.073547   \n",
              "\n",
              "      Half-Mass Relaxation Time  Total Luminosity of Cluster at 12 Gyrs  ...  \\\n",
              "0                    885.619718                              20229.8993  ...   \n",
              "1                   3460.547220                              77000.7159  ...   \n",
              "2                   2958.528450                              73983.4991  ...   \n",
              "3                   3949.593890                              85496.8882  ...   \n",
              "4                   4089.662060                              78996.9967  ...   \n",
              "...                         ...                                     ...  ...   \n",
              "1291               17004.436600                              87728.4511  ...   \n",
              "1292                7780.207680                             208888.6760  ...   \n",
              "1293                8518.287010                             205882.5110  ...   \n",
              "1294               13372.708500                             206975.9980  ...   \n",
              "1295               19822.877400                             196080.6450  ...   \n",
              "\n",
              "      Half-light radius obtained from King 62 fitting  \\\n",
              "0                                             3.85929   \n",
              "1                                             2.54377   \n",
              "2                                             2.03162   \n",
              "3                                             2.42598   \n",
              "4                                             2.64693   \n",
              "...                                               ...   \n",
              "1291                                         12.88920   \n",
              "1292                                          4.21363   \n",
              "1293                                          5.49906   \n",
              "1294                                          6.75933   \n",
              "1295                                          9.61243   \n",
              "\n",
              "      Total luminosity from snap-2D  Single Black Holes  Binary Black Holes  \\\n",
              "0                           14969.5                   0                   1   \n",
              "1                           55168.4                   1                   0   \n",
              "2                           54178.7                   1                   0   \n",
              "3                           61475.5                   0                   0   \n",
              "4                           58285.7                   3                   1   \n",
              "...                             ...                 ...                 ...   \n",
              "1291                        59061.0                 421                   5   \n",
              "1292                       148172.0                   1                   0   \n",
              "1293                       143544.0                   5                   0   \n",
              "1294                       144985.0                   2                   0   \n",
              "1295                       141820.0                 452                   6   \n",
              "\n",
              "      Black Hole Other Count  Mass of Most Massive Black Hole  \\\n",
              "0                          0                        21.994084   \n",
              "1                          0                      5871.062390   \n",
              "2                          0                         5.907700   \n",
              "3                          1                        17.542009   \n",
              "4                          0                        12.388086   \n",
              "...                      ...                              ...   \n",
              "1291                       5                        26.195472   \n",
              "1292                       0                      8141.942800   \n",
              "1293                       0                     14571.972300   \n",
              "1294                       0                      4528.488600   \n",
              "1295                       1                        24.838628   \n",
              "\n",
              "      Fallback Enabled  Central Velocity Dispersion  Unnamed: 22  Unnamed: 23  \n",
              "0                    0                      1.94718       575.27       792.36  \n",
              "1                    0                     10.15090      6338.30     22914.00  \n",
              "2                    1                      5.44959    171360.00     93731.00  \n",
              "3                    0                      4.87986     22645.00     35459.00  \n",
              "4                    1                      4.49099      7351.00     12222.00  \n",
              "...                ...                          ...          ...          ...  \n",
              "1291                 1                      3.74500       114.81       818.16  \n",
              "1292                 0                      9.27809     10004.00     27489.00  \n",
              "1293                 1                     12.35760     11224.00     25443.00  \n",
              "1294                 0                      7.20535      4501.60     15058.00  \n",
              "1295                 1                      5.35266       668.04      3489.30  \n",
              "\n",
              "[1296 rows x 24 columns]"
            ],
            "text/html": [
              "\n",
              "  <div id=\"df-2d1af50c-69ee-47c6-99da-6073144a6730\">\n",
              "    <div class=\"colab-df-container\">\n",
              "      <div>\n",
              "<style scoped>\n",
              "    .dataframe tbody tr th:only-of-type {\n",
              "        vertical-align: middle;\n",
              "    }\n",
              "\n",
              "    .dataframe tbody tr th {\n",
              "        vertical-align: top;\n",
              "    }\n",
              "\n",
              "    .dataframe thead th {\n",
              "        text-align: right;\n",
              "    }\n",
              "</style>\n",
              "<table border=\"1\" class=\"dataframe\">\n",
              "  <thead>\n",
              "    <tr style=\"text-align: right;\">\n",
              "      <th></th>\n",
              "      <th>Galactocentric Raidus</th>\n",
              "      <th>Cluster Metallicity</th>\n",
              "      <th>Number of Objects in the Cluster</th>\n",
              "      <th>Cluster Mass</th>\n",
              "      <th>Observational Core Radius</th>\n",
              "      <th>Observational Half-Light Radius</th>\n",
              "      <th>Central Surface Brightness Total</th>\n",
              "      <th>Binary Fraction</th>\n",
              "      <th>Half-Mass Relaxation Time</th>\n",
              "      <th>Total Luminosity of Cluster at 12 Gyrs</th>\n",
              "      <th>...</th>\n",
              "      <th>Half-light radius obtained from King 62 fitting</th>\n",
              "      <th>Total luminosity from snap-2D</th>\n",
              "      <th>Single Black Holes</th>\n",
              "      <th>Binary Black Holes</th>\n",
              "      <th>Black Hole Other Count</th>\n",
              "      <th>Mass of Most Massive Black Hole</th>\n",
              "      <th>Fallback Enabled</th>\n",
              "      <th>Central Velocity Dispersion</th>\n",
              "      <th>Unnamed: 22</th>\n",
              "      <th>Unnamed: 23</th>\n",
              "    </tr>\n",
              "  </thead>\n",
              "  <tbody>\n",
              "    <tr>\n",
              "      <th>0</th>\n",
              "      <td>4.483209</td>\n",
              "      <td>0.001</td>\n",
              "      <td>38920</td>\n",
              "      <td>23593.2395</td>\n",
              "      <td>0.381992</td>\n",
              "      <td>3.413317</td>\n",
              "      <td>109.654400</td>\n",
              "      <td>0.399229</td>\n",
              "      <td>885.619718</td>\n",
              "      <td>20229.8993</td>\n",
              "      <td>...</td>\n",
              "      <td>3.85929</td>\n",
              "      <td>14969.5</td>\n",
              "      <td>0</td>\n",
              "      <td>1</td>\n",
              "      <td>0</td>\n",
              "      <td>21.994084</td>\n",
              "      <td>0</td>\n",
              "      <td>1.94718</td>\n",
              "      <td>575.27</td>\n",
              "      <td>792.36</td>\n",
              "    </tr>\n",
              "    <tr>\n",
              "      <th>1</th>\n",
              "      <td>4.483209</td>\n",
              "      <td>0.001</td>\n",
              "      <td>505043</td>\n",
              "      <td>164640.2310</td>\n",
              "      <td>0.368883</td>\n",
              "      <td>2.491200</td>\n",
              "      <td>34827.624400</td>\n",
              "      <td>0.099239</td>\n",
              "      <td>3460.547220</td>\n",
              "      <td>77000.7159</td>\n",
              "      <td>...</td>\n",
              "      <td>2.54377</td>\n",
              "      <td>55168.4</td>\n",
              "      <td>1</td>\n",
              "      <td>0</td>\n",
              "      <td>0</td>\n",
              "      <td>5871.062390</td>\n",
              "      <td>0</td>\n",
              "      <td>10.15090</td>\n",
              "      <td>6338.30</td>\n",
              "      <td>22914.00</td>\n",
              "    </tr>\n",
              "    <tr>\n",
              "      <th>2</th>\n",
              "      <td>4.483209</td>\n",
              "      <td>0.001</td>\n",
              "      <td>479417</td>\n",
              "      <td>158782.2470</td>\n",
              "      <td>0.053349</td>\n",
              "      <td>1.930993</td>\n",
              "      <td>100139.011000</td>\n",
              "      <td>0.130133</td>\n",
              "      <td>2958.528450</td>\n",
              "      <td>73983.4991</td>\n",
              "      <td>...</td>\n",
              "      <td>2.03162</td>\n",
              "      <td>54178.7</td>\n",
              "      <td>1</td>\n",
              "      <td>0</td>\n",
              "      <td>0</td>\n",
              "      <td>5.907700</td>\n",
              "      <td>1</td>\n",
              "      <td>5.44959</td>\n",
              "      <td>171360.00</td>\n",
              "      <td>93731.00</td>\n",
              "    </tr>\n",
              "    <tr>\n",
              "      <th>3</th>\n",
              "      <td>4.483209</td>\n",
              "      <td>0.001</td>\n",
              "      <td>504171</td>\n",
              "      <td>173094.5800</td>\n",
              "      <td>0.239726</td>\n",
              "      <td>2.193033</td>\n",
              "      <td>13710.088900</td>\n",
              "      <td>0.184856</td>\n",
              "      <td>3949.593890</td>\n",
              "      <td>85496.8882</td>\n",
              "      <td>...</td>\n",
              "      <td>2.42598</td>\n",
              "      <td>61475.5</td>\n",
              "      <td>0</td>\n",
              "      <td>0</td>\n",
              "      <td>1</td>\n",
              "      <td>17.542009</td>\n",
              "      <td>0</td>\n",
              "      <td>4.87986</td>\n",
              "      <td>22645.00</td>\n",
              "      <td>35459.00</td>\n",
              "    </tr>\n",
              "    <tr>\n",
              "      <th>4</th>\n",
              "      <td>4.483209</td>\n",
              "      <td>0.001</td>\n",
              "      <td>501245</td>\n",
              "      <td>172722.6840</td>\n",
              "      <td>0.458644</td>\n",
              "      <td>2.537746</td>\n",
              "      <td>2589.006420</td>\n",
              "      <td>0.192672</td>\n",
              "      <td>4089.662060</td>\n",
              "      <td>78996.9967</td>\n",
              "      <td>...</td>\n",
              "      <td>2.64693</td>\n",
              "      <td>58285.7</td>\n",
              "      <td>3</td>\n",
              "      <td>1</td>\n",
              "      <td>0</td>\n",
              "      <td>12.388086</td>\n",
              "      <td>1</td>\n",
              "      <td>4.49099</td>\n",
              "      <td>7351.00</td>\n",
              "      <td>12222.00</td>\n",
              "    </tr>\n",
              "    <tr>\n",
              "      <th>...</th>\n",
              "      <td>...</td>\n",
              "      <td>...</td>\n",
              "      <td>...</td>\n",
              "      <td>...</td>\n",
              "      <td>...</td>\n",
              "      <td>...</td>\n",
              "      <td>...</td>\n",
              "      <td>...</td>\n",
              "      <td>...</td>\n",
              "      <td>...</td>\n",
              "      <td>...</td>\n",
              "      <td>...</td>\n",
              "      <td>...</td>\n",
              "      <td>...</td>\n",
              "      <td>...</td>\n",
              "      <td>...</td>\n",
              "      <td>...</td>\n",
              "      <td>...</td>\n",
              "      <td>...</td>\n",
              "      <td>...</td>\n",
              "      <td>...</td>\n",
              "    </tr>\n",
              "    <tr>\n",
              "      <th>1291</th>\n",
              "      <td>8.961667</td>\n",
              "      <td>0.001</td>\n",
              "      <td>430575</td>\n",
              "      <td>153829.5090</td>\n",
              "      <td>8.186195</td>\n",
              "      <td>11.196129</td>\n",
              "      <td>124.013015</td>\n",
              "      <td>0.084009</td>\n",
              "      <td>17004.436600</td>\n",
              "      <td>87728.4511</td>\n",
              "      <td>...</td>\n",
              "      <td>12.88920</td>\n",
              "      <td>59061.0</td>\n",
              "      <td>421</td>\n",
              "      <td>5</td>\n",
              "      <td>5</td>\n",
              "      <td>26.195472</td>\n",
              "      <td>1</td>\n",
              "      <td>3.74500</td>\n",
              "      <td>114.81</td>\n",
              "      <td>818.16</td>\n",
              "    </tr>\n",
              "    <tr>\n",
              "      <th>1292</th>\n",
              "      <td>8.961667</td>\n",
              "      <td>0.001</td>\n",
              "      <td>1148111</td>\n",
              "      <td>378797.8470</td>\n",
              "      <td>0.363009</td>\n",
              "      <td>4.047745</td>\n",
              "      <td>121091.456000</td>\n",
              "      <td>0.049244</td>\n",
              "      <td>7780.207680</td>\n",
              "      <td>208888.6760</td>\n",
              "      <td>...</td>\n",
              "      <td>4.21363</td>\n",
              "      <td>148172.0</td>\n",
              "      <td>1</td>\n",
              "      <td>0</td>\n",
              "      <td>0</td>\n",
              "      <td>8141.942800</td>\n",
              "      <td>0</td>\n",
              "      <td>9.27809</td>\n",
              "      <td>10004.00</td>\n",
              "      <td>27489.00</td>\n",
              "    </tr>\n",
              "    <tr>\n",
              "      <th>1293</th>\n",
              "      <td>8.961667</td>\n",
              "      <td>0.001</td>\n",
              "      <td>1121134</td>\n",
              "      <td>376044.7900</td>\n",
              "      <td>0.276965</td>\n",
              "      <td>5.093038</td>\n",
              "      <td>50124.732700</td>\n",
              "      <td>0.050766</td>\n",
              "      <td>8518.287010</td>\n",
              "      <td>205882.5110</td>\n",
              "      <td>...</td>\n",
              "      <td>5.49906</td>\n",
              "      <td>143544.0</td>\n",
              "      <td>5</td>\n",
              "      <td>0</td>\n",
              "      <td>0</td>\n",
              "      <td>14571.972300</td>\n",
              "      <td>1</td>\n",
              "      <td>12.35760</td>\n",
              "      <td>11224.00</td>\n",
              "      <td>25443.00</td>\n",
              "    </tr>\n",
              "    <tr>\n",
              "      <th>1294</th>\n",
              "      <td>8.961667</td>\n",
              "      <td>0.001</td>\n",
              "      <td>1124046</td>\n",
              "      <td>372312.7040</td>\n",
              "      <td>0.876489</td>\n",
              "      <td>6.211617</td>\n",
              "      <td>7679.070830</td>\n",
              "      <td>0.059884</td>\n",
              "      <td>13372.708500</td>\n",
              "      <td>206975.9980</td>\n",
              "      <td>...</td>\n",
              "      <td>6.75933</td>\n",
              "      <td>144985.0</td>\n",
              "      <td>2</td>\n",
              "      <td>0</td>\n",
              "      <td>0</td>\n",
              "      <td>4528.488600</td>\n",
              "      <td>0</td>\n",
              "      <td>7.20535</td>\n",
              "      <td>4501.60</td>\n",
              "      <td>15058.00</td>\n",
              "    </tr>\n",
              "    <tr>\n",
              "      <th>1295</th>\n",
              "      <td>8.961667</td>\n",
              "      <td>0.001</td>\n",
              "      <td>1060404</td>\n",
              "      <td>358251.7990</td>\n",
              "      <td>4.960723</td>\n",
              "      <td>9.352212</td>\n",
              "      <td>591.695393</td>\n",
              "      <td>0.073547</td>\n",
              "      <td>19822.877400</td>\n",
              "      <td>196080.6450</td>\n",
              "      <td>...</td>\n",
              "      <td>9.61243</td>\n",
              "      <td>141820.0</td>\n",
              "      <td>452</td>\n",
              "      <td>6</td>\n",
              "      <td>1</td>\n",
              "      <td>24.838628</td>\n",
              "      <td>1</td>\n",
              "      <td>5.35266</td>\n",
              "      <td>668.04</td>\n",
              "      <td>3489.30</td>\n",
              "    </tr>\n",
              "  </tbody>\n",
              "</table>\n",
              "<p>1296 rows × 24 columns</p>\n",
              "</div>\n",
              "      <button class=\"colab-df-convert\" onclick=\"convertToInteractive('df-2d1af50c-69ee-47c6-99da-6073144a6730')\"\n",
              "              title=\"Convert this dataframe to an interactive table.\"\n",
              "              style=\"display:none;\">\n",
              "        \n",
              "  <svg xmlns=\"http://www.w3.org/2000/svg\" height=\"24px\"viewBox=\"0 0 24 24\"\n",
              "       width=\"24px\">\n",
              "    <path d=\"M0 0h24v24H0V0z\" fill=\"none\"/>\n",
              "    <path d=\"M18.56 5.44l.94 2.06.94-2.06 2.06-.94-2.06-.94-.94-2.06-.94 2.06-2.06.94zm-11 1L8.5 8.5l.94-2.06 2.06-.94-2.06-.94L8.5 2.5l-.94 2.06-2.06.94zm10 10l.94 2.06.94-2.06 2.06-.94-2.06-.94-.94-2.06-.94 2.06-2.06.94z\"/><path d=\"M17.41 7.96l-1.37-1.37c-.4-.4-.92-.59-1.43-.59-.52 0-1.04.2-1.43.59L10.3 9.45l-7.72 7.72c-.78.78-.78 2.05 0 2.83L4 21.41c.39.39.9.59 1.41.59.51 0 1.02-.2 1.41-.59l7.78-7.78 2.81-2.81c.8-.78.8-2.07 0-2.86zM5.41 20L4 18.59l7.72-7.72 1.47 1.35L5.41 20z\"/>\n",
              "  </svg>\n",
              "      </button>\n",
              "      \n",
              "  <style>\n",
              "    .colab-df-container {\n",
              "      display:flex;\n",
              "      flex-wrap:wrap;\n",
              "      gap: 12px;\n",
              "    }\n",
              "\n",
              "    .colab-df-convert {\n",
              "      background-color: #E8F0FE;\n",
              "      border: none;\n",
              "      border-radius: 50%;\n",
              "      cursor: pointer;\n",
              "      display: none;\n",
              "      fill: #1967D2;\n",
              "      height: 32px;\n",
              "      padding: 0 0 0 0;\n",
              "      width: 32px;\n",
              "    }\n",
              "\n",
              "    .colab-df-convert:hover {\n",
              "      background-color: #E2EBFA;\n",
              "      box-shadow: 0px 1px 2px rgba(60, 64, 67, 0.3), 0px 1px 3px 1px rgba(60, 64, 67, 0.15);\n",
              "      fill: #174EA6;\n",
              "    }\n",
              "\n",
              "    [theme=dark] .colab-df-convert {\n",
              "      background-color: #3B4455;\n",
              "      fill: #D2E3FC;\n",
              "    }\n",
              "\n",
              "    [theme=dark] .colab-df-convert:hover {\n",
              "      background-color: #434B5C;\n",
              "      box-shadow: 0px 1px 3px 1px rgba(0, 0, 0, 0.15);\n",
              "      filter: drop-shadow(0px 1px 2px rgba(0, 0, 0, 0.3));\n",
              "      fill: #FFFFFF;\n",
              "    }\n",
              "  </style>\n",
              "\n",
              "      <script>\n",
              "        const buttonEl =\n",
              "          document.querySelector('#df-2d1af50c-69ee-47c6-99da-6073144a6730 button.colab-df-convert');\n",
              "        buttonEl.style.display =\n",
              "          google.colab.kernel.accessAllowed ? 'block' : 'none';\n",
              "\n",
              "        async function convertToInteractive(key) {\n",
              "          const element = document.querySelector('#df-2d1af50c-69ee-47c6-99da-6073144a6730');\n",
              "          const dataTable =\n",
              "            await google.colab.kernel.invokeFunction('convertToInteractive',\n",
              "                                                     [key], {});\n",
              "          if (!dataTable) return;\n",
              "\n",
              "          const docLinkHtml = 'Like what you see? Visit the ' +\n",
              "            '<a target=\"_blank\" href=https://colab.research.google.com/notebooks/data_table.ipynb>data table notebook</a>'\n",
              "            + ' to learn more about interactive tables.';\n",
              "          element.innerHTML = '';\n",
              "          dataTable['output_type'] = 'display_data';\n",
              "          await google.colab.output.renderOutput(dataTable, element);\n",
              "          const docLink = document.createElement('div');\n",
              "          docLink.innerHTML = docLinkHtml;\n",
              "          element.appendChild(docLink);\n",
              "        }\n",
              "      </script>\n",
              "    </div>\n",
              "  </div>\n",
              "  "
            ]
          },
          "metadata": {},
          "execution_count": 3
        }
      ]
    },
    {
      "cell_type": "code",
      "source": [
        "data.rename(columns = {'Number of Objects in the Cluster':'#Objects in Cluster',\n",
        "                       'Observational Core Radius':'Ob Core Radius',\n",
        "                       'Observational Half-Light Radius':'Ob Half-Light Radius',\n",
        "                       'Central Surface Brightness Total':'CS Brightness',\n",
        "                       'Half-Mass Relaxation Time':'HM Rel Time',\n",
        "                       'Total Luminosity of Cluster at 12 Gyrs':'TLC at 12 Gyrs',\n",
        "                       'Central surface brightness from King 62 fitting of cumulative luminosity profile from snap-2D.dat':'CS Brightness from K62',\n",
        "                       'Core radius obtained from King 62 fitting of snap-2D.dat':'Core Radius from K62',\n",
        "                       'Half-light radius obtained from King 62 fitting':'Half Radius from K62',\n",
        "                       'Mass of Most Massive Black Hole':'Mass of Most Massive BH'\n",
        "                      }, inplace = True)"
      ],
      "metadata": {
        "id": "F8tv2DQQV0n2"
      },
      "execution_count": 4,
      "outputs": []
    },
    {
      "cell_type": "code",
      "source": [
        "data = data.iloc[:,:-2]\n",
        "data"
      ],
      "metadata": {
        "colab": {
          "base_uri": "https://localhost:8080/",
          "height": 540
        },
        "id": "SuQf78vNCV0e",
        "outputId": "8530ea8a-6248-47b7-c76e-6549fa3572b6"
      },
      "execution_count": 5,
      "outputs": [
        {
          "output_type": "execute_result",
          "data": {
            "text/plain": [
              "      Galactocentric Raidus  Cluster Metallicity  #Objects in Cluster  \\\n",
              "0                  4.483209                0.001                38920   \n",
              "1                  4.483209                0.001               505043   \n",
              "2                  4.483209                0.001               479417   \n",
              "3                  4.483209                0.001               504171   \n",
              "4                  4.483209                0.001               501245   \n",
              "...                     ...                  ...                  ...   \n",
              "1291               8.961667                0.001               430575   \n",
              "1292               8.961667                0.001              1148111   \n",
              "1293               8.961667                0.001              1121134   \n",
              "1294               8.961667                0.001              1124046   \n",
              "1295               8.961667                0.001              1060404   \n",
              "\n",
              "      Cluster Mass  Ob Core Radius  Ob Half-Light Radius  CS Brightness  \\\n",
              "0       23593.2395        0.381992              3.413317     109.654400   \n",
              "1      164640.2310        0.368883              2.491200   34827.624400   \n",
              "2      158782.2470        0.053349              1.930993  100139.011000   \n",
              "3      173094.5800        0.239726              2.193033   13710.088900   \n",
              "4      172722.6840        0.458644              2.537746    2589.006420   \n",
              "...            ...             ...                   ...            ...   \n",
              "1291   153829.5090        8.186195             11.196129     124.013015   \n",
              "1292   378797.8470        0.363009              4.047745  121091.456000   \n",
              "1293   376044.7900        0.276965              5.093038   50124.732700   \n",
              "1294   372312.7040        0.876489              6.211617    7679.070830   \n",
              "1295   358251.7990        4.960723              9.352212     591.695393   \n",
              "\n",
              "      Binary Fraction   HM Rel Time  TLC at 12 Gyrs  ...  \\\n",
              "0            0.399229    885.619718      20229.8993  ...   \n",
              "1            0.099239   3460.547220      77000.7159  ...   \n",
              "2            0.130133   2958.528450      73983.4991  ...   \n",
              "3            0.184856   3949.593890      85496.8882  ...   \n",
              "4            0.192672   4089.662060      78996.9967  ...   \n",
              "...               ...           ...             ...  ...   \n",
              "1291         0.084009  17004.436600      87728.4511  ...   \n",
              "1292         0.049244   7780.207680     208888.6760  ...   \n",
              "1293         0.050766   8518.287010     205882.5110  ...   \n",
              "1294         0.059884  13372.708500     206975.9980  ...   \n",
              "1295         0.073547  19822.877400     196080.6450  ...   \n",
              "\n",
              "      CS Brightness from K62  Core Radius from K62  Half Radius from K62  \\\n",
              "0                 423.668974              1.781371               3.85929   \n",
              "1                4073.650913              1.031188               2.54377   \n",
              "2               24778.675830              0.298724               2.03162   \n",
              "3               14689.387400              0.435038               2.42598   \n",
              "4                6212.542260              0.757504               2.64693   \n",
              "...                      ...                   ...                   ...   \n",
              "1291              111.583976              8.542639              12.88920   \n",
              "1292             4941.017507              1.497158               4.21363   \n",
              "1293             4136.404926              1.325894               5.49906   \n",
              "1294             3122.623280              1.524092               6.75933   \n",
              "1295              505.785326              6.846472               9.61243   \n",
              "\n",
              "      Total luminosity from snap-2D  Single Black Holes  Binary Black Holes  \\\n",
              "0                           14969.5                   0                   1   \n",
              "1                           55168.4                   1                   0   \n",
              "2                           54178.7                   1                   0   \n",
              "3                           61475.5                   0                   0   \n",
              "4                           58285.7                   3                   1   \n",
              "...                             ...                 ...                 ...   \n",
              "1291                        59061.0                 421                   5   \n",
              "1292                       148172.0                   1                   0   \n",
              "1293                       143544.0                   5                   0   \n",
              "1294                       144985.0                   2                   0   \n",
              "1295                       141820.0                 452                   6   \n",
              "\n",
              "      Black Hole Other Count  Mass of Most Massive BH  Fallback Enabled  \\\n",
              "0                          0                21.994084                 0   \n",
              "1                          0              5871.062390                 0   \n",
              "2                          0                 5.907700                 1   \n",
              "3                          1                17.542009                 0   \n",
              "4                          0                12.388086                 1   \n",
              "...                      ...                      ...               ...   \n",
              "1291                       5                26.195472                 1   \n",
              "1292                       0              8141.942800                 0   \n",
              "1293                       0             14571.972300                 1   \n",
              "1294                       0              4528.488600                 0   \n",
              "1295                       1                24.838628                 1   \n",
              "\n",
              "      Central Velocity Dispersion  \n",
              "0                         1.94718  \n",
              "1                        10.15090  \n",
              "2                         5.44959  \n",
              "3                         4.87986  \n",
              "4                         4.49099  \n",
              "...                           ...  \n",
              "1291                      3.74500  \n",
              "1292                      9.27809  \n",
              "1293                     12.35760  \n",
              "1294                      7.20535  \n",
              "1295                      5.35266  \n",
              "\n",
              "[1296 rows x 22 columns]"
            ],
            "text/html": [
              "\n",
              "  <div id=\"df-771aae93-31cb-4f46-8613-ea7d6726a8bf\">\n",
              "    <div class=\"colab-df-container\">\n",
              "      <div>\n",
              "<style scoped>\n",
              "    .dataframe tbody tr th:only-of-type {\n",
              "        vertical-align: middle;\n",
              "    }\n",
              "\n",
              "    .dataframe tbody tr th {\n",
              "        vertical-align: top;\n",
              "    }\n",
              "\n",
              "    .dataframe thead th {\n",
              "        text-align: right;\n",
              "    }\n",
              "</style>\n",
              "<table border=\"1\" class=\"dataframe\">\n",
              "  <thead>\n",
              "    <tr style=\"text-align: right;\">\n",
              "      <th></th>\n",
              "      <th>Galactocentric Raidus</th>\n",
              "      <th>Cluster Metallicity</th>\n",
              "      <th>#Objects in Cluster</th>\n",
              "      <th>Cluster Mass</th>\n",
              "      <th>Ob Core Radius</th>\n",
              "      <th>Ob Half-Light Radius</th>\n",
              "      <th>CS Brightness</th>\n",
              "      <th>Binary Fraction</th>\n",
              "      <th>HM Rel Time</th>\n",
              "      <th>TLC at 12 Gyrs</th>\n",
              "      <th>...</th>\n",
              "      <th>CS Brightness from K62</th>\n",
              "      <th>Core Radius from K62</th>\n",
              "      <th>Half Radius from K62</th>\n",
              "      <th>Total luminosity from snap-2D</th>\n",
              "      <th>Single Black Holes</th>\n",
              "      <th>Binary Black Holes</th>\n",
              "      <th>Black Hole Other Count</th>\n",
              "      <th>Mass of Most Massive BH</th>\n",
              "      <th>Fallback Enabled</th>\n",
              "      <th>Central Velocity Dispersion</th>\n",
              "    </tr>\n",
              "  </thead>\n",
              "  <tbody>\n",
              "    <tr>\n",
              "      <th>0</th>\n",
              "      <td>4.483209</td>\n",
              "      <td>0.001</td>\n",
              "      <td>38920</td>\n",
              "      <td>23593.2395</td>\n",
              "      <td>0.381992</td>\n",
              "      <td>3.413317</td>\n",
              "      <td>109.654400</td>\n",
              "      <td>0.399229</td>\n",
              "      <td>885.619718</td>\n",
              "      <td>20229.8993</td>\n",
              "      <td>...</td>\n",
              "      <td>423.668974</td>\n",
              "      <td>1.781371</td>\n",
              "      <td>3.85929</td>\n",
              "      <td>14969.5</td>\n",
              "      <td>0</td>\n",
              "      <td>1</td>\n",
              "      <td>0</td>\n",
              "      <td>21.994084</td>\n",
              "      <td>0</td>\n",
              "      <td>1.94718</td>\n",
              "    </tr>\n",
              "    <tr>\n",
              "      <th>1</th>\n",
              "      <td>4.483209</td>\n",
              "      <td>0.001</td>\n",
              "      <td>505043</td>\n",
              "      <td>164640.2310</td>\n",
              "      <td>0.368883</td>\n",
              "      <td>2.491200</td>\n",
              "      <td>34827.624400</td>\n",
              "      <td>0.099239</td>\n",
              "      <td>3460.547220</td>\n",
              "      <td>77000.7159</td>\n",
              "      <td>...</td>\n",
              "      <td>4073.650913</td>\n",
              "      <td>1.031188</td>\n",
              "      <td>2.54377</td>\n",
              "      <td>55168.4</td>\n",
              "      <td>1</td>\n",
              "      <td>0</td>\n",
              "      <td>0</td>\n",
              "      <td>5871.062390</td>\n",
              "      <td>0</td>\n",
              "      <td>10.15090</td>\n",
              "    </tr>\n",
              "    <tr>\n",
              "      <th>2</th>\n",
              "      <td>4.483209</td>\n",
              "      <td>0.001</td>\n",
              "      <td>479417</td>\n",
              "      <td>158782.2470</td>\n",
              "      <td>0.053349</td>\n",
              "      <td>1.930993</td>\n",
              "      <td>100139.011000</td>\n",
              "      <td>0.130133</td>\n",
              "      <td>2958.528450</td>\n",
              "      <td>73983.4991</td>\n",
              "      <td>...</td>\n",
              "      <td>24778.675830</td>\n",
              "      <td>0.298724</td>\n",
              "      <td>2.03162</td>\n",
              "      <td>54178.7</td>\n",
              "      <td>1</td>\n",
              "      <td>0</td>\n",
              "      <td>0</td>\n",
              "      <td>5.907700</td>\n",
              "      <td>1</td>\n",
              "      <td>5.44959</td>\n",
              "    </tr>\n",
              "    <tr>\n",
              "      <th>3</th>\n",
              "      <td>4.483209</td>\n",
              "      <td>0.001</td>\n",
              "      <td>504171</td>\n",
              "      <td>173094.5800</td>\n",
              "      <td>0.239726</td>\n",
              "      <td>2.193033</td>\n",
              "      <td>13710.088900</td>\n",
              "      <td>0.184856</td>\n",
              "      <td>3949.593890</td>\n",
              "      <td>85496.8882</td>\n",
              "      <td>...</td>\n",
              "      <td>14689.387400</td>\n",
              "      <td>0.435038</td>\n",
              "      <td>2.42598</td>\n",
              "      <td>61475.5</td>\n",
              "      <td>0</td>\n",
              "      <td>0</td>\n",
              "      <td>1</td>\n",
              "      <td>17.542009</td>\n",
              "      <td>0</td>\n",
              "      <td>4.87986</td>\n",
              "    </tr>\n",
              "    <tr>\n",
              "      <th>4</th>\n",
              "      <td>4.483209</td>\n",
              "      <td>0.001</td>\n",
              "      <td>501245</td>\n",
              "      <td>172722.6840</td>\n",
              "      <td>0.458644</td>\n",
              "      <td>2.537746</td>\n",
              "      <td>2589.006420</td>\n",
              "      <td>0.192672</td>\n",
              "      <td>4089.662060</td>\n",
              "      <td>78996.9967</td>\n",
              "      <td>...</td>\n",
              "      <td>6212.542260</td>\n",
              "      <td>0.757504</td>\n",
              "      <td>2.64693</td>\n",
              "      <td>58285.7</td>\n",
              "      <td>3</td>\n",
              "      <td>1</td>\n",
              "      <td>0</td>\n",
              "      <td>12.388086</td>\n",
              "      <td>1</td>\n",
              "      <td>4.49099</td>\n",
              "    </tr>\n",
              "    <tr>\n",
              "      <th>...</th>\n",
              "      <td>...</td>\n",
              "      <td>...</td>\n",
              "      <td>...</td>\n",
              "      <td>...</td>\n",
              "      <td>...</td>\n",
              "      <td>...</td>\n",
              "      <td>...</td>\n",
              "      <td>...</td>\n",
              "      <td>...</td>\n",
              "      <td>...</td>\n",
              "      <td>...</td>\n",
              "      <td>...</td>\n",
              "      <td>...</td>\n",
              "      <td>...</td>\n",
              "      <td>...</td>\n",
              "      <td>...</td>\n",
              "      <td>...</td>\n",
              "      <td>...</td>\n",
              "      <td>...</td>\n",
              "      <td>...</td>\n",
              "      <td>...</td>\n",
              "    </tr>\n",
              "    <tr>\n",
              "      <th>1291</th>\n",
              "      <td>8.961667</td>\n",
              "      <td>0.001</td>\n",
              "      <td>430575</td>\n",
              "      <td>153829.5090</td>\n",
              "      <td>8.186195</td>\n",
              "      <td>11.196129</td>\n",
              "      <td>124.013015</td>\n",
              "      <td>0.084009</td>\n",
              "      <td>17004.436600</td>\n",
              "      <td>87728.4511</td>\n",
              "      <td>...</td>\n",
              "      <td>111.583976</td>\n",
              "      <td>8.542639</td>\n",
              "      <td>12.88920</td>\n",
              "      <td>59061.0</td>\n",
              "      <td>421</td>\n",
              "      <td>5</td>\n",
              "      <td>5</td>\n",
              "      <td>26.195472</td>\n",
              "      <td>1</td>\n",
              "      <td>3.74500</td>\n",
              "    </tr>\n",
              "    <tr>\n",
              "      <th>1292</th>\n",
              "      <td>8.961667</td>\n",
              "      <td>0.001</td>\n",
              "      <td>1148111</td>\n",
              "      <td>378797.8470</td>\n",
              "      <td>0.363009</td>\n",
              "      <td>4.047745</td>\n",
              "      <td>121091.456000</td>\n",
              "      <td>0.049244</td>\n",
              "      <td>7780.207680</td>\n",
              "      <td>208888.6760</td>\n",
              "      <td>...</td>\n",
              "      <td>4941.017507</td>\n",
              "      <td>1.497158</td>\n",
              "      <td>4.21363</td>\n",
              "      <td>148172.0</td>\n",
              "      <td>1</td>\n",
              "      <td>0</td>\n",
              "      <td>0</td>\n",
              "      <td>8141.942800</td>\n",
              "      <td>0</td>\n",
              "      <td>9.27809</td>\n",
              "    </tr>\n",
              "    <tr>\n",
              "      <th>1293</th>\n",
              "      <td>8.961667</td>\n",
              "      <td>0.001</td>\n",
              "      <td>1121134</td>\n",
              "      <td>376044.7900</td>\n",
              "      <td>0.276965</td>\n",
              "      <td>5.093038</td>\n",
              "      <td>50124.732700</td>\n",
              "      <td>0.050766</td>\n",
              "      <td>8518.287010</td>\n",
              "      <td>205882.5110</td>\n",
              "      <td>...</td>\n",
              "      <td>4136.404926</td>\n",
              "      <td>1.325894</td>\n",
              "      <td>5.49906</td>\n",
              "      <td>143544.0</td>\n",
              "      <td>5</td>\n",
              "      <td>0</td>\n",
              "      <td>0</td>\n",
              "      <td>14571.972300</td>\n",
              "      <td>1</td>\n",
              "      <td>12.35760</td>\n",
              "    </tr>\n",
              "    <tr>\n",
              "      <th>1294</th>\n",
              "      <td>8.961667</td>\n",
              "      <td>0.001</td>\n",
              "      <td>1124046</td>\n",
              "      <td>372312.7040</td>\n",
              "      <td>0.876489</td>\n",
              "      <td>6.211617</td>\n",
              "      <td>7679.070830</td>\n",
              "      <td>0.059884</td>\n",
              "      <td>13372.708500</td>\n",
              "      <td>206975.9980</td>\n",
              "      <td>...</td>\n",
              "      <td>3122.623280</td>\n",
              "      <td>1.524092</td>\n",
              "      <td>6.75933</td>\n",
              "      <td>144985.0</td>\n",
              "      <td>2</td>\n",
              "      <td>0</td>\n",
              "      <td>0</td>\n",
              "      <td>4528.488600</td>\n",
              "      <td>0</td>\n",
              "      <td>7.20535</td>\n",
              "    </tr>\n",
              "    <tr>\n",
              "      <th>1295</th>\n",
              "      <td>8.961667</td>\n",
              "      <td>0.001</td>\n",
              "      <td>1060404</td>\n",
              "      <td>358251.7990</td>\n",
              "      <td>4.960723</td>\n",
              "      <td>9.352212</td>\n",
              "      <td>591.695393</td>\n",
              "      <td>0.073547</td>\n",
              "      <td>19822.877400</td>\n",
              "      <td>196080.6450</td>\n",
              "      <td>...</td>\n",
              "      <td>505.785326</td>\n",
              "      <td>6.846472</td>\n",
              "      <td>9.61243</td>\n",
              "      <td>141820.0</td>\n",
              "      <td>452</td>\n",
              "      <td>6</td>\n",
              "      <td>1</td>\n",
              "      <td>24.838628</td>\n",
              "      <td>1</td>\n",
              "      <td>5.35266</td>\n",
              "    </tr>\n",
              "  </tbody>\n",
              "</table>\n",
              "<p>1296 rows × 22 columns</p>\n",
              "</div>\n",
              "      <button class=\"colab-df-convert\" onclick=\"convertToInteractive('df-771aae93-31cb-4f46-8613-ea7d6726a8bf')\"\n",
              "              title=\"Convert this dataframe to an interactive table.\"\n",
              "              style=\"display:none;\">\n",
              "        \n",
              "  <svg xmlns=\"http://www.w3.org/2000/svg\" height=\"24px\"viewBox=\"0 0 24 24\"\n",
              "       width=\"24px\">\n",
              "    <path d=\"M0 0h24v24H0V0z\" fill=\"none\"/>\n",
              "    <path d=\"M18.56 5.44l.94 2.06.94-2.06 2.06-.94-2.06-.94-.94-2.06-.94 2.06-2.06.94zm-11 1L8.5 8.5l.94-2.06 2.06-.94-2.06-.94L8.5 2.5l-.94 2.06-2.06.94zm10 10l.94 2.06.94-2.06 2.06-.94-2.06-.94-.94-2.06-.94 2.06-2.06.94z\"/><path d=\"M17.41 7.96l-1.37-1.37c-.4-.4-.92-.59-1.43-.59-.52 0-1.04.2-1.43.59L10.3 9.45l-7.72 7.72c-.78.78-.78 2.05 0 2.83L4 21.41c.39.39.9.59 1.41.59.51 0 1.02-.2 1.41-.59l7.78-7.78 2.81-2.81c.8-.78.8-2.07 0-2.86zM5.41 20L4 18.59l7.72-7.72 1.47 1.35L5.41 20z\"/>\n",
              "  </svg>\n",
              "      </button>\n",
              "      \n",
              "  <style>\n",
              "    .colab-df-container {\n",
              "      display:flex;\n",
              "      flex-wrap:wrap;\n",
              "      gap: 12px;\n",
              "    }\n",
              "\n",
              "    .colab-df-convert {\n",
              "      background-color: #E8F0FE;\n",
              "      border: none;\n",
              "      border-radius: 50%;\n",
              "      cursor: pointer;\n",
              "      display: none;\n",
              "      fill: #1967D2;\n",
              "      height: 32px;\n",
              "      padding: 0 0 0 0;\n",
              "      width: 32px;\n",
              "    }\n",
              "\n",
              "    .colab-df-convert:hover {\n",
              "      background-color: #E2EBFA;\n",
              "      box-shadow: 0px 1px 2px rgba(60, 64, 67, 0.3), 0px 1px 3px 1px rgba(60, 64, 67, 0.15);\n",
              "      fill: #174EA6;\n",
              "    }\n",
              "\n",
              "    [theme=dark] .colab-df-convert {\n",
              "      background-color: #3B4455;\n",
              "      fill: #D2E3FC;\n",
              "    }\n",
              "\n",
              "    [theme=dark] .colab-df-convert:hover {\n",
              "      background-color: #434B5C;\n",
              "      box-shadow: 0px 1px 3px 1px rgba(0, 0, 0, 0.15);\n",
              "      filter: drop-shadow(0px 1px 2px rgba(0, 0, 0, 0.3));\n",
              "      fill: #FFFFFF;\n",
              "    }\n",
              "  </style>\n",
              "\n",
              "      <script>\n",
              "        const buttonEl =\n",
              "          document.querySelector('#df-771aae93-31cb-4f46-8613-ea7d6726a8bf button.colab-df-convert');\n",
              "        buttonEl.style.display =\n",
              "          google.colab.kernel.accessAllowed ? 'block' : 'none';\n",
              "\n",
              "        async function convertToInteractive(key) {\n",
              "          const element = document.querySelector('#df-771aae93-31cb-4f46-8613-ea7d6726a8bf');\n",
              "          const dataTable =\n",
              "            await google.colab.kernel.invokeFunction('convertToInteractive',\n",
              "                                                     [key], {});\n",
              "          if (!dataTable) return;\n",
              "\n",
              "          const docLinkHtml = 'Like what you see? Visit the ' +\n",
              "            '<a target=\"_blank\" href=https://colab.research.google.com/notebooks/data_table.ipynb>data table notebook</a>'\n",
              "            + ' to learn more about interactive tables.';\n",
              "          element.innerHTML = '';\n",
              "          dataTable['output_type'] = 'display_data';\n",
              "          await google.colab.output.renderOutput(dataTable, element);\n",
              "          const docLink = document.createElement('div');\n",
              "          docLink.innerHTML = docLinkHtml;\n",
              "          element.appendChild(docLink);\n",
              "        }\n",
              "      </script>\n",
              "    </div>\n",
              "  </div>\n",
              "  "
            ]
          },
          "metadata": {},
          "execution_count": 5
        }
      ]
    },
    {
      "cell_type": "code",
      "source": [
        "data.describe()"
      ],
      "metadata": {
        "id": "G_9hpl3ZkklO",
        "outputId": "b098fa45-bf4d-40b2-82a3-4e4087fa2d50",
        "colab": {
          "base_uri": "https://localhost:8080/",
          "height": 446
        }
      },
      "execution_count": 6,
      "outputs": [
        {
          "output_type": "execute_result",
          "data": {
            "text/plain": [
              "       Galactocentric Raidus  Cluster Metallicity  #Objects in Cluster  \\\n",
              "count            1296.000000          1296.000000         1.296000e+03   \n",
              "mean               13.795005             0.006824         3.549600e+05   \n",
              "std                13.747224             0.007798         4.107997e+05   \n",
              "min                 0.806069             0.000200         1.680000e+02   \n",
              "25%                 3.397451             0.001000         4.108925e+04   \n",
              "50%                 9.609443             0.005000         1.324815e+05   \n",
              "75%                17.415375             0.006000         5.778370e+05   \n",
              "max                49.995444             0.020000         1.966209e+06   \n",
              "\n",
              "        Cluster Mass  Ob Core Radius  Ob Half-Light Radius  CS Brightness  \\\n",
              "count    1296.000000     1296.000000           1296.000000   1.296000e+03   \n",
              "mean   124605.085965        1.175493              3.704930   5.129919e+04   \n",
              "std    133588.167728        1.996293              2.602061   4.030985e+05   \n",
              "min       202.439378        0.012096              0.369331   1.585988e-01   \n",
              "25%     16928.510175        0.152169              1.986873   2.541000e+02   \n",
              "50%     59840.253600        0.368593              2.816936   1.387919e+03   \n",
              "75%    201688.128500        1.157344              4.678259   1.270077e+04   \n",
              "max    624852.378000       12.913423             17.135980   1.060000e+07   \n",
              "\n",
              "       Binary Fraction   HM Rel Time  TLC at 12 Gyrs  ...  \\\n",
              "count      1296.000000  1.296000e+03     1289.000000  ...   \n",
              "mean          0.147552  4.190883e+03    63793.263548  ...   \n",
              "std           0.112824  3.942686e+03    66876.963919  ...   \n",
              "min           0.016670  3.410000e-07       42.222069  ...   \n",
              "25%           0.066921  1.250035e+03     8950.770620  ...   \n",
              "50%           0.095694  3.285283e+03    34385.710800  ...   \n",
              "75%           0.229543  5.381429e+03   104769.469000  ...   \n",
              "max           0.726190  2.368620e+04   305503.452000  ...   \n",
              "\n",
              "       CS Brightness from K62  Core Radius from K62  Half Radius from K62  \\\n",
              "count             1296.000000          1.296000e+03          1.296000e+03   \n",
              "mean              6085.613178          9.802004e+03          5.625000e+07   \n",
              "std              17501.728564          3.379408e+05          2.025000e+09   \n",
              "min                  0.000000         -7.107496e+06          0.000000e+00   \n",
              "25%                391.335568          4.870860e-01          2.082772e+00   \n",
              "50%               1787.208036          7.587923e-01          2.909625e+00   \n",
              "75%               6039.537321          1.458730e+00          4.965393e+00   \n",
              "max             413419.000000          6.931186e+06          7.290000e+10   \n",
              "\n",
              "       Total luminosity from snap-2D  Single Black Holes  Binary Black Holes  \\\n",
              "count                    1296.000000         1296.000000         1296.000000   \n",
              "mean                    43774.503267           18.920525            0.597222   \n",
              "std                     46748.321403           72.820628            1.651897   \n",
              "min                         0.000000            0.000000            0.000000   \n",
              "25%                      5499.190000            0.000000            0.000000   \n",
              "50%                     23659.050000            0.000000            0.000000   \n",
              "75%                     71851.200000            1.000000            0.000000   \n",
              "max                    208648.000000          789.000000           15.000000   \n",
              "\n",
              "       Black Hole Other Count  Mass of Most Massive BH  Fallback Enabled  \\\n",
              "count              1296.00000              1296.000000       1296.000000   \n",
              "mean                  0.68287              2912.647015          0.493827   \n",
              "std                   1.48263              5930.501850          0.500155   \n",
              "min                   0.00000                 0.000000          0.000000   \n",
              "25%                   0.00000                 0.000000          0.000000   \n",
              "50%                   0.00000                13.090620          0.000000   \n",
              "75%                   1.00000              2795.206837          1.000000   \n",
              "max                  15.00000             43030.183000          1.000000   \n",
              "\n",
              "       Central Velocity Dispersion  \n",
              "count                  1296.000000  \n",
              "mean                      6.753591  \n",
              "std                       8.186834  \n",
              "min                       0.448899  \n",
              "25%                       1.430718  \n",
              "50%                       3.803875  \n",
              "75%                       8.015273  \n",
              "max                      51.384800  \n",
              "\n",
              "[8 rows x 22 columns]"
            ],
            "text/html": [
              "\n",
              "  <div id=\"df-67a9bcd1-7d15-4bf9-8f64-ef96188c9bfc\">\n",
              "    <div class=\"colab-df-container\">\n",
              "      <div>\n",
              "<style scoped>\n",
              "    .dataframe tbody tr th:only-of-type {\n",
              "        vertical-align: middle;\n",
              "    }\n",
              "\n",
              "    .dataframe tbody tr th {\n",
              "        vertical-align: top;\n",
              "    }\n",
              "\n",
              "    .dataframe thead th {\n",
              "        text-align: right;\n",
              "    }\n",
              "</style>\n",
              "<table border=\"1\" class=\"dataframe\">\n",
              "  <thead>\n",
              "    <tr style=\"text-align: right;\">\n",
              "      <th></th>\n",
              "      <th>Galactocentric Raidus</th>\n",
              "      <th>Cluster Metallicity</th>\n",
              "      <th>#Objects in Cluster</th>\n",
              "      <th>Cluster Mass</th>\n",
              "      <th>Ob Core Radius</th>\n",
              "      <th>Ob Half-Light Radius</th>\n",
              "      <th>CS Brightness</th>\n",
              "      <th>Binary Fraction</th>\n",
              "      <th>HM Rel Time</th>\n",
              "      <th>TLC at 12 Gyrs</th>\n",
              "      <th>...</th>\n",
              "      <th>CS Brightness from K62</th>\n",
              "      <th>Core Radius from K62</th>\n",
              "      <th>Half Radius from K62</th>\n",
              "      <th>Total luminosity from snap-2D</th>\n",
              "      <th>Single Black Holes</th>\n",
              "      <th>Binary Black Holes</th>\n",
              "      <th>Black Hole Other Count</th>\n",
              "      <th>Mass of Most Massive BH</th>\n",
              "      <th>Fallback Enabled</th>\n",
              "      <th>Central Velocity Dispersion</th>\n",
              "    </tr>\n",
              "  </thead>\n",
              "  <tbody>\n",
              "    <tr>\n",
              "      <th>count</th>\n",
              "      <td>1296.000000</td>\n",
              "      <td>1296.000000</td>\n",
              "      <td>1.296000e+03</td>\n",
              "      <td>1296.000000</td>\n",
              "      <td>1296.000000</td>\n",
              "      <td>1296.000000</td>\n",
              "      <td>1.296000e+03</td>\n",
              "      <td>1296.000000</td>\n",
              "      <td>1.296000e+03</td>\n",
              "      <td>1289.000000</td>\n",
              "      <td>...</td>\n",
              "      <td>1296.000000</td>\n",
              "      <td>1.296000e+03</td>\n",
              "      <td>1.296000e+03</td>\n",
              "      <td>1296.000000</td>\n",
              "      <td>1296.000000</td>\n",
              "      <td>1296.000000</td>\n",
              "      <td>1296.00000</td>\n",
              "      <td>1296.000000</td>\n",
              "      <td>1296.000000</td>\n",
              "      <td>1296.000000</td>\n",
              "    </tr>\n",
              "    <tr>\n",
              "      <th>mean</th>\n",
              "      <td>13.795005</td>\n",
              "      <td>0.006824</td>\n",
              "      <td>3.549600e+05</td>\n",
              "      <td>124605.085965</td>\n",
              "      <td>1.175493</td>\n",
              "      <td>3.704930</td>\n",
              "      <td>5.129919e+04</td>\n",
              "      <td>0.147552</td>\n",
              "      <td>4.190883e+03</td>\n",
              "      <td>63793.263548</td>\n",
              "      <td>...</td>\n",
              "      <td>6085.613178</td>\n",
              "      <td>9.802004e+03</td>\n",
              "      <td>5.625000e+07</td>\n",
              "      <td>43774.503267</td>\n",
              "      <td>18.920525</td>\n",
              "      <td>0.597222</td>\n",
              "      <td>0.68287</td>\n",
              "      <td>2912.647015</td>\n",
              "      <td>0.493827</td>\n",
              "      <td>6.753591</td>\n",
              "    </tr>\n",
              "    <tr>\n",
              "      <th>std</th>\n",
              "      <td>13.747224</td>\n",
              "      <td>0.007798</td>\n",
              "      <td>4.107997e+05</td>\n",
              "      <td>133588.167728</td>\n",
              "      <td>1.996293</td>\n",
              "      <td>2.602061</td>\n",
              "      <td>4.030985e+05</td>\n",
              "      <td>0.112824</td>\n",
              "      <td>3.942686e+03</td>\n",
              "      <td>66876.963919</td>\n",
              "      <td>...</td>\n",
              "      <td>17501.728564</td>\n",
              "      <td>3.379408e+05</td>\n",
              "      <td>2.025000e+09</td>\n",
              "      <td>46748.321403</td>\n",
              "      <td>72.820628</td>\n",
              "      <td>1.651897</td>\n",
              "      <td>1.48263</td>\n",
              "      <td>5930.501850</td>\n",
              "      <td>0.500155</td>\n",
              "      <td>8.186834</td>\n",
              "    </tr>\n",
              "    <tr>\n",
              "      <th>min</th>\n",
              "      <td>0.806069</td>\n",
              "      <td>0.000200</td>\n",
              "      <td>1.680000e+02</td>\n",
              "      <td>202.439378</td>\n",
              "      <td>0.012096</td>\n",
              "      <td>0.369331</td>\n",
              "      <td>1.585988e-01</td>\n",
              "      <td>0.016670</td>\n",
              "      <td>3.410000e-07</td>\n",
              "      <td>42.222069</td>\n",
              "      <td>...</td>\n",
              "      <td>0.000000</td>\n",
              "      <td>-7.107496e+06</td>\n",
              "      <td>0.000000e+00</td>\n",
              "      <td>0.000000</td>\n",
              "      <td>0.000000</td>\n",
              "      <td>0.000000</td>\n",
              "      <td>0.00000</td>\n",
              "      <td>0.000000</td>\n",
              "      <td>0.000000</td>\n",
              "      <td>0.448899</td>\n",
              "    </tr>\n",
              "    <tr>\n",
              "      <th>25%</th>\n",
              "      <td>3.397451</td>\n",
              "      <td>0.001000</td>\n",
              "      <td>4.108925e+04</td>\n",
              "      <td>16928.510175</td>\n",
              "      <td>0.152169</td>\n",
              "      <td>1.986873</td>\n",
              "      <td>2.541000e+02</td>\n",
              "      <td>0.066921</td>\n",
              "      <td>1.250035e+03</td>\n",
              "      <td>8950.770620</td>\n",
              "      <td>...</td>\n",
              "      <td>391.335568</td>\n",
              "      <td>4.870860e-01</td>\n",
              "      <td>2.082772e+00</td>\n",
              "      <td>5499.190000</td>\n",
              "      <td>0.000000</td>\n",
              "      <td>0.000000</td>\n",
              "      <td>0.00000</td>\n",
              "      <td>0.000000</td>\n",
              "      <td>0.000000</td>\n",
              "      <td>1.430718</td>\n",
              "    </tr>\n",
              "    <tr>\n",
              "      <th>50%</th>\n",
              "      <td>9.609443</td>\n",
              "      <td>0.005000</td>\n",
              "      <td>1.324815e+05</td>\n",
              "      <td>59840.253600</td>\n",
              "      <td>0.368593</td>\n",
              "      <td>2.816936</td>\n",
              "      <td>1.387919e+03</td>\n",
              "      <td>0.095694</td>\n",
              "      <td>3.285283e+03</td>\n",
              "      <td>34385.710800</td>\n",
              "      <td>...</td>\n",
              "      <td>1787.208036</td>\n",
              "      <td>7.587923e-01</td>\n",
              "      <td>2.909625e+00</td>\n",
              "      <td>23659.050000</td>\n",
              "      <td>0.000000</td>\n",
              "      <td>0.000000</td>\n",
              "      <td>0.00000</td>\n",
              "      <td>13.090620</td>\n",
              "      <td>0.000000</td>\n",
              "      <td>3.803875</td>\n",
              "    </tr>\n",
              "    <tr>\n",
              "      <th>75%</th>\n",
              "      <td>17.415375</td>\n",
              "      <td>0.006000</td>\n",
              "      <td>5.778370e+05</td>\n",
              "      <td>201688.128500</td>\n",
              "      <td>1.157344</td>\n",
              "      <td>4.678259</td>\n",
              "      <td>1.270077e+04</td>\n",
              "      <td>0.229543</td>\n",
              "      <td>5.381429e+03</td>\n",
              "      <td>104769.469000</td>\n",
              "      <td>...</td>\n",
              "      <td>6039.537321</td>\n",
              "      <td>1.458730e+00</td>\n",
              "      <td>4.965393e+00</td>\n",
              "      <td>71851.200000</td>\n",
              "      <td>1.000000</td>\n",
              "      <td>0.000000</td>\n",
              "      <td>1.00000</td>\n",
              "      <td>2795.206837</td>\n",
              "      <td>1.000000</td>\n",
              "      <td>8.015273</td>\n",
              "    </tr>\n",
              "    <tr>\n",
              "      <th>max</th>\n",
              "      <td>49.995444</td>\n",
              "      <td>0.020000</td>\n",
              "      <td>1.966209e+06</td>\n",
              "      <td>624852.378000</td>\n",
              "      <td>12.913423</td>\n",
              "      <td>17.135980</td>\n",
              "      <td>1.060000e+07</td>\n",
              "      <td>0.726190</td>\n",
              "      <td>2.368620e+04</td>\n",
              "      <td>305503.452000</td>\n",
              "      <td>...</td>\n",
              "      <td>413419.000000</td>\n",
              "      <td>6.931186e+06</td>\n",
              "      <td>7.290000e+10</td>\n",
              "      <td>208648.000000</td>\n",
              "      <td>789.000000</td>\n",
              "      <td>15.000000</td>\n",
              "      <td>15.00000</td>\n",
              "      <td>43030.183000</td>\n",
              "      <td>1.000000</td>\n",
              "      <td>51.384800</td>\n",
              "    </tr>\n",
              "  </tbody>\n",
              "</table>\n",
              "<p>8 rows × 22 columns</p>\n",
              "</div>\n",
              "      <button class=\"colab-df-convert\" onclick=\"convertToInteractive('df-67a9bcd1-7d15-4bf9-8f64-ef96188c9bfc')\"\n",
              "              title=\"Convert this dataframe to an interactive table.\"\n",
              "              style=\"display:none;\">\n",
              "        \n",
              "  <svg xmlns=\"http://www.w3.org/2000/svg\" height=\"24px\"viewBox=\"0 0 24 24\"\n",
              "       width=\"24px\">\n",
              "    <path d=\"M0 0h24v24H0V0z\" fill=\"none\"/>\n",
              "    <path d=\"M18.56 5.44l.94 2.06.94-2.06 2.06-.94-2.06-.94-.94-2.06-.94 2.06-2.06.94zm-11 1L8.5 8.5l.94-2.06 2.06-.94-2.06-.94L8.5 2.5l-.94 2.06-2.06.94zm10 10l.94 2.06.94-2.06 2.06-.94-2.06-.94-.94-2.06-.94 2.06-2.06.94z\"/><path d=\"M17.41 7.96l-1.37-1.37c-.4-.4-.92-.59-1.43-.59-.52 0-1.04.2-1.43.59L10.3 9.45l-7.72 7.72c-.78.78-.78 2.05 0 2.83L4 21.41c.39.39.9.59 1.41.59.51 0 1.02-.2 1.41-.59l7.78-7.78 2.81-2.81c.8-.78.8-2.07 0-2.86zM5.41 20L4 18.59l7.72-7.72 1.47 1.35L5.41 20z\"/>\n",
              "  </svg>\n",
              "      </button>\n",
              "      \n",
              "  <style>\n",
              "    .colab-df-container {\n",
              "      display:flex;\n",
              "      flex-wrap:wrap;\n",
              "      gap: 12px;\n",
              "    }\n",
              "\n",
              "    .colab-df-convert {\n",
              "      background-color: #E8F0FE;\n",
              "      border: none;\n",
              "      border-radius: 50%;\n",
              "      cursor: pointer;\n",
              "      display: none;\n",
              "      fill: #1967D2;\n",
              "      height: 32px;\n",
              "      padding: 0 0 0 0;\n",
              "      width: 32px;\n",
              "    }\n",
              "\n",
              "    .colab-df-convert:hover {\n",
              "      background-color: #E2EBFA;\n",
              "      box-shadow: 0px 1px 2px rgba(60, 64, 67, 0.3), 0px 1px 3px 1px rgba(60, 64, 67, 0.15);\n",
              "      fill: #174EA6;\n",
              "    }\n",
              "\n",
              "    [theme=dark] .colab-df-convert {\n",
              "      background-color: #3B4455;\n",
              "      fill: #D2E3FC;\n",
              "    }\n",
              "\n",
              "    [theme=dark] .colab-df-convert:hover {\n",
              "      background-color: #434B5C;\n",
              "      box-shadow: 0px 1px 3px 1px rgba(0, 0, 0, 0.15);\n",
              "      filter: drop-shadow(0px 1px 2px rgba(0, 0, 0, 0.3));\n",
              "      fill: #FFFFFF;\n",
              "    }\n",
              "  </style>\n",
              "\n",
              "      <script>\n",
              "        const buttonEl =\n",
              "          document.querySelector('#df-67a9bcd1-7d15-4bf9-8f64-ef96188c9bfc button.colab-df-convert');\n",
              "        buttonEl.style.display =\n",
              "          google.colab.kernel.accessAllowed ? 'block' : 'none';\n",
              "\n",
              "        async function convertToInteractive(key) {\n",
              "          const element = document.querySelector('#df-67a9bcd1-7d15-4bf9-8f64-ef96188c9bfc');\n",
              "          const dataTable =\n",
              "            await google.colab.kernel.invokeFunction('convertToInteractive',\n",
              "                                                     [key], {});\n",
              "          if (!dataTable) return;\n",
              "\n",
              "          const docLinkHtml = 'Like what you see? Visit the ' +\n",
              "            '<a target=\"_blank\" href=https://colab.research.google.com/notebooks/data_table.ipynb>data table notebook</a>'\n",
              "            + ' to learn more about interactive tables.';\n",
              "          element.innerHTML = '';\n",
              "          dataTable['output_type'] = 'display_data';\n",
              "          await google.colab.output.renderOutput(dataTable, element);\n",
              "          const docLink = document.createElement('div');\n",
              "          docLink.innerHTML = docLinkHtml;\n",
              "          element.appendChild(docLink);\n",
              "        }\n",
              "      </script>\n",
              "    </div>\n",
              "  </div>\n",
              "  "
            ]
          },
          "metadata": {},
          "execution_count": 6
        }
      ]
    },
    {
      "cell_type": "code",
      "source": [
        "data.isnull().sum()"
      ],
      "metadata": {
        "colab": {
          "base_uri": "https://localhost:8080/"
        },
        "id": "O9NJK8VqF3pC",
        "outputId": "93f75596-b158-471e-963d-3cb506185af6"
      },
      "execution_count": 7,
      "outputs": [
        {
          "output_type": "execute_result",
          "data": {
            "text/plain": [
              "Galactocentric Raidus             0\n",
              "Cluster Metallicity               0\n",
              "#Objects in Cluster               0\n",
              "Cluster Mass                      0\n",
              "Ob Core Radius                    0\n",
              "Ob Half-Light Radius              0\n",
              "CS Brightness                     0\n",
              "Binary Fraction                   0\n",
              "HM Rel Time                       0\n",
              "TLC at 12 Gyrs                    7\n",
              "Central Velocity Dispersion 3d    0\n",
              "Total V-band luminosity           0\n",
              "CS Brightness from K62            0\n",
              "Core Radius from K62              0\n",
              "Half Radius from K62              0\n",
              "Total luminosity from snap-2D     0\n",
              "Single Black Holes                0\n",
              "Binary Black Holes                0\n",
              "Black Hole Other Count            0\n",
              "Mass of Most Massive BH           0\n",
              "Fallback Enabled                  0\n",
              "Central Velocity Dispersion       0\n",
              "dtype: int64"
            ]
          },
          "metadata": {},
          "execution_count": 7
        }
      ]
    },
    {
      "cell_type": "markdown",
      "source": [
        "## Determining most important features"
      ],
      "metadata": {
        "id": "Hw6jFYKFOEC5"
      }
    },
    {
      "cell_type": "code",
      "source": [
        "from sklearn.ensemble import ExtraTreesRegressor\n",
        "import matplotlib.pyplot as plt\n",
        "\n",
        "\n",
        "YData = data['Binary Black Holes']\n",
        "XData = data.drop(['Binary Black Holes','TLC at 12 Gyrs'], axis=1)\n",
        "model = ExtraTreesRegressor()\n",
        "model.fit(XData,YData)"
      ],
      "metadata": {
        "colab": {
          "base_uri": "https://localhost:8080/"
        },
        "id": "10CVXCFeODnZ",
        "outputId": "e666cbe6-4ac4-4b61-8c9f-ddd95fb602ea"
      },
      "execution_count": 8,
      "outputs": [
        {
          "output_type": "execute_result",
          "data": {
            "text/plain": [
              "ExtraTreesRegressor()"
            ]
          },
          "metadata": {},
          "execution_count": 8
        }
      ]
    },
    {
      "cell_type": "code",
      "source": [
        "feat_importances = pd.Series(model.feature_importances_, index=XData.columns)\n",
        "feat_importances.nlargest(12).plot(kind='barh')\n",
        "plt.show()"
      ],
      "metadata": {
        "colab": {
          "base_uri": "https://localhost:8080/",
          "height": 265
        },
        "id": "JKTDAReTOfXq",
        "outputId": "a733b7da-8340-4fd2-d1b7-1d5eaf2ba87b"
      },
      "execution_count": 9,
      "outputs": [
        {
          "output_type": "display_data",
          "data": {
            "text/plain": [
              "<Figure size 432x288 with 1 Axes>"
            ],
            "image/png": "[encoded data removed]"
          },
          "metadata": {
            "needs_background": "light"
          }
        }
      ]
    },
    {
      "cell_type": "markdown",
      "source": [
        "## Splitting data into train and test dataset"
      ],
      "metadata": {
        "id": "CeLpsoBp6VAh"
      }
    },
    {
      "cell_type": "code",
      "source": [
        "# XData = XData.filter(['CS Brightness from K62','CS Brightness','Core radius from K62','Cluster Mass','#Objects in Cluster','Central Velocity Dispersion 3d',\n",
        "#               'Ob Half-Light Radius','Binary Fraction','Total luminosity from snap-2D','Total V-band luminosity','Ob Core Radius','HM Rel Time',\n",
        "#               'Galactocentric Radius','Half Radius from K62'],axis=1)\n",
        "print(XData)\n",
        "XData = np.array(XData)\n",
        "YData = np.array(YData).reshape(-1,1)\n",
        "XData, YData"
      ],
      "metadata": {
        "id": "KDlm12OTCX0L",
        "colab": {
          "base_uri": "https://localhost:8080/"
        },
        "outputId": "db1d2ad6-1d98-49c8-9710-2a197837178d"
      },
      "execution_count": 10,
      "outputs": [
        {
          "output_type": "stream",
          "name": "stdout",
          "text": [
            "      Galactocentric Raidus  Cluster Metallicity  #Objects in Cluster  \\\n",
            "0                  4.483209                0.001                38920   \n",
            "1                  4.483209                0.001               505043   \n",
            "2                  4.483209                0.001               479417   \n",
            "3                  4.483209                0.001               504171   \n",
            "4                  4.483209                0.001               501245   \n",
            "...                     ...                  ...                  ...   \n",
            "1291               8.961667                0.001               430575   \n",
            "1292               8.961667                0.001              1148111   \n",
            "1293               8.961667                0.001              1121134   \n",
            "1294               8.961667                0.001              1124046   \n",
            "1295               8.961667                0.001              1060404   \n",
            "\n",
            "      Cluster Mass  Ob Core Radius  Ob Half-Light Radius  CS Brightness  \\\n",
            "0       23593.2395        0.381992              3.413317     109.654400   \n",
            "1      164640.2310        0.368883              2.491200   34827.624400   \n",
            "2      158782.2470        0.053349              1.930993  100139.011000   \n",
            "3      173094.5800        0.239726              2.193033   13710.088900   \n",
            "4      172722.6840        0.458644              2.537746    2589.006420   \n",
            "...            ...             ...                   ...            ...   \n",
            "1291   153829.5090        8.186195             11.196129     124.013015   \n",
            "1292   378797.8470        0.363009              4.047745  121091.456000   \n",
            "1293   376044.7900        0.276965              5.093038   50124.732700   \n",
            "1294   372312.7040        0.876489              6.211617    7679.070830   \n",
            "1295   358251.7990        4.960723              9.352212     591.695393   \n",
            "\n",
            "      Binary Fraction   HM Rel Time  Central Velocity Dispersion 3d  \\\n",
            "0            0.399229    885.619718                        1.916352   \n",
            "1            0.099239   3460.547220                        6.417497   \n",
            "2            0.130133   2958.528450                        8.174782   \n",
            "3            0.184856   3949.593890                        5.935419   \n",
            "4            0.192672   4089.662060                        7.867628   \n",
            "...               ...           ...                             ...   \n",
            "1291         0.084009  17004.436600                        3.515798   \n",
            "1292         0.049244   7780.207680                        7.931974   \n",
            "1293         0.050766   8518.287010                        7.770654   \n",
            "1294         0.059884  13372.708500                        6.273728   \n",
            "1295         0.073547  19822.877400                        4.075810   \n",
            "\n",
            "      Total V-band luminosity  CS Brightness from K62  Core Radius from K62  \\\n",
            "0                     14969.5              423.668974              1.781371   \n",
            "1                     55168.4             4073.650913              1.031188   \n",
            "2                     54178.7            24778.675830              0.298724   \n",
            "3                     61475.5            14689.387400              0.435038   \n",
            "4                     58285.7             6212.542260              0.757504   \n",
            "...                       ...                     ...                   ...   \n",
            "1291                  59061.0              111.583976              8.542639   \n",
            "1292                 148172.0             4941.017507              1.497158   \n",
            "1293                 143544.0             4136.404926              1.325894   \n",
            "1294                 144985.0             3122.623280              1.524092   \n",
            "1295                 141820.0              505.785326              6.846472   \n",
            "\n",
            "      Half Radius from K62  Total luminosity from snap-2D  Single Black Holes  \\\n",
            "0                  3.85929                        14969.5                   0   \n",
            "1                  2.54377                        55168.4                   1   \n",
            "2                  2.03162                        54178.7                   1   \n",
            "3                  2.42598                        61475.5                   0   \n",
            "4                  2.64693                        58285.7                   3   \n",
            "...                    ...                            ...                 ...   \n",
            "1291              12.88920                        59061.0                 421   \n",
            "1292               4.21363                       148172.0                   1   \n",
            "1293               5.49906                       143544.0                   5   \n",
            "1294               6.75933                       144985.0                   2   \n",
            "1295               9.61243                       141820.0                 452   \n",
            "\n",
            "      Black Hole Other Count  Mass of Most Massive BH  Fallback Enabled  \\\n",
            "0                          0                21.994084                 0   \n",
            "1                          0              5871.062390                 0   \n",
            "2                          0                 5.907700                 1   \n",
            "3                          1                17.542009                 0   \n",
            "4                          0                12.388086                 1   \n",
            "...                      ...                      ...               ...   \n",
            "1291                       5                26.195472                 1   \n",
            "1292                       0              8141.942800                 0   \n",
            "1293                       0             14571.972300                 1   \n",
            "1294                       0              4528.488600                 0   \n",
            "1295                       1                24.838628                 1   \n",
            "\n",
            "      Central Velocity Dispersion  \n",
            "0                         1.94718  \n",
            "1                        10.15090  \n",
            "2                         5.44959  \n",
            "3                         4.87986  \n",
            "4                         4.49099  \n",
            "...                           ...  \n",
            "1291                      3.74500  \n",
            "1292                      9.27809  \n",
            "1293                     12.35760  \n",
            "1294                      7.20535  \n",
            "1295                      5.35266  \n",
            "\n",
            "[1296 rows x 20 columns]\n"
          ]
        },
        {
          "output_type": "execute_result",
          "data": {
            "text/plain": [
              "(array([[4.48320946e+00, 1.00000000e-03, 3.89200000e+04, ...,\n",
              "         2.19940839e+01, 0.00000000e+00, 1.94718000e+00],\n",
              "        [4.48320946e+00, 1.00000000e-03, 5.05043000e+05, ...,\n",
              "         5.87106239e+03, 0.00000000e+00, 1.01509000e+01],\n",
              "        [4.48320946e+00, 1.00000000e-03, 4.79417000e+05, ...,\n",
              "         5.90770021e+00, 1.00000000e+00, 5.44959000e+00],\n",
              "        ...,\n",
              "        [8.96166740e+00, 1.00000000e-03, 1.12113400e+06, ...,\n",
              "         1.45719723e+04, 1.00000000e+00, 1.23576000e+01],\n",
              "        [8.96166740e+00, 1.00000000e-03, 1.12404600e+06, ...,\n",
              "         4.52848860e+03, 0.00000000e+00, 7.20535000e+00],\n",
              "        [8.96166740e+00, 1.00000000e-03, 1.06040400e+06, ...,\n",
              "         2.48386276e+01, 1.00000000e+00, 5.35266000e+00]]), array([[1],\n",
              "        [0],\n",
              "        [0],\n",
              "        ...,\n",
              "        [0],\n",
              "        [0],\n",
              "        [6]]))"
            ]
          },
          "metadata": {},
          "execution_count": 10
        }
      ]
    },
    {
      "cell_type": "code",
      "source": [
        "from sklearn.model_selection import train_test_split\n",
        "from sklearn.preprocessing import StandardScaler\n",
        "scaler_x = StandardScaler()\n",
        "scaler_y = StandardScaler()\n",
        "\n",
        "X_train, X_test, Y_train, Y_test = train_test_split(XData, YData, test_size = 0.25)\n",
        "scaler_x.fit(X_train)\n",
        "X_train_scaled = scaler_x.transform(X_train)\n",
        "scaler_x.fit(X_test)\n",
        "X_test_scaled = scaler_x.transform(X_test)\n",
        "X_train_scaled = np.array(X_train_scaled)\n",
        "X_test_scaled = np.array(X_test_scaled)\n",
        "# scaler_y.fit(Y_train)\n",
        "# Y_train_scaled = scaler_y.transform(Y_train)\n",
        "# scaler_y.fit(Y_test)\n",
        "# Y_test_scaled = scaler_y.transform(Y_test)\n",
        "\n",
        "X_train.shape, Y_train.shape, X_test.shape,Y_test.shape"
      ],
      "metadata": {
        "colab": {
          "base_uri": "https://localhost:8080/"
        },
        "id": "A-1JHtONEzNJ",
        "outputId": "a9f4e012-a8c3-4513-ce69-256b1e6b54a4"
      },
      "execution_count": 11,
      "outputs": [
        {
          "output_type": "execute_result",
          "data": {
            "text/plain": [
              "((972, 20), (972, 1), (324, 20), (324, 1))"
            ]
          },
          "metadata": {},
          "execution_count": 11
        }
      ]
    },
    {
      "cell_type": "markdown",
      "source": [
        "## Linear Regression"
      ],
      "metadata": {
        "id": "1pGAyFKPLYIj"
      }
    },
    {
      "cell_type": "code",
      "source": [
        "from sklearn.linear_model import LinearRegression\n",
        "from sklearn.model_selection import cross_val_score\n",
        "from sklearn.metrics import r2_score\n",
        "lin_reg = LinearRegression()\n",
        "lm = LinearRegression()\n",
        "scores = cross_val_score(lm, X_train, Y_train, scoring='r2', cv=6)\n",
        "scores \n"
      ],
      "metadata": {
        "colab": {
          "base_uri": "https://localhost:8080/"
        },
        "id": "_BNAUj54Hseu",
        "outputId": "ce7406db-6742-4d8b-f25e-86a81b781886"
      },
      "execution_count": 12,
      "outputs": [
        {
          "output_type": "execute_result",
          "data": {
            "text/plain": [
              "array([ 5.39836608e-01, -4.98297478e+06,  6.32013962e-01,  6.47297196e-01,\n",
              "       -8.35219571e+15,  4.21384384e-01])"
            ]
          },
          "metadata": {},
          "execution_count": 12
        }
      ]
    },
    {
      "cell_type": "code",
      "source": [
        "lin_reg.fit(X_train_scaled,Y_train)\n",
        "y_pred_l = lin_reg.predict(X_test)\n",
        "print(\"R2_score:\",r2_score(Y_test,y_pred_l))"
      ],
      "metadata": {
        "colab": {
          "base_uri": "https://localhost:8080/"
        },
        "id": "1k6hNJ9C6fxz",
        "outputId": "3961dae5-f30e-4297-e875-3c93f4192a0f"
      },
      "execution_count": 13,
      "outputs": [
        {
          "output_type": "stream",
          "name": "stdout",
          "text": [
            "R2_score: -79447927259.13164\n"
          ]
        }
      ]
    },
    {
      "cell_type": "code",
      "source": [
        "plt.plot(Y_test, y_pred_l, color ='k')\n",
        "  \n",
        "plt.show()\n"
      ],
      "metadata": {
        "colab": {
          "base_uri": "https://localhost:8080/",
          "height": 276
        },
        "id": "YRG_NO1lH_6x",
        "outputId": "1645f2aa-de47-4cff-9c5c-f587064ad375"
      },
      "execution_count": 14,
      "outputs": [
        {
          "output_type": "display_data",
          "data": {
            "text/plain": [
              "<Figure size 432x288 with 1 Axes>"
            ],
            "image/png": "[encoded data removed]"
          },
          "metadata": {
            "needs_background": "light"
          }
        }
      ]
    },
    {
      "cell_type": "code",
      "source": [
        "from sklearn.metrics import mean_absolute_error,mean_squared_error, mean_absolute_percentage_error\n",
        "  \n",
        "mae = mean_absolute_error(y_true=Y_test,y_pred=y_pred_l)\n",
        "#squared True returns MSE value, False returns RMSE value.\n",
        "mse = mean_squared_error(y_true=Y_test,y_pred=y_pred_l) #default=True\n",
        "rmse = mean_squared_error(y_true=Y_test,y_pred=y_pred_l,squared=False)\n",
        "mape = mean_absolute_percentage_error(y_true=Y_test,y_pred=y_pred_l)\n",
        "print(\"Accuracy:\",1-mape)\n",
        "print(\"MAE:\",mae)\n",
        "print(\"MSE:\",mse)\n",
        "print(\"RMSE:\",rmse)"
      ],
      "metadata": {
        "colab": {
          "base_uri": "https://localhost:8080/"
        },
        "id": "lOu40btFNC4w",
        "outputId": "5b9e6d0f-cbf2-4b48-cc89-d42b4bab0c2a"
      },
      "execution_count": 15,
      "outputs": [
        {
          "output_type": "stream",
          "name": "stdout",
          "text": [
            "Accuracy: -9.027593153914716e+20\n",
            "MAE: 303727.902034588\n",
            "MSE: 214204253813.15323\n",
            "RMSE: 462822.05415597174\n"
          ]
        }
      ]
    },
    {
      "cell_type": "markdown",
      "source": [
        "## Random Forest Regressor"
      ],
      "metadata": {
        "id": "OmzRjxyLMl0v"
      }
    },
    {
      "cell_type": "code",
      "source": [
        "from sklearn.ensemble import RandomForestRegressor\n",
        "regr = RandomForestRegressor(max_depth=25, random_state=0,n_estimators = 80,max_features=\"auto\")\n",
        "scores = cross_val_score(regr, X_train, Y_train, scoring='r2', cv=6)\n",
        "scores"
      ],
      "metadata": {
        "colab": {
          "base_uri": "https://localhost:8080/"
        },
        "id": "KONTtLMSNG1r",
        "outputId": "c32db6e7-fdc0-48e6-eab3-8979c6bfdbcf"
      },
      "execution_count": 16,
      "outputs": [
        {
          "output_type": "stream",
          "name": "stderr",
          "text": [
            "/usr/local/lib/python3.7/dist-packages/sklearn/model_selection/_validation.py:680: DataConversionWarning: A column-vector y was passed when a 1d array was expected. Please change the shape of y to (n_samples,), for example using ravel().\n",
            "  estimator.fit(X_train, y_train, **fit_params)\n",
            "/usr/local/lib/python3.7/dist-packages/sklearn/model_selection/_validation.py:680: DataConversionWarning: A column-vector y was passed when a 1d array was expected. Please change the shape of y to (n_samples,), for example using ravel().\n",
            "  estimator.fit(X_train, y_train, **fit_params)\n",
            "/usr/local/lib/python3.7/dist-packages/sklearn/model_selection/_validation.py:680: DataConversionWarning: A column-vector y was passed when a 1d array was expected. Please change the shape of y to (n_samples,), for example using ravel().\n",
            "  estimator.fit(X_train, y_train, **fit_params)\n",
            "/usr/local/lib/python3.7/dist-packages/sklearn/model_selection/_validation.py:680: DataConversionWarning: A column-vector y was passed when a 1d array was expected. Please change the shape of y to (n_samples,), for example using ravel().\n",
            "  estimator.fit(X_train, y_train, **fit_params)\n",
            "/usr/local/lib/python3.7/dist-packages/sklearn/model_selection/_validation.py:680: DataConversionWarning: A column-vector y was passed when a 1d array was expected. Please change the shape of y to (n_samples,), for example using ravel().\n",
            "  estimator.fit(X_train, y_train, **fit_params)\n",
            "/usr/local/lib/python3.7/dist-packages/sklearn/model_selection/_validation.py:680: DataConversionWarning: A column-vector y was passed when a 1d array was expected. Please change the shape of y to (n_samples,), for example using ravel().\n",
            "  estimator.fit(X_train, y_train, **fit_params)\n"
          ]
        },
        {
          "output_type": "execute_result",
          "data": {
            "text/plain": [
              "array([0.8815349 , 0.80960965, 0.71701881, 0.77812401, 0.73850844,\n",
              "       0.76807711])"
            ]
          },
          "metadata": {},
          "execution_count": 16
        }
      ]
    },
    {
      "cell_type": "code",
      "source": [
        "regr.fit(X_train, Y_train)\n",
        "y_pred_rf = regr.predict(X_test)\n",
        "print(\"R2_score:\",r2_score(Y_test,y_pred_rf))"
      ],
      "metadata": {
        "colab": {
          "base_uri": "https://localhost:8080/"
        },
        "id": "RfgcTiXE7a0T",
        "outputId": "49562176-3cda-4d8f-ac52-6f8709432ec4"
      },
      "execution_count": 17,
      "outputs": [
        {
          "output_type": "stream",
          "name": "stderr",
          "text": [
            "/usr/local/lib/python3.7/dist-packages/ipykernel_launcher.py:1: DataConversionWarning: A column-vector y was passed when a 1d array was expected. Please change the shape of y to (n_samples,), for example using ravel().\n",
            "  \"\"\"Entry point for launching an IPython kernel.\n"
          ]
        },
        {
          "output_type": "stream",
          "name": "stdout",
          "text": [
            "R2_score: 0.7764076809336047\n"
          ]
        }
      ]
    },
    {
      "cell_type": "code",
      "source": [
        "plt.plot(Y_test, y_pred_rf, color ='k')\n",
        "  \n",
        "plt.show()"
      ],
      "metadata": {
        "colab": {
          "base_uri": "https://localhost:8080/",
          "height": 265
        },
        "id": "pv2QLQNFY1zn",
        "outputId": "9e54ea3c-9b81-4356-c48e-681ada863aed"
      },
      "execution_count": 18,
      "outputs": [
        {
          "output_type": "display_data",
          "data": {
            "text/plain": [
              "<Figure size 432x288 with 1 Axes>"
            ],
            "image/png": "[encoded data removed]"
          },
          "metadata": {
            "needs_background": "light"
          }
        }
      ]
    },
    {
      "cell_type": "code",
      "source": [
        "mae = mean_absolute_error(y_true=Y_test,y_pred=y_pred_rf)\n",
        "#squared True returns MSE value, False returns RMSE value.\n",
        "mse = mean_squared_error(y_true=Y_test,y_pred=y_pred_rf) #default=True\n",
        "rmse = mean_squared_error(y_true=Y_test,y_pred=y_pred_rf,squared=False)\n",
        "print(\"MAE:\",mae)\n",
        "print(\"MSE:\",mse)\n",
        "print(\"RMSE:\",rmse)"
      ],
      "metadata": {
        "colab": {
          "base_uri": "https://localhost:8080/"
        },
        "id": "H1MdyRUFZyRl",
        "outputId": "6a88a7bc-f108-463a-81a7-9aa2a5ffc664"
      },
      "execution_count": 20,
      "outputs": [
        {
          "output_type": "stream",
          "name": "stdout",
          "text": [
            "MAE: 0.3077160493827161\n",
            "MSE: 0.6028404706790124\n",
            "RMSE: 0.7764280202819913\n"
          ]
        }
      ]
    },
    {
      "cell_type": "markdown",
      "source": [
        "### Hyperparamter tuning with RandomSearchCV"
      ],
      "metadata": {
        "id": "XcW8cX5wjuXJ"
      }
    },
    {
      "cell_type": "code",
      "source": [
        "from sklearn.model_selection import RandomizedSearchCV\n",
        "\n",
        "# Number of trees in random forest\n",
        "n_estimators = [int(x) for x in np.linspace(start = 200, stop = 2000, num = 10)]\n",
        "# Number of features to consider at every split\n",
        "max_features = ['auto', 'sqrt']\n",
        "# Maximum number of levels in tree\n",
        "max_depth = [int(x) for x in np.linspace(10, 110, num = 11)]\n",
        "max_depth.append(None)\n",
        "# Minimum number of samples required to split a node\n",
        "min_samples_split = [2, 5, 10]\n",
        "# Minimum number of samples required at each leaf node\n",
        "min_samples_leaf = [1, 2, 4]\n",
        "# Method of selecting samples for training each tree\n",
        "bootstrap = [True, False]\n",
        "# Create the random grid\n",
        "random_grid = {'n_estimators': n_estimators,\n",
        "               'max_features': max_features,\n",
        "               'max_depth': max_depth,\n",
        "               'min_samples_split': min_samples_split,\n",
        "               'min_samples_leaf': min_samples_leaf,\n",
        "               'bootstrap': bootstrap}"
      ],
      "metadata": {
        "id": "gh-Wj2i3jyAl"
      },
      "execution_count": 21,
      "outputs": []
    },
    {
      "cell_type": "code",
      "source": [
        "# Use the random grid to search for best hyperparameters\n",
        "# First create the base model to tune\n",
        "rf = RandomForestRegressor()\n",
        "# Random search of parameters, using 3 fold cross validation, \n",
        "# search across 100 different combinations, and use all available cores\n",
        "rf_random = RandomizedSearchCV(estimator = rf, param_distributions = random_grid, n_iter = 10, cv = 3, verbose=2, random_state=42, n_jobs = -1)\n",
        "# Fit the random search model\n",
        "rf_random.fit(X_train, Y_train)"
      ],
      "metadata": {
        "colab": {
          "base_uri": "https://localhost:8080/"
        },
        "id": "mOA7XEcbkL_z",
        "outputId": "3b1e67b6-4992-4420-f012-482508ad8a33"
      },
      "execution_count": 22,
      "outputs": [
        {
          "output_type": "stream",
          "name": "stdout",
          "text": [
            "Fitting 3 folds for each of 10 candidates, totalling 30 fits\n"
          ]
        },
        {
          "output_type": "stream",
          "name": "stderr",
          "text": [
            "/usr/local/lib/python3.7/dist-packages/sklearn/model_selection/_search.py:926: DataConversionWarning: A column-vector y was passed when a 1d array was expected. Please change the shape of y to (n_samples,), for example using ravel().\n",
            "  self.best_estimator_.fit(X, y, **fit_params)\n"
          ]
        },
        {
          "output_type": "execute_result",
          "data": {
            "text/plain": [
              "RandomizedSearchCV(cv=3, estimator=RandomForestRegressor(), n_jobs=-1,\n",
              "                   param_distributions={'bootstrap': [True, False],\n",
              "                                        'max_depth': [10, 20, 30, 40, 50, 60,\n",
              "                                                      70, 80, 90, 100, 110,\n",
              "                                                      None],\n",
              "                                        'max_features': ['auto', 'sqrt'],\n",
              "                                        'min_samples_leaf': [1, 2, 4],\n",
              "                                        'min_samples_split': [2, 5, 10],\n",
              "                                        'n_estimators': [200, 400, 600, 800,\n",
              "                                                         1000, 1200, 1400, 1600,\n",
              "                                                         1800, 2000]},\n",
              "                   random_state=42, verbose=2)"
            ]
          },
          "metadata": {},
          "execution_count": 22
        }
      ]
    },
    {
      "cell_type": "code",
      "source": [
        "rf_random.best_params_"
      ],
      "metadata": {
        "colab": {
          "base_uri": "https://localhost:8080/"
        },
        "id": "B68n-MuLk-k7",
        "outputId": "f36041c8-6157-4dde-87bf-dc0e0fdaf934"
      },
      "execution_count": 23,
      "outputs": [
        {
          "output_type": "execute_result",
          "data": {
            "text/plain": [
              "{'n_estimators': 1400,\n",
              " 'min_samples_split': 5,\n",
              " 'min_samples_leaf': 1,\n",
              " 'max_features': 'sqrt',\n",
              " 'max_depth': 30,\n",
              " 'bootstrap': True}"
            ]
          },
          "metadata": {},
          "execution_count": 23
        }
      ]
    },
    {
      "cell_type": "code",
      "source": [
        "regr_best = RandomForestRegressor(n_estimators= 1400,min_samples_split= 5,\n",
        " min_samples_leaf=1,\n",
        " max_features='sqrt',\n",
        "  max_depth= 30,\n",
        " bootstrap=True)\n",
        "scores = cross_val_score(regr_best, X_train, Y_train, scoring='r2', cv=6)\n",
        "scores"
      ],
      "metadata": {
        "colab": {
          "base_uri": "https://localhost:8080/"
        },
        "id": "daH9fJbsk_m7",
        "outputId": "c17f81e3-b5ee-47cb-d5d3-47b3429cb1be"
      },
      "execution_count": 68,
      "outputs": [
        {
          "output_type": "execute_result",
          "data": {
            "text/plain": [
              "array([0.75375313, 0.79144207, 0.7009042 , 0.87292309, 0.77357722,\n",
              "       0.70438707])"
            ]
          },
          "metadata": {},
          "execution_count": 68
        }
      ]
    },
    {
      "cell_type": "code",
      "source": [
        "regr_best.fit(X_train, Y_train)\n",
        "y_pred_rf_best = regr_best.predict(X_test)\n",
        "print(\"R2_score:\",r2_score(Y_test,y_pred_rf_best))"
      ],
      "metadata": {
        "colab": {
          "base_uri": "https://localhost:8080/"
        },
        "id": "hW8VVuA9q12r",
        "outputId": "85dd7f8e-8653-4355-80e7-0934afb5ccd3"
      },
      "execution_count": 69,
      "outputs": [
        {
          "output_type": "stream",
          "name": "stdout",
          "text": [
            "R2_score: 0.8412652636499649\n"
          ]
        }
      ]
    },
    {
      "cell_type": "code",
      "source": [
        "plt.plot(Y_test, y_pred_rf_best, color ='k')\n",
        "  \n",
        "plt.show()"
      ],
      "metadata": {
        "colab": {
          "base_uri": "https://localhost:8080/",
          "height": 266
        },
        "id": "JHAjvsB0rBNp",
        "outputId": "b9dc5437-e401-4a7c-c40b-ac58be0c7b8f"
      },
      "execution_count": 70,
      "outputs": [
        {
          "output_type": "display_data",
          "data": {
            "text/plain": [
              "<Figure size 432x288 with 1 Axes>"
            ],
            "image/png": "[encoded data removed]"
          },
          "metadata": {
            "needs_background": "light"
          }
        }
      ]
    },
    {
      "cell_type": "code",
      "source": [
        "mae = mean_absolute_error(y_true=Y_test,y_pred=y_pred_rf_best)\n",
        "#squared True returns MSE value, False returns RMSE value.\n",
        "mse = mean_squared_error(y_true=Y_test,y_pred=y_pred_rf_best) #default=True\n",
        "rmse = mean_squared_error(y_true=Y_test,y_pred=y_pred_rf_best,squared=False)\n",
        "print(\"MAE:\",mae)\n",
        "print(\"MSE:\",mse)\n",
        "print(\"RMSE:\",rmse)"
      ],
      "metadata": {
        "colab": {
          "base_uri": "https://localhost:8080/"
        },
        "id": "GKDZ4iEorBMB",
        "outputId": "f2815f31-3762-457a-b177-edf5a831005d"
      },
      "execution_count": 71,
      "outputs": [
        {
          "output_type": "stream",
          "name": "stdout",
          "text": [
            "MAE: 0.2655134279973897\n",
            "MSE: 0.3952445942913298\n",
            "RMSE: 0.628684813154676\n"
          ]
        }
      ]
    },
    {
      "cell_type": "markdown",
      "source": [
        "## LASSO Regression"
      ],
      "metadata": {
        "id": "iyC7bbc-NBQ0"
      }
    },
    {
      "cell_type": "code",
      "source": [
        "from sklearn import linear_model\n",
        "lasso = linear_model.Lasso(alpha=0.02)\n",
        "scores = cross_val_score(lasso, X_train, Y_train, scoring='r2', cv=6)\n",
        "scores"
      ],
      "metadata": {
        "id": "bO7yCoTZZ3WW",
        "colab": {
          "base_uri": "https://localhost:8080/"
        },
        "outputId": "52296c31-bebf-42e0-85e2-50609f80a577"
      },
      "execution_count": 28,
      "outputs": [
        {
          "output_type": "stream",
          "name": "stderr",
          "text": [
            "/usr/local/lib/python3.7/dist-packages/sklearn/linear_model/_coordinate_descent.py:648: ConvergenceWarning: Objective did not converge. You might want to increase the number of iterations, check the scale of the features or consider increasing regularisation. Duality gap: 4.192e+02, tolerance: 2.206e-01\n",
            "  coef_, l1_reg, l2_reg, X, y, max_iter, tol, rng, random, positive\n",
            "/usr/local/lib/python3.7/dist-packages/sklearn/linear_model/_coordinate_descent.py:648: ConvergenceWarning: Objective did not converge. You might want to increase the number of iterations, check the scale of the features or consider increasing regularisation. Duality gap: 4.655e+02, tolerance: 2.193e-01\n",
            "  coef_, l1_reg, l2_reg, X, y, max_iter, tol, rng, random, positive\n",
            "/usr/local/lib/python3.7/dist-packages/sklearn/linear_model/_coordinate_descent.py:648: ConvergenceWarning: Objective did not converge. You might want to increase the number of iterations, check the scale of the features or consider increasing regularisation. Duality gap: 4.215e+02, tolerance: 2.082e-01\n",
            "  coef_, l1_reg, l2_reg, X, y, max_iter, tol, rng, random, positive\n",
            "/usr/local/lib/python3.7/dist-packages/sklearn/linear_model/_coordinate_descent.py:648: ConvergenceWarning: Objective did not converge. You might want to increase the number of iterations, check the scale of the features or consider increasing regularisation. Duality gap: 4.525e+02, tolerance: 2.255e-01\n",
            "  coef_, l1_reg, l2_reg, X, y, max_iter, tol, rng, random, positive\n",
            "/usr/local/lib/python3.7/dist-packages/sklearn/linear_model/_coordinate_descent.py:648: ConvergenceWarning: Objective did not converge. You might want to increase the number of iterations, check the scale of the features or consider increasing regularisation. Duality gap: 4.528e+02, tolerance: 2.312e-01\n",
            "  coef_, l1_reg, l2_reg, X, y, max_iter, tol, rng, random, positive\n",
            "/usr/local/lib/python3.7/dist-packages/sklearn/linear_model/_coordinate_descent.py:648: ConvergenceWarning: Objective did not converge. You might want to increase the number of iterations, check the scale of the features or consider increasing regularisation. Duality gap: 4.059e+02, tolerance: 2.250e-01\n",
            "  coef_, l1_reg, l2_reg, X, y, max_iter, tol, rng, random, positive\n"
          ]
        },
        {
          "output_type": "execute_result",
          "data": {
            "text/plain": [
              "array([ 5.33197943e-01,  7.47474304e-01,  6.35062702e-01,  6.37852637e-01,\n",
              "       -4.26250659e+14,  4.11696400e-01])"
            ]
          },
          "metadata": {},
          "execution_count": 28
        }
      ]
    },
    {
      "cell_type": "code",
      "source": [
        "lasso.fit(X_train,Y_train)\n",
        "y_pred_lr = lasso.predict(X_test)\n",
        "print(\"R2_score:\",r2_score(Y_test,y_pred_lr))"
      ],
      "metadata": {
        "colab": {
          "base_uri": "https://localhost:8080/"
        },
        "id": "j7TXuWwQ74cR",
        "outputId": "18f5db74-7a44-492a-c320-6306bd67fdd2"
      },
      "execution_count": 29,
      "outputs": [
        {
          "output_type": "stream",
          "name": "stdout",
          "text": [
            "R2_score: 0.610942483531558\n"
          ]
        },
        {
          "output_type": "stream",
          "name": "stderr",
          "text": [
            "/usr/local/lib/python3.7/dist-packages/sklearn/linear_model/_coordinate_descent.py:648: ConvergenceWarning: Objective did not converge. You might want to increase the number of iterations, check the scale of the features or consider increasing regularisation. Duality gap: 5.260e+02, tolerance: 2.660e-01\n",
            "  coef_, l1_reg, l2_reg, X, y, max_iter, tol, rng, random, positive\n"
          ]
        }
      ]
    },
    {
      "cell_type": "code",
      "source": [
        "plt.plot(Y_test, y_pred_lr, color ='k')\n",
        "  \n",
        "plt.show()"
      ],
      "metadata": {
        "colab": {
          "base_uri": "https://localhost:8080/",
          "height": 265
        },
        "id": "jEehV75ecK4y",
        "outputId": "ed337616-cdba-4a76-c2d6-5e71b9e4c85d"
      },
      "execution_count": 30,
      "outputs": [
        {
          "output_type": "display_data",
          "data": {
            "text/plain": [
              "<Figure size 432x288 with 1 Axes>"
            ],
            "image/png": "[encoded data removed]"
          },
          "metadata": {
            "needs_background": "light"
          }
        }
      ]
    },
    {
      "cell_type": "code",
      "source": [
        "mae = mean_absolute_error(y_true=Y_test,y_pred=y_pred_lr)\n",
        "#squared True returns MSE value, False returns RMSE value.\n",
        "mse = mean_squared_error(y_true=Y_test,y_pred=y_pred_lr) #default=True\n",
        "rmse = mean_squared_error(y_true=Y_test,y_pred=y_pred_lr,squared=False)\n",
        "  \n",
        "print(\"MAE:\",mae)\n",
        "print(\"MSE:\",mse)\n",
        "print(\"RMSE:\",rmse)"
      ],
      "metadata": {
        "colab": {
          "base_uri": "https://localhost:8080/"
        },
        "id": "8mczo0cvcbol",
        "outputId": "64dc5c96-7874-4055-da0c-4dc7753880ac"
      },
      "execution_count": 31,
      "outputs": [
        {
          "output_type": "stream",
          "name": "stdout",
          "text": [
            "MAE: 0.5674039196903671\n",
            "MSE: 1.0489609720421436\n",
            "RMSE: 1.0241879573799644\n"
          ]
        }
      ]
    },
    {
      "cell_type": "markdown",
      "source": [
        "## XGBoost Regressor"
      ],
      "metadata": {
        "id": "jhExVhVUNMNR"
      }
    },
    {
      "cell_type": "code",
      "source": [
        "import xgboost as xg\n",
        "\n",
        "xgb_r = xg.XGBRegressor(objective ='reg:linear',\n",
        "                  n_estimators = 70, seed = 123)\n",
        "scores = cross_val_score(xgb_r, X_train, Y_train, scoring='r2', cv=6)\n",
        "scores"
      ],
      "metadata": {
        "colab": {
          "base_uri": "https://localhost:8080/"
        },
        "id": "DWJHYhN3cezA",
        "outputId": "587c6b1b-eb3a-4630-fcf6-369ae536bdf2"
      },
      "execution_count": 32,
      "outputs": [
        {
          "output_type": "stream",
          "name": "stdout",
          "text": [
            "[05:56:11] WARNING: /workspace/src/objective/regression_obj.cu:152: reg:linear is now deprecated in favor of reg:squarederror.\n",
            "[05:56:12] WARNING: /workspace/src/objective/regression_obj.cu:152: reg:linear is now deprecated in favor of reg:squarederror.\n",
            "[05:56:12] WARNING: /workspace/src/objective/regression_obj.cu:152: reg:linear is now deprecated in favor of reg:squarederror.\n",
            "[05:56:12] WARNING: /workspace/src/objective/regression_obj.cu:152: reg:linear is now deprecated in favor of reg:squarederror.\n",
            "[05:56:12] WARNING: /workspace/src/objective/regression_obj.cu:152: reg:linear is now deprecated in favor of reg:squarederror.\n",
            "[05:56:12] WARNING: /workspace/src/objective/regression_obj.cu:152: reg:linear is now deprecated in favor of reg:squarederror.\n"
          ]
        },
        {
          "output_type": "execute_result",
          "data": {
            "text/plain": [
              "array([0.85240735, 0.83073657, 0.70048195, 0.76633101, 0.66834556,\n",
              "       0.75822652])"
            ]
          },
          "metadata": {},
          "execution_count": 32
        }
      ]
    },
    {
      "cell_type": "code",
      "source": [
        "xgb_r.fit(X_train, Y_train)\n",
        "y_pred_xg = xgb_r.predict(X_test)\n",
        "print(\"R2_score:\",r2_score(Y_test,y_pred_xg))"
      ],
      "metadata": {
        "colab": {
          "base_uri": "https://localhost:8080/"
        },
        "id": "6tfNm_kv8R1s",
        "outputId": "207d4937-c3e0-454b-92db-ef241708ba25"
      },
      "execution_count": 33,
      "outputs": [
        {
          "output_type": "stream",
          "name": "stdout",
          "text": [
            "[05:56:12] WARNING: /workspace/src/objective/regression_obj.cu:152: reg:linear is now deprecated in favor of reg:squarederror.\n",
            "R2_score: 0.800521674566003\n"
          ]
        }
      ]
    },
    {
      "cell_type": "code",
      "source": [
        "plt.plot(Y_test, y_pred_xg, color ='k')\n",
        "plt.show()"
      ],
      "metadata": {
        "colab": {
          "base_uri": "https://localhost:8080/",
          "height": 267
        },
        "id": "YJ2JQaq-dG7m",
        "outputId": "ea48de78-e4de-4250-ebe0-b8daf0a51363"
      },
      "execution_count": 34,
      "outputs": [
        {
          "output_type": "display_data",
          "data": {
            "text/plain": [
              "<Figure size 432x288 with 1 Axes>"
            ],
            "image/png": "[encoded data removed]"
          },
          "metadata": {
            "needs_background": "light"
          }
        }
      ]
    },
    {
      "cell_type": "code",
      "source": [
        "mae = mean_absolute_error(y_true=Y_test,y_pred=y_pred_xg)\n",
        "#squared True returns MSE value, False returns RMSE value.\n",
        "mse = mean_squared_error(y_true=Y_test,y_pred=y_pred_xg) #default=True\n",
        "rmse = mean_squared_error(y_true=Y_test,y_pred=y_pred_xg,squared=False)\n",
        "  \n",
        "print(\"MAE:\",mae)\n",
        "print(\"MSE:\",mse)\n",
        "print(\"RMSE:\",rmse)"
      ],
      "metadata": {
        "colab": {
          "base_uri": "https://localhost:8080/"
        },
        "id": "Gf4oeYw8dLwr",
        "outputId": "f18bcc7f-a2a6-4ec9-c316-871d18663fe7"
      },
      "execution_count": 35,
      "outputs": [
        {
          "output_type": "stream",
          "name": "stdout",
          "text": [
            "MAE: 0.3118898955024319\n",
            "MSE: 0.5378253067771208\n",
            "RMSE: 0.733365738753264\n"
          ]
        }
      ]
    },
    {
      "cell_type": "markdown",
      "source": [
        "### Hyperparameter tuning with RandomSearchCV"
      ],
      "metadata": {
        "id": "XH_CWfQSnCtx"
      }
    },
    {
      "cell_type": "code",
      "source": [
        "params = {\n",
        " 'learning_rate' : [0.05,0.10,0.15,0.20,0.25,0.30],\n",
        " 'max_depth' : [ 3, 4, 5, 6, 8, 10, 12, 15],\n",
        " 'min_child_weight' : [ 1, 3, 5, 7 ],\n",
        " 'gamma': [ 0.0, 0.1, 0.2 , 0.3, 0.4 ],\n",
        " 'colsample_bytree' : [ 0.3, 0.4, 0.5 , 0.7 ]\n",
        "}"
      ],
      "metadata": {
        "id": "Vbk_CQP1pgul"
      },
      "execution_count": 36,
      "outputs": []
    },
    {
      "cell_type": "code",
      "source": [
        "rs_model=RandomizedSearchCV(xgb_r,param_distributions=params,n_iter=10,scoring='r2',n_jobs=-1,cv=5,verbose=3)"
      ],
      "metadata": {
        "id": "mxgXHPWlpoDE"
      },
      "execution_count": 37,
      "outputs": []
    },
    {
      "cell_type": "code",
      "source": [
        "rs_model.fit(X_train,Y_train)"
      ],
      "metadata": {
        "colab": {
          "base_uri": "https://localhost:8080/"
        },
        "id": "VFF-Z9Uuren7",
        "outputId": "ef9fad3e-18e9-4ae6-c4be-78e9a78c666f"
      },
      "execution_count": 38,
      "outputs": [
        {
          "output_type": "stream",
          "name": "stdout",
          "text": [
            "Fitting 5 folds for each of 10 candidates, totalling 50 fits\n",
            "[05:56:17] WARNING: /workspace/src/objective/regression_obj.cu:152: reg:linear is now deprecated in favor of reg:squarederror.\n"
          ]
        },
        {
          "output_type": "execute_result",
          "data": {
            "text/plain": [
              "RandomizedSearchCV(cv=5, estimator=XGBRegressor(n_estimators=70, seed=123),\n",
              "                   n_jobs=-1,\n",
              "                   param_distributions={'colsample_bytree': [0.3, 0.4, 0.5,\n",
              "                                                             0.7],\n",
              "                                        'gamma': [0.0, 0.1, 0.2, 0.3, 0.4],\n",
              "                                        'learning_rate': [0.05, 0.1, 0.15, 0.2,\n",
              "                                                          0.25, 0.3],\n",
              "                                        'max_depth': [3, 4, 5, 6, 8, 10, 12,\n",
              "                                                      15],\n",
              "                                        'min_child_weight': [1, 3, 5, 7]},\n",
              "                   scoring='r2', verbose=3)"
            ]
          },
          "metadata": {},
          "execution_count": 38
        }
      ]
    },
    {
      "cell_type": "code",
      "source": [
        "rs_model.best_estimator_\n"
      ],
      "metadata": {
        "colab": {
          "base_uri": "https://localhost:8080/"
        },
        "id": "hbCabhSvremW",
        "outputId": "d9f584ec-bbeb-46e8-f8e1-cb693b67e62f"
      },
      "execution_count": 39,
      "outputs": [
        {
          "output_type": "execute_result",
          "data": {
            "text/plain": [
              "XGBRegressor(colsample_bytree=0.7, gamma=0.1, max_depth=5, n_estimators=70,\n",
              "             seed=123)"
            ]
          },
          "metadata": {},
          "execution_count": 39
        }
      ]
    },
    {
      "cell_type": "code",
      "source": [
        "xgb_r_best = xg.XGBRegressor(colsample_bytree=0.7, gamma=0.1, max_depth=5, n_estimators=70,\n",
        "             seed=123)\n",
        "scores = cross_val_score(xgb_r_best, X_train, Y_train, scoring='r2', cv=6)\n",
        "scores"
      ],
      "metadata": {
        "colab": {
          "base_uri": "https://localhost:8080/"
        },
        "id": "z9Py_G7Aru2m",
        "outputId": "a95530de-e3f3-4e48-f319-a7c4cf18290c"
      },
      "execution_count": 72,
      "outputs": [
        {
          "output_type": "stream",
          "name": "stdout",
          "text": [
            "[05:59:15] WARNING: /workspace/src/objective/regression_obj.cu:152: reg:linear is now deprecated in favor of reg:squarederror.\n",
            "[05:59:15] WARNING: /workspace/src/objective/regression_obj.cu:152: reg:linear is now deprecated in favor of reg:squarederror.\n",
            "[05:59:16] WARNING: /workspace/src/objective/regression_obj.cu:152: reg:linear is now deprecated in favor of reg:squarederror.\n",
            "[05:59:16] WARNING: /workspace/src/objective/regression_obj.cu:152: reg:linear is now deprecated in favor of reg:squarederror.\n",
            "[05:59:16] WARNING: /workspace/src/objective/regression_obj.cu:152: reg:linear is now deprecated in favor of reg:squarederror.\n",
            "[05:59:16] WARNING: /workspace/src/objective/regression_obj.cu:152: reg:linear is now deprecated in favor of reg:squarederror.\n"
          ]
        },
        {
          "output_type": "execute_result",
          "data": {
            "text/plain": [
              "array([0.79357863, 0.74442335, 0.66821321, 0.91119072, 0.73531586,\n",
              "       0.68938615])"
            ]
          },
          "metadata": {},
          "execution_count": 72
        }
      ]
    },
    {
      "cell_type": "code",
      "source": [
        "xgb_r_best.fit(X_train, Y_train)\n",
        "y_pred_xg_best = xgb_r_best.predict(X_test)\n",
        "print(\"R2_score:\",r2_score(Y_test,y_pred_xg_best))"
      ],
      "metadata": {
        "colab": {
          "base_uri": "https://localhost:8080/"
        },
        "id": "UQEp9Rfxr8Ep",
        "outputId": "7e6f740d-fe51-4f57-94a6-30fa343eaf72"
      },
      "execution_count": 73,
      "outputs": [
        {
          "output_type": "stream",
          "name": "stdout",
          "text": [
            "[05:59:19] WARNING: /workspace/src/objective/regression_obj.cu:152: reg:linear is now deprecated in favor of reg:squarederror.\n",
            "R2_score: 0.853486859436854\n"
          ]
        }
      ]
    },
    {
      "cell_type": "code",
      "source": [
        "plt.plot(Y_test, y_pred_xg_best, color ='k')\n",
        "plt.show()"
      ],
      "metadata": {
        "colab": {
          "base_uri": "https://localhost:8080/",
          "height": 265
        },
        "id": "JqPzVdRqsEus",
        "outputId": "feee85f5-cc34-48f0-9e10-1b1a910c3ca7"
      },
      "execution_count": 74,
      "outputs": [
        {
          "output_type": "display_data",
          "data": {
            "text/plain": [
              "<Figure size 432x288 with 1 Axes>"
            ],
            "image/png": "[encoded data removed]"
          },
          "metadata": {
            "needs_background": "light"
          }
        }
      ]
    },
    {
      "cell_type": "code",
      "source": [
        "mae = mean_absolute_error(y_true=Y_test,y_pred=y_pred_xg_best)\n",
        "#squared True returns MSE value, False returns RMSE value.\n",
        "mse = mean_squared_error(y_true=Y_test,y_pred=y_pred_xg_best) #default=True\n",
        "rmse = mean_squared_error(y_true=Y_test,y_pred=y_pred_xg_best,squared=False)\n",
        "  \n",
        "print(\"MAE:\",mae)\n",
        "print(\"MSE:\",mse)\n",
        "print(\"RMSE:\",rmse)"
      ],
      "metadata": {
        "colab": {
          "base_uri": "https://localhost:8080/"
        },
        "id": "KJmzE7fXsQ96",
        "outputId": "b38976ae-950f-45ac-f284-6da5ad624d6b"
      },
      "execution_count": 75,
      "outputs": [
        {
          "output_type": "stream",
          "name": "stdout",
          "text": [
            "MAE: 0.2291451252904939\n",
            "MSE: 0.3648131979917225\n",
            "RMSE: 0.6039976804522701\n"
          ]
        }
      ]
    },
    {
      "cell_type": "markdown",
      "source": [
        "## KNN Regressor"
      ],
      "metadata": {
        "id": "jLyn0sFdNgca"
      }
    },
    {
      "cell_type": "code",
      "source": [
        "from sklearn.neighbors import KNeighborsRegressor\n",
        "knn_regressor=KNeighborsRegressor(n_neighbors=1)\n",
        "scores = cross_val_score(knn_regressor, X_train, Y_train, scoring='r2', cv=6)\n",
        "scores\n"
      ],
      "metadata": {
        "id": "fPWJzOrRNi3a",
        "colab": {
          "base_uri": "https://localhost:8080/"
        },
        "outputId": "28853314-d186-422f-8565-4c1bfb5c5880"
      },
      "execution_count": 44,
      "outputs": [
        {
          "output_type": "execute_result",
          "data": {
            "text/plain": [
              "array([-0.07106709,  0.39562672,  0.33044983, -0.01168064, -0.61536411,\n",
              "        0.27435337])"
            ]
          },
          "metadata": {},
          "execution_count": 44
        }
      ]
    },
    {
      "cell_type": "code",
      "source": [
        "knn_regressor.fit(X_train, Y_train)\n",
        "y_pred_knn = knn_regressor.predict(X_test)\n",
        "print(\"R2_score:\",r2_score(Y_test,y_pred_knn))"
      ],
      "metadata": {
        "colab": {
          "base_uri": "https://localhost:8080/"
        },
        "id": "2tosfhWbNV-s",
        "outputId": "fcade420-fb70-4ab2-b950-10cb4b02a221"
      },
      "execution_count": 45,
      "outputs": [
        {
          "output_type": "stream",
          "name": "stdout",
          "text": [
            "R2_score: -0.0016535232765200192\n"
          ]
        }
      ]
    },
    {
      "cell_type": "code",
      "source": [
        "plt.plot(Y_test, y_pred_knn, color ='k')\n",
        "plt.show()"
      ],
      "metadata": {
        "colab": {
          "base_uri": "https://localhost:8080/",
          "height": 265
        },
        "id": "izZgJevZNkVC",
        "outputId": "e56de609-1a2a-4f5f-8cee-ec603f502a2f"
      },
      "execution_count": 46,
      "outputs": [
        {
          "output_type": "display_data",
          "data": {
            "text/plain": [
              "<Figure size 432x288 with 1 Axes>"
            ],
            "image/png": "[encoded data removed]"
          },
          "metadata": {
            "needs_background": "light"
          }
        }
      ]
    },
    {
      "cell_type": "code",
      "source": [
        "mae = mean_absolute_error(y_true=Y_test,y_pred=y_pred_knn)\n",
        "#squared True returns MSE value, False returns RMSE value.\n",
        "mse = mean_squared_error(y_true=Y_test,y_pred=y_pred_knn) #default=True\n",
        "rmse = mean_squared_error(y_true=Y_test,y_pred=y_pred_knn,squared=False)\n",
        "  \n",
        "print(\"MAE:\",mae)\n",
        "print(\"MSE:\",mse)\n",
        "print(\"RMSE:\",rmse)"
      ],
      "metadata": {
        "colab": {
          "base_uri": "https://localhost:8080/"
        },
        "id": "bcAyBEodNo82",
        "outputId": "8d9caae1-34a1-4a06-bd07-438f2fade7dc"
      },
      "execution_count": 47,
      "outputs": [
        {
          "output_type": "stream",
          "name": "stdout",
          "text": [
            "MAE: 0.6574074074074074\n",
            "MSE: 2.700617283950617\n",
            "RMSE: 1.6433554953054488\n"
          ]
        }
      ]
    },
    {
      "cell_type": "markdown",
      "source": [
        "### Hyperparameter tuning"
      ],
      "metadata": {
        "id": "SG8rRMkNN6Yo"
      }
    },
    {
      "cell_type": "code",
      "source": [
        "knn_accuracy_rate = []\n",
        "for i in range(1,40):\n",
        "    \n",
        "    knn = KNeighborsRegressor(n_neighbors=i)\n",
        "    knn_score=cross_val_score(knn,X_train,Y_train,cv=10,scoring=\"r2\")\n",
        "    knn_accuracy_rate.append(knn_score.mean())\n",
        "\n"
      ],
      "metadata": {
        "id": "RIlmWYVPN8i7"
      },
      "execution_count": 48,
      "outputs": []
    },
    {
      "cell_type": "code",
      "source": [
        "import matplotlib.pyplot as plt\n",
        "\n",
        "plt.figure(figsize=(10,6))\n",
        "plt.plot(range(1,40),knn_accuracy_rate,color='blue', linestyle='dashed', marker='o',\n",
        "         markerfacecolor='red', markersize=10)\n",
        "plt.title('Accuracy Rate vs. K Value')\n",
        "plt.xlabel('K')\n",
        "plt.ylabel('Accuracy Rate')"
      ],
      "metadata": {
        "colab": {
          "base_uri": "https://localhost:8080/",
          "height": 421
        },
        "id": "UZvxld73OUk1",
        "outputId": "1a177841-fd63-47ce-ae21-7234d69426d0"
      },
      "execution_count": 49,
      "outputs": [
        {
          "output_type": "execute_result",
          "data": {
            "text/plain": [
              "Text(0, 0.5, 'Accuracy Rate')"
            ]
          },
          "metadata": {},
          "execution_count": 49
        },
        {
          "output_type": "display_data",
          "data": {
            "text/plain": [
              "<Figure size 720x432 with 1 Axes>"
            ],
            "image/png": "[encoded data removed]"
          },
          "metadata": {
            "needs_background": "light"
          }
        }
      ]
    },
    {
      "cell_type": "code",
      "source": [
        "knn_regressor_best=KNeighborsRegressor(n_neighbors=5)\n",
        "scores = cross_val_score(knn_regressor_best, X_train, Y_train, scoring='r2', cv=6)\n",
        "scores"
      ],
      "metadata": {
        "colab": {
          "base_uri": "https://localhost:8080/"
        },
        "id": "0rwuwtSKOiXy",
        "outputId": "5a9e3926-8f15-4b3a-b160-38b670e6360b"
      },
      "execution_count": 76,
      "outputs": [
        {
          "output_type": "execute_result",
          "data": {
            "text/plain": [
              "array([0.77137088, 0.6908988 , 0.71448838, 0.85979736, 0.76273393,\n",
              "       0.57957673])"
            ]
          },
          "metadata": {},
          "execution_count": 76
        }
      ]
    },
    {
      "cell_type": "code",
      "source": [
        "knn_regressor_best.fit(X_train, Y_train)\n",
        "y_pred_knn_best = knn_regressor_best.predict(X_test)\n",
        "print(\"R2_score:\",r2_score(Y_test,y_pred_knn_best))"
      ],
      "metadata": {
        "colab": {
          "base_uri": "https://localhost:8080/"
        },
        "id": "ptPhyfpwOos0",
        "outputId": "e677f333-0576-4105-f992-e1adc37e2157"
      },
      "execution_count": 77,
      "outputs": [
        {
          "output_type": "stream",
          "name": "stdout",
          "text": [
            "R2_score: 0.8035079020762319\n"
          ]
        }
      ]
    },
    {
      "cell_type": "code",
      "source": [
        "plt.plot(Y_test, y_pred_knn_best, color ='k')\n",
        "plt.show()"
      ],
      "metadata": {
        "colab": {
          "base_uri": "https://localhost:8080/",
          "height": 265
        },
        "id": "-Tu1cmTpOtlo",
        "outputId": "d0bcd170-1b5a-4d37-c6e9-02495973a5a9"
      },
      "execution_count": 78,
      "outputs": [
        {
          "output_type": "display_data",
          "data": {
            "text/plain": [
              "<Figure size 432x288 with 1 Axes>"
            ],
            "image/png": "[encoded data removed]"
          },
          "metadata": {
            "needs_background": "light"
          }
        }
      ]
    },
    {
      "cell_type": "code",
      "source": [
        "mae = mean_absolute_error(y_true=Y_test,y_pred=y_pred_knn_best)\n",
        "#squared True returns MSE value, False returns RMSE value.\n",
        "mse = mean_squared_error(y_true=Y_test,y_pred=y_pred_knn_best) #default=True\n",
        "rmse = mean_squared_error(y_true=Y_test,y_pred=y_pred_knn_best,squared=False)\n",
        "  \n",
        "print(\"MAE:\",mae)\n",
        "print(\"MSE:\",mse)\n",
        "print(\"RMSE:\",rmse)"
      ],
      "metadata": {
        "colab": {
          "base_uri": "https://localhost:8080/"
        },
        "id": "yWd9_oSFOz6-",
        "outputId": "0a50f5e2-e32f-4b95-aa8a-80c13205409a"
      },
      "execution_count": 79,
      "outputs": [
        {
          "output_type": "stream",
          "name": "stdout",
          "text": [
            "MAE: 0.27345679012345675\n",
            "MSE: 0.4892592592592592\n",
            "RMSE: 0.6994706993572063\n"
          ]
        }
      ]
    },
    {
      "cell_type": "markdown",
      "source": [
        "## PSO Regression\n"
      ],
      "metadata": {
        "id": "Tasidgnwb_kz"
      }
    },
    {
      "cell_type": "code",
      "source": [
        "from scipy.stats import norm\n",
        "from sklearn.preprocessing import StandardScaler\n",
        "\n",
        "YData = data['Binary Black Holes']\n",
        "XData = data.drop(['Binary Black Holes','TLC at 12 Gyrs'], axis=1)\n",
        "X = XData.values\n",
        "y= YData.values\n",
        "scaler = StandardScaler()\n",
        "X = scaler.fit_transform(X)"
      ],
      "metadata": {
        "id": "bO9WvQZffUqw"
      },
      "execution_count": 54,
      "outputs": []
    },
    {
      "cell_type": "code",
      "source": [
        "X.shape, y.shape\n"
      ],
      "metadata": {
        "colab": {
          "base_uri": "https://localhost:8080/"
        },
        "id": "hVy7zDLtjxz9",
        "outputId": "55c5d858-e86f-4ba2-d886-ffce47b31fde"
      },
      "execution_count": 55,
      "outputs": [
        {
          "output_type": "execute_result",
          "data": {
            "text/plain": [
              "((1296, 20), (1296,))"
            ]
          },
          "metadata": {},
          "execution_count": 55
        }
      ]
    },
    {
      "cell_type": "code",
      "source": [],
      "metadata": {
        "id": "0VL6tm7mlA8-"
      },
      "execution_count": null,
      "outputs": []
    },
    {
      "cell_type": "code",
      "source": [
        "class SIregression:\n",
        "  def __init__(self,num_particles=10,learning_rate=0.0003,batch_size=10,epoch=10,inertia = 0.9, c1 = 0.5, c2 = 0.4):\n",
        "    self.lr_init = learning_rate\n",
        "    self.batch_size = batch_size\n",
        "    self.num_particles = num_particles\n",
        "    self.trained_weights = None\n",
        "    self.epoch = epoch\n",
        "    self.c2 = c2\n",
        "    self.c1 = c1\n",
        "    self.inertia = inertia\n",
        "\n",
        "  def split(self,data):\n",
        "    # one can override this function build custom data spliter (for temporal data)\n",
        "    split_percentage = 1\n",
        "    # returns training data,validation data\n",
        "    return data[:int(data.shape[0]*split_percentage)],data[int(data.shape[0]*(split_percentage)):] \n",
        "\n",
        "  def loss_func(self,target,values):\n",
        "    # one can overrided this function to create a custome lossfunction\n",
        "    return np.sum((target-values)**2)/target.shape[0]\n",
        "\n",
        "  def exp_decay(self,loss):\n",
        "    # learning rate will decay with respect to the loss\n",
        "    k = 0.3\n",
        "    lrate = self.lr_init * np.exp(k*(loss-self.thresh))\n",
        "    return lrate\n",
        "\n",
        "  def velocity_update(self,v1,pbest,gbest,present):\n",
        "    #updating the velocity using the formula\n",
        "    # logistic equation of chaos as r > 4 \n",
        "    self.inertia = 4*self.inertia*(1-self.inertia)\n",
        "    return self.inertia*v1 + self.c1*np.random.rand()*(pbest-present)+self.c2*np.random.rand()*(gbest-present)\n",
        "  def fit(self,X,y):\n",
        "    # initializing starting position, velocity, particles best values\n",
        "    particles=[]\n",
        "    best_loss = 0\n",
        "    global_best = None\n",
        "    # adding one for the bias term\n",
        "    X = np.append(X,np.ones(shape = (X.shape[0],1)),axis=1)\n",
        "\n",
        "    for particle in norm.rvs(scale = 5, size = (self.num_particles , X.shape[1])):\n",
        "      particles.append({'values':particle,\n",
        "                        'velocity':np.random.randn(X.shape[1]),\n",
        "                        'present_best': particle})\n",
        "      \n",
        "      if len(particles) == 1:\n",
        "        global_best = particle\n",
        "        best_loss = self.loss_func(y[:self.batch_size],np.array([np.sum(particle*x) for x in X[:self.batch_size]]))\n",
        "      else:\n",
        "        current_loss = self.loss_func(y[:self.batch_size],np.array([np.sum(particle*x) for x in X[:self.batch_size]]))\n",
        "        if current_loss<best_loss:\n",
        "          global_best = particle\n",
        "          best_loss = current_loss\n",
        "    particles = np.array(particles)\n",
        "\n",
        "    #algorithm\n",
        "    ep = 0\n",
        "    loss = 9999\n",
        "    while self.epoch>ep:\n",
        "      train_data,val_data = self.split(np.append(X,np.vstack(y),axis=1))\n",
        "      previous_loss = self.loss_func(train_data[:,-1],np.array([np.sum(global_best*x) for x in train_data[:,:-1]]))\n",
        "      for i,particle in enumerate(particles):\n",
        "        # print(particle.values)\n",
        "        particles[i]['velocity'] = self.velocity_update(particle['velocity'],global_best,particle['present_best'],particles[i]['values'])\n",
        "        \n",
        "        # updating the position\n",
        "        particles[i]['values'] = particles[i]['values'] + particles[i]['velocity']\n",
        "\n",
        "        # updating present best and global best\n",
        "        present_loss = self.loss_func(train_data[:,-1],np.array([np.sum(particles[i]['values']*x) for x in train_data[:,:-1]]))\n",
        "        present_best_loss = self.loss_func(train_data[:,-1],np.array([np.sum(particles[i]['present_best']*x) for x in train_data[:,:-1]]))\n",
        "        global_best_loss = self.loss_func(train_data[:,-1],np.array([np.sum(global_best*x) for x in train_data[:,:-1]]))\n",
        "        \n",
        "        if present_loss < present_best_loss:\n",
        "          particles[i]['present_best'] = particles[i]['values']\n",
        "        if present_best_loss < global_best_loss:\n",
        "          global_best = particles[i]['present_best']\n",
        "        \n",
        "      loss = self.loss_func(train_data[:,-1],np.array([np.sum(global_best*x) for x in train_data[:,:-1]]))\n",
        "      # mutation for local minima purpose\n",
        "      if int(previous_loss) == int(loss):\n",
        "        for i,_ in enumerate(particles):\n",
        "          # shift the point by a randnom distance which decreases as the iterations reaches end\n",
        "          particles[i]['values'] = particles[i]['values'] + norm.rvs(scale =(self.epoch-ep)/self.epoch if (self.epoch-ep)/self.epoch > 0.2 else 0.2 ,size=(len(particles[i]['values'])))\n",
        "      \n",
        "      print(\"training loss {} of epoch {}\".format(loss,ep+1))\n",
        "      ep = ep+1\n",
        "    \n",
        "    print(global_best.shape)\n",
        "    self.trained_weights = global_best\n",
        "    return self.trained_weights\n",
        "  def predict(self,X):\n",
        "    # adding one for the bias term\n",
        "    print(X.shape)\n",
        "    X = np.append(X,np.ones(shape = (X.shape[0],1)),axis=1)\n",
        "    return np.array([np.sum(self.trained_weights*x) for x in X[:,:]])"
      ],
      "metadata": {
        "id": "TN_yFjw_jzsV"
      },
      "execution_count": 56,
      "outputs": []
    },
    {
      "cell_type": "code",
      "source": [
        "X_train, X_test, Y_train, Y_test = train_test_split(X, y, test_size = 0.25)"
      ],
      "metadata": {
        "id": "iWug8iSqowOl"
      },
      "execution_count": 57,
      "outputs": []
    },
    {
      "cell_type": "code",
      "source": [
        "model = SIregression(num_particles=70,epoch=50)\n",
        "model.fit(X_train,Y_train)\n"
      ],
      "metadata": {
        "colab": {
          "base_uri": "https://localhost:8080/"
        },
        "id": "3qy02sm4kyL2",
        "outputId": "296570df-99f3-41b2-e4f6-3c7b46234670"
      },
      "execution_count": 58,
      "outputs": [
        {
          "output_type": "stream",
          "name": "stdout",
          "text": [
            "training loss 63.84985860822951 of epoch 1\n",
            "training loss 63.84985860822951 of epoch 2\n",
            "training loss 32.11192249726009 of epoch 3\n",
            "training loss 21.799529539170873 of epoch 4\n",
            "training loss 20.48784518865626 of epoch 5\n",
            "training loss 14.118659715190685 of epoch 6\n",
            "training loss 12.591802147248705 of epoch 7\n",
            "training loss 8.306219078673958 of epoch 8\n",
            "training loss 6.622262851750347 of epoch 9\n",
            "training loss 5.790325037448009 of epoch 10\n",
            "training loss 5.790325037448009 of epoch 11\n",
            "training loss 5.168729393100836 of epoch 12\n",
            "training loss 4.5301898199026684 of epoch 13\n",
            "training loss 4.5301898199026684 of epoch 14\n",
            "training loss 4.237478783824937 of epoch 15\n",
            "training loss 4.237478783824937 of epoch 16\n",
            "training loss 4.237478783824937 of epoch 17\n",
            "training loss 4.237478783824937 of epoch 18\n",
            "training loss 3.960267002289249 of epoch 19\n",
            "training loss 3.960267002289249 of epoch 20\n",
            "training loss 3.710426670711518 of epoch 21\n",
            "training loss 3.710426670711518 of epoch 22\n",
            "training loss 3.710426670711518 of epoch 23\n",
            "training loss 3.678179515338716 of epoch 24\n",
            "training loss 3.391811281017871 of epoch 25\n",
            "training loss 3.391811281017871 of epoch 26\n",
            "training loss 3.001886049362769 of epoch 27\n",
            "training loss 3.001886049362769 of epoch 28\n",
            "training loss 2.893371770080111 of epoch 29\n",
            "training loss 2.6754421738721743 of epoch 30\n",
            "training loss 2.5457426270148544 of epoch 31\n",
            "training loss 2.5457426270148544 of epoch 32\n",
            "training loss 2.437691560621691 of epoch 33\n",
            "training loss 2.437691560621691 of epoch 34\n",
            "training loss 2.3689261603114935 of epoch 35\n",
            "training loss 2.214309445174693 of epoch 36\n",
            "training loss 2.214309445174693 of epoch 37\n",
            "training loss 2.214309445174693 of epoch 38\n",
            "training loss 2.1998307649486013 of epoch 39\n",
            "training loss 2.165109416611491 of epoch 40\n",
            "training loss 2.165109416611491 of epoch 41\n",
            "training loss 2.0484265818525063 of epoch 42\n",
            "training loss 2.0484265818525063 of epoch 43\n",
            "training loss 2.0484265818525063 of epoch 44\n",
            "training loss 2.0484265818525063 of epoch 45\n",
            "training loss 1.999221307191359 of epoch 46\n",
            "training loss 1.999221307191359 of epoch 47\n",
            "training loss 1.9027223991739526 of epoch 48\n",
            "training loss 1.9027223991739526 of epoch 49\n",
            "training loss 1.8412381378810199 of epoch 50\n",
            "(21,)\n"
          ]
        },
        {
          "output_type": "execute_result",
          "data": {
            "text/plain": [
              "array([-0.24391511, -0.33106752,  0.74031714,  1.78099542, -0.01325661,\n",
              "        1.37698019, -0.03263715, -0.29380911, -1.2624801 , -0.04873163,\n",
              "       -2.07962107, -0.29645444,  0.06573284, -2.42399011,  0.21494757,\n",
              "        0.90889975,  0.24403674, -0.26278038,  0.30467468, -0.04985319,\n",
              "        0.59602257])"
            ]
          },
          "metadata": {},
          "execution_count": 58
        }
      ]
    },
    {
      "cell_type": "code",
      "source": [
        "y_pred_pso = model.predict(X_test)"
      ],
      "metadata": {
        "colab": {
          "base_uri": "https://localhost:8080/"
        },
        "id": "D_nD4jB8riae",
        "outputId": "a2510c4f-b772-43ac-9b88-531985c71f66"
      },
      "execution_count": 59,
      "outputs": [
        {
          "output_type": "stream",
          "name": "stdout",
          "text": [
            "(324, 20)\n"
          ]
        }
      ]
    },
    {
      "cell_type": "code",
      "source": [
        "print(model.loss_func(Y_test,y_pred_pso))"
      ],
      "metadata": {
        "colab": {
          "base_uri": "https://localhost:8080/"
        },
        "id": "QII6XFUBpHI5",
        "outputId": "97cfda6c-b5fe-4678-fb85-4d9444597815"
      },
      "execution_count": 60,
      "outputs": [
        {
          "output_type": "stream",
          "name": "stdout",
          "text": [
            "29.688956442005342\n"
          ]
        }
      ]
    },
    {
      "cell_type": "code",
      "source": [
        "from sklearn.metrics import mean_absolute_error,mean_squared_error\n",
        "mae = mean_absolute_error(y_true=Y_test,y_pred=y_pred_pso)\n",
        "#squared True returns MSE value, False returns RMSE value.\n",
        "mse = mean_squared_error(y_true=Y_test,y_pred=y_pred_pso) #default=True\n",
        "rmse = mean_squared_error(y_true=Y_test,y_pred=y_pred_pso,squared=False)\n",
        "  \n",
        "print(\"MAE:\",mae)\n",
        "print(\"MSE:\",mse)\n",
        "print(\"RMSE:\",rmse)"
      ],
      "metadata": {
        "colab": {
          "base_uri": "https://localhost:8080/"
        },
        "id": "QM70bGbirfr7",
        "outputId": "525b9ab6-43b7-44ae-a313-f97ab7034689"
      },
      "execution_count": 61,
      "outputs": [
        {
          "output_type": "stream",
          "name": "stdout",
          "text": [
            "MAE: 1.141162843357055\n",
            "MSE: 29.688956442005342\n",
            "RMSE: 5.448757330071265\n"
          ]
        }
      ]
    },
    {
      "cell_type": "code",
      "source": [
        "from sklearn.metrics import r2_score\n",
        "print(\"R2_score\",r2_score(Y_test,y_pred_pso))"
      ],
      "metadata": {
        "colab": {
          "base_uri": "https://localhost:8080/"
        },
        "id": "Yf_Z1Nplruw8",
        "outputId": "8385fd2e-85ad-41fc-f85a-fcdb3d2937ad"
      },
      "execution_count": 62,
      "outputs": [
        {
          "output_type": "stream",
          "name": "stdout",
          "text": [
            "R2_score -10.923423473454886\n"
          ]
        }
      ]
    },
    {
      "cell_type": "markdown",
      "source": [
        "## Comparing with SLR model"
      ],
      "metadata": {
        "id": "IiB5Hy7bqLDb"
      }
    },
    {
      "cell_type": "code",
      "source": [
        "from sklearn.linear_model import LinearRegression\n",
        "mod = LinearRegression()\n",
        "mod.fit(X_train,Y_train)\n",
        "y_pred = mod.predict(X_test)\n",
        "print(model.loss_func(Y_test,y_pred))"
      ],
      "metadata": {
        "colab": {
          "base_uri": "https://localhost:8080/"
        },
        "id": "IMj6FPZ-pfOB",
        "outputId": "c401bc40-a152-448e-e547-ba5efaf043d2"
      },
      "execution_count": 63,
      "outputs": [
        {
          "output_type": "stream",
          "name": "stdout",
          "text": [
            "6723707537123883.0\n"
          ]
        }
      ]
    },
    {
      "cell_type": "code",
      "source": [
        "mod.coef_"
      ],
      "metadata": {
        "colab": {
          "base_uri": "https://localhost:8080/"
        },
        "id": "IY2HTasqqSEQ",
        "outputId": "e1489d04-e502-4943-b128-7d5bad077adc"
      },
      "execution_count": 64,
      "outputs": [
        {
          "output_type": "execute_result",
          "data": {
            "text/plain": [
              "array([-5.16022757e-02, -5.12585282e-02, -1.76593690e+00,  1.64442929e+00,\n",
              "        2.28483039e-01, -2.21819814e-01,  4.43061319e-02, -5.84109121e-02,\n",
              "        3.83327543e-01, -1.53624567e-02, -9.61646206e+03, -3.08780917e-01,\n",
              "        2.30298256e-02,  4.09839303e+07,  9.57290511e+03,  6.82825218e-01,\n",
              "        2.58816339e-01, -3.05043526e-01,  3.08169754e-01,  1.00423042e-01])"
            ]
          },
          "metadata": {},
          "execution_count": 64
        }
      ]
    },
    {
      "cell_type": "code",
      "source": [
        "model.trained_weights\n"
      ],
      "metadata": {
        "colab": {
          "base_uri": "https://localhost:8080/"
        },
        "id": "NsE--dZhqcHx",
        "outputId": "a2c6bfa1-964b-4f6a-d5b0-c459263d99ab"
      },
      "execution_count": 65,
      "outputs": [
        {
          "output_type": "execute_result",
          "data": {
            "text/plain": [
              "array([-0.24391511, -0.33106752,  0.74031714,  1.78099542, -0.01325661,\n",
              "        1.37698019, -0.03263715, -0.29380911, -1.2624801 , -0.04873163,\n",
              "       -2.07962107, -0.29645444,  0.06573284, -2.42399011,  0.21494757,\n",
              "        0.90889975,  0.24403674, -0.26278038,  0.30467468, -0.04985319,\n",
              "        0.59602257])"
            ]
          },
          "metadata": {},
          "execution_count": 65
        }
      ]
    },
    {
      "cell_type": "code",
      "source": [
        "from sklearn.metrics import mean_absolute_error,mean_squared_error\n",
        "mae = mean_absolute_error(y_true=Y_test,y_pred=y_pred)\n",
        "#squared True returns MSE value, False returns RMSE value.\n",
        "mse = mean_squared_error(y_true=Y_test,y_pred=y_pred) #default=True\n",
        "rmse = mean_squared_error(y_true=Y_test,y_pred=y_pred,squared=False)\n",
        "  \n",
        "print(\"MAE:\",mae)\n",
        "print(\"MSE:\",mse)\n",
        "print(\"RMSE:\",rmse)"
      ],
      "metadata": {
        "colab": {
          "base_uri": "https://localhost:8080/"
        },
        "id": "2WaZIXLdrFwW",
        "outputId": "410c5414-9724-432a-85cd-b67e14ac197c"
      },
      "execution_count": 66,
      "outputs": [
        {
          "output_type": "stream",
          "name": "stdout",
          "text": [
            "MAE: 4555584.887067584\n",
            "MSE: 6723707537123883.0\n",
            "RMSE: 81998216.67038792\n"
          ]
        }
      ]
    },
    {
      "cell_type": "code",
      "source": [
        "print(\"R2_score\",r2_score(Y_test,y_pred))"
      ],
      "metadata": {
        "colab": {
          "base_uri": "https://localhost:8080/"
        },
        "id": "2Mx48WDEqd8b",
        "outputId": "7cd01e6a-0caa-4d1f-a11a-ac0f34ff3c12"
      },
      "execution_count": 67,
      "outputs": [
        {
          "output_type": "stream",
          "name": "stdout",
          "text": [
            "R2_score -2700317622594530.0\n"
          ]
        }
      ]
    },
    {
      "cell_type": "code",
      "source": [],
      "metadata": {
        "id": "YxPMD8vStV9O"
      },
      "execution_count": null,
      "outputs": []
    }
  ]
}